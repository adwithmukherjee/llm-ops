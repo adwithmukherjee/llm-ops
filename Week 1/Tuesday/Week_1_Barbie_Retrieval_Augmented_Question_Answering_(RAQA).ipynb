{
  "nbformat": 4,
  "nbformat_minor": 0,
  "metadata": {
    "colab": {
      "provenance": []
    },
    "kernelspec": {
      "name": "python3",
      "display_name": "Python 3"
    },
    "language_info": {
      "name": "python"
    }
  },
  "cells": [
    {
      "cell_type": "markdown",
      "source": [
        ">### Why RAQA and not RAG?\n",
        ">If we look at the original [paper](https://arxiv.org/abs/2005.11401), we find that RAG is a fairly specific and well defined term that isn't exactly the same as \"retrieve context, feed context to model in the prompt\".\n",
        ">For that reason, we're making the decision to delineate between \"actual\" RAG, and Retrieval Augmented Question Answering - which is not a well defined phrase."
      ],
      "metadata": {
        "id": "_BBraMxjrwOx"
      }
    },
    {
      "cell_type": "markdown",
      "source": [
        "# Questioning Barbie Reviews with RAQA (Retrieval Augmented Question Answering)\n",
        "\n",
        "In the following notebook, you are tasked with creating a system that answers questions based on information found in reviews of the 2023 Barbie movie.\n",
        "\n",
        "## Build 🏗️\n",
        "\n",
        "There are 3 main tasks in this notebook:\n",
        "\n",
        "1. Obtain and parse reviews from a review website\n",
        "2. Create a Vectorstore from the reviews\n",
        "3. Create a `RetrievalQA` using the VectorStore\n",
        "\n",
        "## Ship 🚢\n",
        "\n",
        "Create a Hugging Face Space that hosts your application.\n",
        "\n",
        "## Share 🚀\n",
        "\n",
        "Make a social media post about your final application."
      ],
      "metadata": {
        "id": "PLi09z_3qW8O"
      }
    },
    {
      "cell_type": "markdown",
      "source": [
        "### Pre-task Work\n",
        "\n",
        "All we really need to do to get started is to get our prerequisites!\n",
        "\n",
        "We'll be leveraging `langchain` and `openai` today.\n",
        "\n",
        "Check out the docs:\n",
        "- [LangChain](https://docs.langchain.com/docs/)\n",
        "- [OpenAI](https://github.com/openai/openai-python)"
      ],
      "metadata": {
        "id": "zcL8585DsZML"
      }
    },
    {
      "cell_type": "code",
      "source": [
        "import os\n",
        "import getpass\n",
        "\n",
        "os.environ[\"OPENAI_API_KEY\"] = \"\""
      ],
      "metadata": {
        "id": "1wF8_ODX5h-P"
      },
      "execution_count": null,
      "outputs": []
    },
    {
      "cell_type": "code",
      "execution_count": null,
      "metadata": {
        "id": "vQa6rjDLqPCI",
        "outputId": "b1c98dda-cbb2-475f-fba7-5aae96fb7a0d",
        "colab": {
          "base_uri": "https://localhost:8080/"
        }
      },
      "outputs": [
        {
          "output_type": "stream",
          "name": "stdout",
          "text": [
            "\u001b[2K     \u001b[90m━━━━━━━━━━━━━━━━━━━━━━━━━━━━━━━━━━━━━━━━\u001b[0m \u001b[32m73.6/73.6 kB\u001b[0m \u001b[31m1.1 MB/s\u001b[0m eta \u001b[36m0:00:00\u001b[0m\n",
            "\u001b[2K     \u001b[90m━━━━━━━━━━━━━━━━━━━━━━━━━━━━━━━━━━━━━━━━\u001b[0m \u001b[32m1.5/1.5 MB\u001b[0m \u001b[31m24.2 MB/s\u001b[0m eta \u001b[36m0:00:00\u001b[0m\n",
            "\u001b[2K     \u001b[90m━━━━━━━━━━━━━━━━━━━━━━━━━━━━━━━━━━━━━━━━\u001b[0m \u001b[32m49.4/49.4 kB\u001b[0m \u001b[31m5.0 MB/s\u001b[0m eta \u001b[36m0:00:00\u001b[0m\n",
            "\u001b[?25h"
          ]
        }
      ],
      "source": [
        "!pip install -q -U openai langchain"
      ]
    },
    {
      "cell_type": "markdown",
      "source": [
        "### Task 1: Data Preparation\n",
        "\n",
        "In this task we'll be collecting, and then parsing, our data."
      ],
      "metadata": {
        "id": "FLrL342RtWxf"
      }
    },
    {
      "cell_type": "markdown",
      "source": [
        "#### Scraping IMDB Reviews of Barbie\n",
        "\n",
        "We'll use some Selenium based trickery to get the reviews we need to make our application.\n",
        "\n",
        "Check out the docs here:\n",
        "- [Selenium](https://www.selenium.dev/documentation/)"
      ],
      "metadata": {
        "id": "zh8QTtMhzY_g"
      }
    },
    {
      "cell_type": "code",
      "source": [
        "!pip install -q -U requests"
      ],
      "metadata": {
        "id": "PsGPV2zHuCj2"
      },
      "execution_count": null,
      "outputs": []
    },
    {
      "cell_type": "code",
      "source": [
        "!pip install -q -U scrapy selenium"
      ],
      "metadata": {
        "colab": {
          "base_uri": "https://localhost:8080/"
        },
        "id": "uCNCZdzrw81B",
        "outputId": "7b15e0ed-c919-4f6e-8d7b-515d4e53a7fb"
      },
      "execution_count": null,
      "outputs": [
        {
          "output_type": "stream",
          "name": "stdout",
          "text": [
            "\u001b[2K     \u001b[90m━━━━━━━━━━━━━━━━━━━━━━━━━━━━━━━━━━━━━━━\u001b[0m \u001b[32m281.4/281.4 kB\u001b[0m \u001b[31m4.1 MB/s\u001b[0m eta \u001b[36m0:00:00\u001b[0m\n",
            "\u001b[2K     \u001b[90m━━━━━━━━━━━━━━━━━━━━━━━━━━━━━━━━━━━━━━━━\u001b[0m \u001b[32m7.2/7.2 MB\u001b[0m \u001b[31m83.0 MB/s\u001b[0m eta \u001b[36m0:00:00\u001b[0m\n",
            "\u001b[2K     \u001b[90m━━━━━━━━━━━━━━━━━━━━━━━━━━━━━━━━━━━━━━━━\u001b[0m \u001b[32m3.1/3.1 MB\u001b[0m \u001b[31m48.5 MB/s\u001b[0m eta \u001b[36m0:00:00\u001b[0m\n",
            "\u001b[2K     \u001b[90m━━━━━━━━━━━━━━━━━━━━━━━━━━━━━━━━━━━━━━\u001b[0m \u001b[32m247.0/247.0 kB\u001b[0m \u001b[31m20.9 MB/s\u001b[0m eta \u001b[36m0:00:00\u001b[0m\n",
            "\u001b[2K     \u001b[90m━━━━━━━━━━━━━━━━━━━━━━━━━━━━━━━━━━━━━━━━\u001b[0m \u001b[32m93.3/93.3 kB\u001b[0m \u001b[31m8.2 MB/s\u001b[0m eta \u001b[36m0:00:00\u001b[0m\n",
            "\u001b[2K     \u001b[90m━━━━━━━━━━━━━━━━━━━━━━━━━━━━━━━━━━━━━━\u001b[0m \u001b[32m400.2/400.2 kB\u001b[0m \u001b[31m16.6 MB/s\u001b[0m eta \u001b[36m0:00:00\u001b[0m\n",
            "\u001b[2K     \u001b[90m━━━━━━━━━━━━━━━━━━━━━━━━━━━━━━━━━━━━━━━━\u001b[0m \u001b[32m74.6/74.6 kB\u001b[0m \u001b[31m7.2 MB/s\u001b[0m eta \u001b[36m0:00:00\u001b[0m\n",
            "\u001b[2K     \u001b[90m━━━━━━━━━━━━━━━━━━━━━━━━━━━━━━━━━━━━━━━━\u001b[0m \u001b[32m58.3/58.3 kB\u001b[0m \u001b[31m4.3 MB/s\u001b[0m eta \u001b[36m0:00:00\u001b[0m\n",
            "\u001b[?25h"
          ]
        }
      ]
    },
    {
      "cell_type": "code",
      "source": [
        "!apt install chromium-chromedriver"
      ],
      "metadata": {
        "id": "evZzjyX6xTbZ",
        "colab": {
          "base_uri": "https://localhost:8080/"
        },
        "outputId": "fa3b5992-d0dc-486e-f6ac-2e86a14e73fa"
      },
      "execution_count": null,
      "outputs": [
        {
          "output_type": "stream",
          "name": "stdout",
          "text": [
            "Reading package lists... Done\n",
            "Building dependency tree... Done\n",
            "Reading state information... Done\n",
            "The following additional packages will be installed:\n",
            "  apparmor chromium-browser libfuse3-3 liblzo2-2 snapd squashfs-tools\n",
            "  systemd-hwe-hwdb udev\n",
            "Suggested packages:\n",
            "  apparmor-profiles-extra apparmor-utils fuse3 zenity | kdialog\n",
            "The following NEW packages will be installed:\n",
            "  apparmor chromium-browser chromium-chromedriver libfuse3-3 liblzo2-2 snapd\n",
            "  squashfs-tools systemd-hwe-hwdb udev\n",
            "0 upgraded, 9 newly installed, 0 to remove and 16 not upgraded.\n",
            "Need to get 26.3 MB of archives.\n",
            "After this operation, 116 MB of additional disk space will be used.\n",
            "Get:1 http://archive.ubuntu.com/ubuntu jammy-updates/main amd64 apparmor amd64 3.0.4-2ubuntu2.2 [595 kB]\n",
            "Get:2 http://archive.ubuntu.com/ubuntu jammy/main amd64 liblzo2-2 amd64 2.10-2build3 [53.7 kB]\n",
            "Get:3 http://archive.ubuntu.com/ubuntu jammy/main amd64 squashfs-tools amd64 1:4.5-3build1 [159 kB]\n",
            "Get:4 http://archive.ubuntu.com/ubuntu jammy-updates/main amd64 udev amd64 249.11-0ubuntu3.9 [1,557 kB]\n",
            "Get:5 http://archive.ubuntu.com/ubuntu jammy/main amd64 libfuse3-3 amd64 3.10.5-1build1 [81.2 kB]\n",
            "Get:6 http://archive.ubuntu.com/ubuntu jammy-updates/main amd64 snapd amd64 2.58+22.04.1 [23.8 MB]\n",
            "Get:7 http://archive.ubuntu.com/ubuntu jammy-updates/universe amd64 chromium-browser amd64 1:85.0.4183.83-0ubuntu2.22.04.1 [49.2 kB]\n",
            "Get:8 http://archive.ubuntu.com/ubuntu jammy-updates/universe amd64 chromium-chromedriver amd64 1:85.0.4183.83-0ubuntu2.22.04.1 [2,308 B]\n",
            "Get:9 http://archive.ubuntu.com/ubuntu jammy-updates/main amd64 systemd-hwe-hwdb all 249.11.3 [2,908 B]\n",
            "Fetched 26.3 MB in 2s (13.2 MB/s)\n",
            "Preconfiguring packages ...\n",
            "Selecting previously unselected package apparmor.\n",
            "(Reading database ... 120831 files and directories currently installed.)\n",
            "Preparing to unpack .../0-apparmor_3.0.4-2ubuntu2.2_amd64.deb ...\n",
            "Unpacking apparmor (3.0.4-2ubuntu2.2) ...\n",
            "Selecting previously unselected package liblzo2-2:amd64.\n",
            "Preparing to unpack .../1-liblzo2-2_2.10-2build3_amd64.deb ...\n",
            "Unpacking liblzo2-2:amd64 (2.10-2build3) ...\n",
            "Selecting previously unselected package squashfs-tools.\n",
            "Preparing to unpack .../2-squashfs-tools_1%3a4.5-3build1_amd64.deb ...\n",
            "Unpacking squashfs-tools (1:4.5-3build1) ...\n",
            "Selecting previously unselected package udev.\n",
            "Preparing to unpack .../3-udev_249.11-0ubuntu3.9_amd64.deb ...\n",
            "Unpacking udev (249.11-0ubuntu3.9) ...\n",
            "Selecting previously unselected package libfuse3-3:amd64.\n",
            "Preparing to unpack .../4-libfuse3-3_3.10.5-1build1_amd64.deb ...\n",
            "Unpacking libfuse3-3:amd64 (3.10.5-1build1) ...\n",
            "Selecting previously unselected package snapd.\n",
            "Preparing to unpack .../5-snapd_2.58+22.04.1_amd64.deb ...\n",
            "Unpacking snapd (2.58+22.04.1) ...\n",
            "Setting up apparmor (3.0.4-2ubuntu2.2) ...\n",
            "Created symlink /etc/systemd/system/sysinit.target.wants/apparmor.service → /lib/systemd/system/apparmor.service.\n",
            "Setting up liblzo2-2:amd64 (2.10-2build3) ...\n",
            "Setting up squashfs-tools (1:4.5-3build1) ...\n",
            "Setting up udev (249.11-0ubuntu3.9) ...\n",
            "invoke-rc.d: could not determine current runlevel\n",
            "invoke-rc.d: policy-rc.d denied execution of start.\n",
            "Setting up libfuse3-3:amd64 (3.10.5-1build1) ...\n",
            "Setting up snapd (2.58+22.04.1) ...\n",
            "Created symlink /etc/systemd/system/multi-user.target.wants/snapd.aa-prompt-listener.service → /lib/systemd/system/snapd.aa-prompt-listener.service.\n",
            "Created symlink /etc/systemd/system/multi-user.target.wants/snapd.apparmor.service → /lib/systemd/system/snapd.apparmor.service.\n",
            "Created symlink /etc/systemd/system/multi-user.target.wants/snapd.autoimport.service → /lib/systemd/system/snapd.autoimport.service.\n",
            "Created symlink /etc/systemd/system/multi-user.target.wants/snapd.core-fixup.service → /lib/systemd/system/snapd.core-fixup.service.\n",
            "Created symlink /etc/systemd/system/multi-user.target.wants/snapd.recovery-chooser-trigger.service → /lib/systemd/system/snapd.recovery-chooser-trigger.service.\n",
            "Created symlink /etc/systemd/system/multi-user.target.wants/snapd.seeded.service → /lib/systemd/system/snapd.seeded.service.\n",
            "Created symlink /etc/systemd/system/cloud-final.service.wants/snapd.seeded.service → /lib/systemd/system/snapd.seeded.service.\n",
            "Unit /lib/systemd/system/snapd.seeded.service is added as a dependency to a non-existent unit cloud-final.service.\n",
            "Created symlink /etc/systemd/system/multi-user.target.wants/snapd.service → /lib/systemd/system/snapd.service.\n",
            "Created symlink /etc/systemd/system/timers.target.wants/snapd.snap-repair.timer → /lib/systemd/system/snapd.snap-repair.timer.\n",
            "Created symlink /etc/systemd/system/sockets.target.wants/snapd.socket → /lib/systemd/system/snapd.socket.\n",
            "Created symlink /etc/systemd/system/final.target.wants/snapd.system-shutdown.service → /lib/systemd/system/snapd.system-shutdown.service.\n",
            "Selecting previously unselected package chromium-browser.\n",
            "(Reading database ... 121271 files and directories currently installed.)\n",
            "Preparing to unpack .../chromium-browser_1%3a85.0.4183.83-0ubuntu2.22.04.1_amd64.deb ...\n",
            "=> Installing the chromium snap\n",
            "==> Checking connectivity with the snap store\n",
            "===> System doesn't have a working snapd, skipping\n",
            "Unpacking chromium-browser (1:85.0.4183.83-0ubuntu2.22.04.1) ...\n",
            "Selecting previously unselected package chromium-chromedriver.\n",
            "Preparing to unpack .../chromium-chromedriver_1%3a85.0.4183.83-0ubuntu2.22.04.1_amd64.deb ...\n",
            "Unpacking chromium-chromedriver (1:85.0.4183.83-0ubuntu2.22.04.1) ...\n",
            "Selecting previously unselected package systemd-hwe-hwdb.\n",
            "Preparing to unpack .../systemd-hwe-hwdb_249.11.3_all.deb ...\n",
            "Unpacking systemd-hwe-hwdb (249.11.3) ...\n",
            "Setting up systemd-hwe-hwdb (249.11.3) ...\n",
            "Setting up chromium-browser (1:85.0.4183.83-0ubuntu2.22.04.1) ...\n",
            "update-alternatives: using /usr/bin/chromium-browser to provide /usr/bin/x-www-browser (x-www-browser) in auto mode\n",
            "update-alternatives: using /usr/bin/chromium-browser to provide /usr/bin/gnome-www-browser (gnome-www-browser) in auto mode\n",
            "Setting up chromium-chromedriver (1:85.0.4183.83-0ubuntu2.22.04.1) ...\n",
            "Processing triggers for udev (249.11-0ubuntu3.9) ...\n",
            "Processing triggers for hicolor-icon-theme (0.17-2) ...\n",
            "Processing triggers for libc-bin (2.35-0ubuntu3.1) ...\n",
            "/sbin/ldconfig.real: /usr/local/lib/libtbbmalloc.so.2 is not a symbolic link\n",
            "\n",
            "/sbin/ldconfig.real: /usr/local/lib/libtbbbind_2_5.so.3 is not a symbolic link\n",
            "\n",
            "/sbin/ldconfig.real: /usr/local/lib/libtbbmalloc_proxy.so.2 is not a symbolic link\n",
            "\n",
            "/sbin/ldconfig.real: /usr/local/lib/libtbbbind.so.3 is not a symbolic link\n",
            "\n",
            "/sbin/ldconfig.real: /usr/local/lib/libtbb.so.12 is not a symbolic link\n",
            "\n",
            "/sbin/ldconfig.real: /usr/local/lib/libtbbbind_2_0.so.3 is not a symbolic link\n",
            "\n",
            "Processing triggers for man-db (2.10.2-1) ...\n",
            "Processing triggers for dbus (1.12.20-2ubuntu4.1) ...\n"
          ]
        }
      ]
    },
    {
      "cell_type": "code",
      "source": [
        "import numpy as np\n",
        "import pandas as pd\n",
        "from scrapy.selector import Selector\n",
        "from selenium import webdriver\n",
        "from selenium.webdriver.common.by import By\n",
        "from selenium.webdriver.common.keys import Keys\n",
        "import time\n",
        "from tqdm import tqdm\n",
        "import warnings\n",
        "warnings.filterwarnings(\"ignore\")"
      ],
      "metadata": {
        "id": "Niq6DKMOwPIn"
      },
      "execution_count": null,
      "outputs": []
    },
    {
      "cell_type": "code",
      "source": [
        "chrome_options = webdriver.ChromeOptions()\n",
        "chrome_options.add_argument('--headless')\n",
        "chrome_options.add_argument('--no-sandbox')\n",
        "chrome_options.add_argument('--disable-dev-shm-usage')\n",
        "driver = webdriver.Chrome(options=chrome_options)"
      ],
      "metadata": {
        "id": "k9AA_f-DxGyv"
      },
      "execution_count": null,
      "outputs": []
    },
    {
      "cell_type": "code",
      "source": [
        "url = \"https://www.imdb.com/title/tt1517268/reviews/?ref_=tt_ov_rt\"\n",
        "driver.get(url)"
      ],
      "metadata": {
        "id": "IsjYL7K_y1ip"
      },
      "execution_count": null,
      "outputs": []
    },
    {
      "cell_type": "code",
      "source": [
        "sel = Selector(text = driver.page_source)\n",
        "review_counts = sel.css('.lister .header span::text').extract_first().replace(',','').split(' ')[0]\n",
        "more_review_pages = int(int(review_counts)/25)"
      ],
      "metadata": {
        "id": "XPGysdwuy190"
      },
      "execution_count": null,
      "outputs": []
    },
    {
      "cell_type": "code",
      "source": [
        "for i in tqdm(range(more_review_pages)):\n",
        "    try:\n",
        "        css_selector = 'load-more-trigger'\n",
        "        driver.find_element(By.ID, css_selector).click()\n",
        "    except:\n",
        "        pass"
      ],
      "metadata": {
        "colab": {
          "base_uri": "https://localhost:8080/"
        },
        "id": "eGSJ0vuDy4D2",
        "outputId": "9f7ac2be-861e-4959-d46f-54a5965bf493"
      },
      "execution_count": null,
      "outputs": [
        {
          "output_type": "stream",
          "name": "stderr",
          "text": [
            "100%|██████████| 46/46 [00:05<00:00,  8.52it/s]\n"
          ]
        }
      ]
    },
    {
      "cell_type": "code",
      "source": [
        "rating_list = []\n",
        "review_date_list = []\n",
        "review_title_list = []\n",
        "author_list = []\n",
        "review_list = []\n",
        "review_url_list = []\n",
        "error_url_list = []\n",
        "error_msg_list = []\n",
        "reviews = driver.find_elements(By.CSS_SELECTOR, 'div.review-container')\n",
        "\n",
        "for d in tqdm(reviews):\n",
        "    try:\n",
        "        sel2 = Selector(text = d.get_attribute('innerHTML'))\n",
        "        try:\n",
        "            rating = sel2.css('.rating-other-user-rating span::text').extract_first()\n",
        "        except:\n",
        "            rating = np.NaN\n",
        "        try:\n",
        "            review = sel2.css('.text.show-more__control::text').extract_first()\n",
        "        except:\n",
        "            review = np.NaN\n",
        "        try:\n",
        "            review_date = sel2.css('.review-date::text').extract_first()\n",
        "        except:\n",
        "            review_date = np.NaN\n",
        "        try:\n",
        "            author = sel2.css('.display-name-link a::text').extract_first()\n",
        "        except:\n",
        "            author = np.NaN\n",
        "        try:\n",
        "            review_title = sel2.css('a.title::text').extract_first()\n",
        "        except:\n",
        "            review_title = np.NaN\n",
        "        try:\n",
        "            review_url = sel2.css('a.title::attr(href)').extract_first()\n",
        "        except:\n",
        "            review_url = np.NaN\n",
        "        rating_list.append(rating)\n",
        "        review_date_list.append(review_date)\n",
        "        review_title_list.append(review_title)\n",
        "        author_list.append(author)\n",
        "        review_list.append(review)\n",
        "        review_url_list.append(review_url)\n",
        "    except Exception as e:\n",
        "        error_url_list.append(url)\n",
        "        error_msg_list.append(e)\n",
        "review_df = pd.DataFrame({\n",
        "    'Review_Date':review_date_list,\n",
        "    'Author':author_list,\n",
        "    'Rating':rating_list,\n",
        "    'Review_Title':review_title_list,\n",
        "    'Review':review_list,\n",
        "    'Review_Url':review_url\n",
        "    })"
      ],
      "metadata": {
        "colab": {
          "base_uri": "https://localhost:8080/"
        },
        "id": "c46cAciBxr2C",
        "outputId": "fcb029a9-63af-499d-92a0-c4593dc6e1ac"
      },
      "execution_count": null,
      "outputs": [
        {
          "output_type": "stream",
          "name": "stderr",
          "text": [
            "100%|██████████| 225/225 [00:05<00:00, 43.70it/s]\n"
          ]
        }
      ]
    },
    {
      "cell_type": "code",
      "source": [
        "review_df"
      ],
      "metadata": {
        "id": "W9A0C1tbyfuh",
        "colab": {
          "base_uri": "https://localhost:8080/",
          "height": 597
        },
        "outputId": "9ad597a1-fb59-474a-8184-305ed548a740"
      },
      "execution_count": null,
      "outputs": [
        {
          "output_type": "execute_result",
          "data": {
            "text/plain": [
              "      Review_Date           Author Rating  \\\n",
              "0    21 July 2023     LoveofLegacy      6   \n",
              "1    22 July 2023           imseeg      7   \n",
              "2    22 July 2023         Natcat87      6   \n",
              "3    31 July 2023        ramair350     10   \n",
              "4    24 July 2023   heatherhilgers      9   \n",
              "..            ...              ...    ...   \n",
              "220  23 July 2023       shaymalloy     10   \n",
              "221  20 July 2023  waltermwilliams      7   \n",
              "222  26 July 2023         cruise01      9   \n",
              "223  28 July 2023       ChipGard95      6   \n",
              "224  25 July 2023  fallenwthyou217     10   \n",
              "\n",
              "                                          Review_Title  \\\n",
              "0                     Beautiful film, but so preachy\\n   \n",
              "1      3 reasons FOR seeing it and 1 reason AGAINST.\\n   \n",
              "2                                   Too heavy handed\\n   \n",
              "3     As a guy I felt some discomfort, and that's o...   \n",
              "4                                A Technicolor Dream\\n   \n",
              "..                                                 ...   \n",
              "220                         An Elf-like work of art.\\n   \n",
              "221                             What Walt's Watching\\n   \n",
              "222     Flash weird fun that surpasses expectations.\\n   \n",
              "223                                       Very mixed\\n   \n",
              "224                 The movie I didn't know I needed\\n   \n",
              "\n",
              "                                                Review  \\\n",
              "0    Margot does the best with what she's given, bu...   \n",
              "1                       The first reason to go see it:   \n",
              "2    As a woman that grew up with Barbie, I was ver...   \n",
              "3    As much as it pains me to give a movie called ...   \n",
              "4    Wow, this movie was a love letter to cinema. F...   \n",
              "..                                                 ...   \n",
              "220  My husband asked me to compare this to somethi...   \n",
              "221  \"Barbie\" the movie must be a dream come true f...   \n",
              "222                                4.5 out of 5 stars.   \n",
              "223  The start was a wonderfully fun look at Barbie...   \n",
              "224  This movie was everything I didn't know I need...   \n",
              "\n",
              "                         Review_Url  \n",
              "0    /review/rw9213569/?ref_=tt_urv  \n",
              "1    /review/rw9213569/?ref_=tt_urv  \n",
              "2    /review/rw9213569/?ref_=tt_urv  \n",
              "3    /review/rw9213569/?ref_=tt_urv  \n",
              "4    /review/rw9213569/?ref_=tt_urv  \n",
              "..                              ...  \n",
              "220  /review/rw9213569/?ref_=tt_urv  \n",
              "221  /review/rw9213569/?ref_=tt_urv  \n",
              "222  /review/rw9213569/?ref_=tt_urv  \n",
              "223  /review/rw9213569/?ref_=tt_urv  \n",
              "224  /review/rw9213569/?ref_=tt_urv  \n",
              "\n",
              "[225 rows x 6 columns]"
            ],
            "text/html": [
              "\n",
              "  <div id=\"df-4126b9b8-e25c-4678-9832-8115b2b76162\" class=\"colab-df-container\">\n",
              "    <div>\n",
              "<style scoped>\n",
              "    .dataframe tbody tr th:only-of-type {\n",
              "        vertical-align: middle;\n",
              "    }\n",
              "\n",
              "    .dataframe tbody tr th {\n",
              "        vertical-align: top;\n",
              "    }\n",
              "\n",
              "    .dataframe thead th {\n",
              "        text-align: right;\n",
              "    }\n",
              "</style>\n",
              "<table border=\"1\" class=\"dataframe\">\n",
              "  <thead>\n",
              "    <tr style=\"text-align: right;\">\n",
              "      <th></th>\n",
              "      <th>Review_Date</th>\n",
              "      <th>Author</th>\n",
              "      <th>Rating</th>\n",
              "      <th>Review_Title</th>\n",
              "      <th>Review</th>\n",
              "      <th>Review_Url</th>\n",
              "    </tr>\n",
              "  </thead>\n",
              "  <tbody>\n",
              "    <tr>\n",
              "      <th>0</th>\n",
              "      <td>21 July 2023</td>\n",
              "      <td>LoveofLegacy</td>\n",
              "      <td>6</td>\n",
              "      <td>Beautiful film, but so preachy\\n</td>\n",
              "      <td>Margot does the best with what she's given, bu...</td>\n",
              "      <td>/review/rw9213569/?ref_=tt_urv</td>\n",
              "    </tr>\n",
              "    <tr>\n",
              "      <th>1</th>\n",
              "      <td>22 July 2023</td>\n",
              "      <td>imseeg</td>\n",
              "      <td>7</td>\n",
              "      <td>3 reasons FOR seeing it and 1 reason AGAINST.\\n</td>\n",
              "      <td>The first reason to go see it:</td>\n",
              "      <td>/review/rw9213569/?ref_=tt_urv</td>\n",
              "    </tr>\n",
              "    <tr>\n",
              "      <th>2</th>\n",
              "      <td>22 July 2023</td>\n",
              "      <td>Natcat87</td>\n",
              "      <td>6</td>\n",
              "      <td>Too heavy handed\\n</td>\n",
              "      <td>As a woman that grew up with Barbie, I was ver...</td>\n",
              "      <td>/review/rw9213569/?ref_=tt_urv</td>\n",
              "    </tr>\n",
              "    <tr>\n",
              "      <th>3</th>\n",
              "      <td>31 July 2023</td>\n",
              "      <td>ramair350</td>\n",
              "      <td>10</td>\n",
              "      <td>As a guy I felt some discomfort, and that's o...</td>\n",
              "      <td>As much as it pains me to give a movie called ...</td>\n",
              "      <td>/review/rw9213569/?ref_=tt_urv</td>\n",
              "    </tr>\n",
              "    <tr>\n",
              "      <th>4</th>\n",
              "      <td>24 July 2023</td>\n",
              "      <td>heatherhilgers</td>\n",
              "      <td>9</td>\n",
              "      <td>A Technicolor Dream\\n</td>\n",
              "      <td>Wow, this movie was a love letter to cinema. F...</td>\n",
              "      <td>/review/rw9213569/?ref_=tt_urv</td>\n",
              "    </tr>\n",
              "    <tr>\n",
              "      <th>...</th>\n",
              "      <td>...</td>\n",
              "      <td>...</td>\n",
              "      <td>...</td>\n",
              "      <td>...</td>\n",
              "      <td>...</td>\n",
              "      <td>...</td>\n",
              "    </tr>\n",
              "    <tr>\n",
              "      <th>220</th>\n",
              "      <td>23 July 2023</td>\n",
              "      <td>shaymalloy</td>\n",
              "      <td>10</td>\n",
              "      <td>An Elf-like work of art.\\n</td>\n",
              "      <td>My husband asked me to compare this to somethi...</td>\n",
              "      <td>/review/rw9213569/?ref_=tt_urv</td>\n",
              "    </tr>\n",
              "    <tr>\n",
              "      <th>221</th>\n",
              "      <td>20 July 2023</td>\n",
              "      <td>waltermwilliams</td>\n",
              "      <td>7</td>\n",
              "      <td>What Walt's Watching\\n</td>\n",
              "      <td>\"Barbie\" the movie must be a dream come true f...</td>\n",
              "      <td>/review/rw9213569/?ref_=tt_urv</td>\n",
              "    </tr>\n",
              "    <tr>\n",
              "      <th>222</th>\n",
              "      <td>26 July 2023</td>\n",
              "      <td>cruise01</td>\n",
              "      <td>9</td>\n",
              "      <td>Flash weird fun that surpasses expectations.\\n</td>\n",
              "      <td>4.5 out of 5 stars.</td>\n",
              "      <td>/review/rw9213569/?ref_=tt_urv</td>\n",
              "    </tr>\n",
              "    <tr>\n",
              "      <th>223</th>\n",
              "      <td>28 July 2023</td>\n",
              "      <td>ChipGard95</td>\n",
              "      <td>6</td>\n",
              "      <td>Very mixed\\n</td>\n",
              "      <td>The start was a wonderfully fun look at Barbie...</td>\n",
              "      <td>/review/rw9213569/?ref_=tt_urv</td>\n",
              "    </tr>\n",
              "    <tr>\n",
              "      <th>224</th>\n",
              "      <td>25 July 2023</td>\n",
              "      <td>fallenwthyou217</td>\n",
              "      <td>10</td>\n",
              "      <td>The movie I didn't know I needed\\n</td>\n",
              "      <td>This movie was everything I didn't know I need...</td>\n",
              "      <td>/review/rw9213569/?ref_=tt_urv</td>\n",
              "    </tr>\n",
              "  </tbody>\n",
              "</table>\n",
              "<p>225 rows × 6 columns</p>\n",
              "</div>\n",
              "    <div class=\"colab-df-buttons\">\n",
              "\n",
              "  <div class=\"colab-df-container\">\n",
              "    <button class=\"colab-df-convert\" onclick=\"convertToInteractive('df-4126b9b8-e25c-4678-9832-8115b2b76162')\"\n",
              "            title=\"Convert this dataframe to an interactive table.\"\n",
              "            style=\"display:none;\">\n",
              "\n",
              "  <svg xmlns=\"http://www.w3.org/2000/svg\" height=\"24px\" viewBox=\"0 -960 960 960\">\n",
              "    <path d=\"M120-120v-720h720v720H120Zm60-500h600v-160H180v160Zm220 220h160v-160H400v160Zm0 220h160v-160H400v160ZM180-400h160v-160H180v160Zm440 0h160v-160H620v160ZM180-180h160v-160H180v160Zm440 0h160v-160H620v160Z\"/>\n",
              "  </svg>\n",
              "    </button>\n",
              "\n",
              "  <style>\n",
              "    .colab-df-container {\n",
              "      display:flex;\n",
              "      gap: 12px;\n",
              "    }\n",
              "\n",
              "    .colab-df-convert {\n",
              "      background-color: #E8F0FE;\n",
              "      border: none;\n",
              "      border-radius: 50%;\n",
              "      cursor: pointer;\n",
              "      display: none;\n",
              "      fill: #1967D2;\n",
              "      height: 32px;\n",
              "      padding: 0 0 0 0;\n",
              "      width: 32px;\n",
              "    }\n",
              "\n",
              "    .colab-df-convert:hover {\n",
              "      background-color: #E2EBFA;\n",
              "      box-shadow: 0px 1px 2px rgba(60, 64, 67, 0.3), 0px 1px 3px 1px rgba(60, 64, 67, 0.15);\n",
              "      fill: #174EA6;\n",
              "    }\n",
              "\n",
              "    .colab-df-buttons div {\n",
              "      margin-bottom: 4px;\n",
              "    }\n",
              "\n",
              "    [theme=dark] .colab-df-convert {\n",
              "      background-color: #3B4455;\n",
              "      fill: #D2E3FC;\n",
              "    }\n",
              "\n",
              "    [theme=dark] .colab-df-convert:hover {\n",
              "      background-color: #434B5C;\n",
              "      box-shadow: 0px 1px 3px 1px rgba(0, 0, 0, 0.15);\n",
              "      filter: drop-shadow(0px 1px 2px rgba(0, 0, 0, 0.3));\n",
              "      fill: #FFFFFF;\n",
              "    }\n",
              "  </style>\n",
              "\n",
              "    <script>\n",
              "      const buttonEl =\n",
              "        document.querySelector('#df-4126b9b8-e25c-4678-9832-8115b2b76162 button.colab-df-convert');\n",
              "      buttonEl.style.display =\n",
              "        google.colab.kernel.accessAllowed ? 'block' : 'none';\n",
              "\n",
              "      async function convertToInteractive(key) {\n",
              "        const element = document.querySelector('#df-4126b9b8-e25c-4678-9832-8115b2b76162');\n",
              "        const dataTable =\n",
              "          await google.colab.kernel.invokeFunction('convertToInteractive',\n",
              "                                                    [key], {});\n",
              "        if (!dataTable) return;\n",
              "\n",
              "        const docLinkHtml = 'Like what you see? Visit the ' +\n",
              "          '<a target=\"_blank\" href=https://colab.research.google.com/notebooks/data_table.ipynb>data table notebook</a>'\n",
              "          + ' to learn more about interactive tables.';\n",
              "        element.innerHTML = '';\n",
              "        dataTable['output_type'] = 'display_data';\n",
              "        await google.colab.output.renderOutput(dataTable, element);\n",
              "        const docLink = document.createElement('div');\n",
              "        docLink.innerHTML = docLinkHtml;\n",
              "        element.appendChild(docLink);\n",
              "      }\n",
              "    </script>\n",
              "  </div>\n",
              "\n",
              "\n",
              "<div id=\"df-a7963942-b058-47df-ba6c-fe795570524e\">\n",
              "  <button class=\"colab-df-quickchart\" onclick=\"quickchart('df-a7963942-b058-47df-ba6c-fe795570524e')\"\n",
              "            title=\"Suggest charts.\"\n",
              "            style=\"display:none;\">\n",
              "\n",
              "<svg xmlns=\"http://www.w3.org/2000/svg\" height=\"24px\"viewBox=\"0 0 24 24\"\n",
              "     width=\"24px\">\n",
              "    <g>\n",
              "        <path d=\"M19 3H5c-1.1 0-2 .9-2 2v14c0 1.1.9 2 2 2h14c1.1 0 2-.9 2-2V5c0-1.1-.9-2-2-2zM9 17H7v-7h2v7zm4 0h-2V7h2v10zm4 0h-2v-4h2v4z\"/>\n",
              "    </g>\n",
              "</svg>\n",
              "  </button>\n",
              "\n",
              "<style>\n",
              "  .colab-df-quickchart {\n",
              "    background-color: #E8F0FE;\n",
              "    border: none;\n",
              "    border-radius: 50%;\n",
              "    cursor: pointer;\n",
              "    display: none;\n",
              "    fill: #1967D2;\n",
              "    height: 32px;\n",
              "    padding: 0 0 0 0;\n",
              "    width: 32px;\n",
              "  }\n",
              "\n",
              "  .colab-df-quickchart:hover {\n",
              "    background-color: #E2EBFA;\n",
              "    box-shadow: 0px 1px 2px rgba(60, 64, 67, 0.3), 0px 1px 3px 1px rgba(60, 64, 67, 0.15);\n",
              "    fill: #174EA6;\n",
              "  }\n",
              "\n",
              "  [theme=dark] .colab-df-quickchart {\n",
              "    background-color: #3B4455;\n",
              "    fill: #D2E3FC;\n",
              "  }\n",
              "\n",
              "  [theme=dark] .colab-df-quickchart:hover {\n",
              "    background-color: #434B5C;\n",
              "    box-shadow: 0px 1px 3px 1px rgba(0, 0, 0, 0.15);\n",
              "    filter: drop-shadow(0px 1px 2px rgba(0, 0, 0, 0.3));\n",
              "    fill: #FFFFFF;\n",
              "  }\n",
              "</style>\n",
              "\n",
              "  <script>\n",
              "    async function quickchart(key) {\n",
              "      const charts = await google.colab.kernel.invokeFunction(\n",
              "          'suggestCharts', [key], {});\n",
              "    }\n",
              "    (() => {\n",
              "      let quickchartButtonEl =\n",
              "        document.querySelector('#df-a7963942-b058-47df-ba6c-fe795570524e button');\n",
              "      quickchartButtonEl.style.display =\n",
              "        google.colab.kernel.accessAllowed ? 'block' : 'none';\n",
              "    })();\n",
              "  </script>\n",
              "</div>\n",
              "    </div>\n",
              "  </div>\n"
            ]
          },
          "metadata": {},
          "execution_count": 13
        }
      ]
    },
    {
      "cell_type": "markdown",
      "source": [
        "Let's save this `pd.DataFrame` as a `.csv` to our local session (this will be terminated when you terminate the Colab session) so we can leverage it in LangChain!\n",
        "\n",
        "Check out the docs if you get stuck:\n",
        "- [`to_csv()`](https://pandas.pydata.org/docs/reference/api/pandas.DataFrame.to_csv.html)"
      ],
      "metadata": {
        "id": "9gHLLYflzw_f"
      }
    },
    {
      "cell_type": "code",
      "source": [
        "### YOUR CODE HERE\n",
        "review_df.to_csv(\"barbie.csv\")"
      ],
      "metadata": {
        "id": "N9FDhwbNz64p"
      },
      "execution_count": null,
      "outputs": []
    },
    {
      "cell_type": "markdown",
      "source": [
        "#### Data Parsing\n",
        "\n",
        "Now that we have our data - let's go ahead and start parsing it into a more usable format for LangChain!\n",
        "\n",
        "We'll be using the `CSVLoader` for this application.\n",
        "\n",
        "We also want to be sure to track the sources that our review came from!\n",
        "\n",
        "Check out the docs here:\n",
        "- [`CSVLoader`](https://python.langchain.com/docs/integrations/document_loaders/csv)"
      ],
      "metadata": {
        "id": "JtBD1H8ezNLO"
      }
    },
    {
      "cell_type": "code",
      "source": [
        "from langchain.document_loaders.csv_loader import CSVLoader"
      ],
      "metadata": {
        "id": "AdXub4CszAAt"
      },
      "execution_count": null,
      "outputs": []
    },
    {
      "cell_type": "code",
      "source": [
        "loader = CSVLoader(file_path=\"barbie.csv\", source_column=\"Review_Url\")\n",
        "\n",
        "data = loader.load()"
      ],
      "metadata": {
        "id": "piE3_eSi0KGC"
      },
      "execution_count": null,
      "outputs": []
    },
    {
      "cell_type": "code",
      "source": [
        "print(data)"
      ],
      "metadata": {
        "id": "pvxnyjgh0TRQ",
        "colab": {
          "base_uri": "https://localhost:8080/"
        },
        "outputId": "71acb468-f127-4cd8-e526-4bced879250b"
      },
      "execution_count": null,
      "outputs": [
        {
          "output_type": "stream",
          "name": "stdout",
          "text": [
            "[Document(page_content=': 0\\nReview_Date: 21 July 2023\\nAuthor: LoveofLegacy\\nRating: 6\\nReview_Title: Beautiful film, but so preachy\\nReview: Margot does the best with what she\\'s given, but this film was very disappointing to me. It was marketed as a fun, quirky satire with homages to other movies. It started that way, but ended with over-dramatized speeches and an ending that clearly tried to make the audience feel something, but left everyone just feeling confused. And before you say I\\'m a crotchety old man, I\\'m a woman in my 20s, so I\\'m pretty sure I\\'m this movie\\'s target audience. The saddest part is there were parents with their kids in the theater that were victims of the poor marketing, because this is not a kid\\'s movie. Overall, the humor was fun on occasion and the film is beautiful to look at, but the whole concept falls apart in the second half of the film and becomes a pity party for the \"strong\" woman.\\nReview_Url: /review/rw9213569/?ref_=tt_urv', metadata={'source': '/review/rw9213569/?ref_=tt_urv', 'row': 0}), Document(page_content=': 1\\nReview_Date: 22 July 2023\\nAuthor: imseeg\\nRating: 7\\nReview_Title: 3 reasons FOR seeing it and 1 reason AGAINST.\\nReview: The first reason to go see it:\\nReview_Url: /review/rw9213569/?ref_=tt_urv', metadata={'source': '/review/rw9213569/?ref_=tt_urv', 'row': 1}), Document(page_content=': 2\\nReview_Date: 22 July 2023\\nAuthor: Natcat87\\nRating: 6\\nReview_Title: Too heavy handed\\nReview: As a woman that grew up with Barbie, I was very excited for this movie. I was curious to see how they would evolve the \"stereotypical Barbie\" into something more. But the messaging in this movie was so heavy handed that it completely lost the plot. I consider myself a proponent of gender equality, and this ain\\'t the way to get it.\\nReview_Url: /review/rw9213569/?ref_=tt_urv', metadata={'source': '/review/rw9213569/?ref_=tt_urv', 'row': 2}), Document(page_content=': 3\\nReview_Date: 31 July 2023\\nAuthor: ramair350\\nRating: 10\\nReview_Title: As a guy I felt some discomfort, and that\\'s ok.\\nReview: As much as it pains me to give a movie called \"Barbie\" a 10 out of 10, I have to do so. It is so brilliantly handled and finely crafted, I have to give the filmakers credit. Yes, I am somewhat conservative person and former law enforcement officer. I\\'m a guy. I like guy things. Hell I even enjoyed the Battleship movie a few years ago (an absolutely ridiculous but fun romp of an action film). But I also like to experience other perspectives. And man oh man does this movie deliver that in spades - pretty much encapsulated everything my wife has tried to convey about her entire career and life experience wrapped up into two hours! The humor, the sets, the acting, and the ability to weave the current narrative into the story was just perfect. I don\\'t agree with some of the points of the movie, but again, that\\'s ok. This movie wasn\\'t designed to give a balanced perspective of men versus women; it is a no-holds-barred unapologetic crazy ride of a rant about the real issues that women have faced since they were \"allowed\" to have \"real jobs\" and do the same things as men. Give me a well done film that is a blast to watch, that makes you think, and that was done from a place of creativity, passion, and attention to detail, and I\\'ll call it what it is: a 10 out of 10 masterpiece.\\nReview_Url: /review/rw9213569/?ref_=tt_urv', metadata={'source': '/review/rw9213569/?ref_=tt_urv', 'row': 3}), Document(page_content=': 4\\nReview_Date: 24 July 2023\\nAuthor: heatherhilgers\\nRating: 9\\nReview_Title: A Technicolor Dream\\nReview: Wow, this movie was a love letter to cinema. From the Kubrick reference at the opening, to the soundstage being 100% real - no cgi for the sets. There were dance sequences like in the olden days (think Grease) and the costuming , wow the costuming. Greta Gerwig dug deep to make this masterpiece using all of her technical chops along the way. The casting director also nailed it, everyone was wonderful.\\nReview_Url: /review/rw9213569/?ref_=tt_urv', metadata={'source': '/review/rw9213569/?ref_=tt_urv', 'row': 4}), Document(page_content=\": 5\\nReview_Date: 21 July 2023\\nAuthor: G-Joshua-Benjamin\\nRating: 6\\nReview_Title: My mom and I saw this yesterday. Here are my thoughts.\\nReview: I don't know if I put spoilers in here. I am super worn out. Haha So I will just put that I did.\\nReview_Url: /review/rw9213569/?ref_=tt_urv\", metadata={'source': '/review/rw9213569/?ref_=tt_urv', 'row': 5}), Document(page_content=': 6\\nReview_Date: 21 July 2023\\nAuthor: Sleepin_Dragon\\nRating: 8\\nReview_Title: Well this really did come as a surprise.\\nReview: It pains me to say it, but I enjoyed this movie so much more then I was expecting to, musical numbers, humour, there truly is something for the whole family yo enjoy.\\nReview_Url: /review/rw9213569/?ref_=tt_urv', metadata={'source': '/review/rw9213569/?ref_=tt_urv', 'row': 6}), Document(page_content=': 7\\nReview_Date: 20 July 2023\\nAuthor: portraitofaladyonfire\\nRating: 6\\nReview_Title: Brilliant observations, but social depth is missing\\nReview: Greta Gerwig and Noah Baumbach have a knack for incorporating the many little observations of life, whether funny or deeply interpersonal, into a screenplay. Gerwig manages to direct them with great visuals and clever transitions.\\nReview_Url: /review/rw9213569/?ref_=tt_urv', metadata={'source': '/review/rw9213569/?ref_=tt_urv', 'row': 7}), Document(page_content=\": 8\\nReview_Date: 24 July 2023\\nAuthor: coxaneesa\\nRating: 8\\nReview_Title: It was depressing\\nReview: I thought this would be so much different. The ending made me feel sad and empty. Ken and Barbie don't end up together and they made Ken seem like a complete idiot. Actually they presented men as being dumb throughout the whole movie. And I'm not a man but that's just not true. It was depressing and sad and never the way Barbie was created for. I know a lot of people won't agree with me and that's okay but it was just pointless going to see it. The only good thing is that the Barbie aesthetic was beautifully done.\\nReview_Url: /review/rw9213569/?ref_=tt_urv\", metadata={'source': '/review/rw9213569/?ref_=tt_urv', 'row': 8}), Document(page_content=\": 9\\nReview_Date: 19 July 2023\\nAuthor: hamsterination\\nRating: 6\\nReview_Title: It could have been so much better...\\nReview: The film's universe and settings are fantastic. The casting is really good too, with Gosling excelling in the role of Ken.\\nReview_Url: /review/rw9213569/?ref_=tt_urv\", metadata={'source': '/review/rw9213569/?ref_=tt_urv', 'row': 9}), Document(page_content=': 10\\nReview_Date: 19 July 2023\\nAuthor: HabibieHakim123\\nRating: 8\\nReview_Title: Barbie Is A Weirdly Fun Movie!\\nReview: 8.5/10\\nWhile i\\'m not so sure at first, the movie kept getting even more fun, entertaining, and definitely better, also surprisingly deal with a legit serious stuff, Barbie is a weirdly fun movie that fills with this very interesting concept, definitely the first time that\\'s ever done, Greta Gerwig has created this whole new style of filmmaking specifically for Barbie, from the intentionally weird yet creative editing, some awkward and cringe scene, i found the comedy so funny instead of cringe, Barbie is one of the most original movie of the year and also one of the most original movie i\\'ve seen in a while, we all know Margot Robbie and Ryan Gosling is gonna carry the movie and they are, but Will Ferrell, Simu Liu, and the whole rest of the cast were also great and entertaining, the soundtrack was just great, except Nicki Minaj and Ice Spice \"Barbie World\" song that are just absolutely terrible, but Billie Eilish \"What Was I Made For?\" tune that kept haunting in the background until it finally get the perfect scene to played it was really the best thing because that song was just beautiful and emotional, anyway, Barbie is a lot of fun, while there is still some noticeable flawed, most of them i found it funny, entertaining, colourful, creative, and fun, pure fun, it\\'s something that i probably will love it even more the second time i see it, but as of right now, Barbie was a good time, definitely recommended and with this movie somehow it\\'s actually possible to have a live-action Barbie movie, all you need to have is a good writer, good director, and good cast, and they delivers mostly.\\nReview_Url: /review/rw9213569/?ref_=tt_urv', metadata={'source': '/review/rw9213569/?ref_=tt_urv', 'row': 10}), Document(page_content=\": 11\\nReview_Date: 20 July 2023\\nAuthor: fscsgxp\\nRating: 6\\nReview_Title: Amazing Cast & Set, but the political message was too strong\\nReview: I've been excited for this movie for over a year. The casting was perfect and the acting was amazing! The set was next level, the tiny details were all there and even the highest barbie fan couldn't ask for anything more from it. It is PERFECTION.\\nReview_Url: /review/rw9213569/?ref_=tt_urv\", metadata={'source': '/review/rw9213569/?ref_=tt_urv', 'row': 11}), Document(page_content=': 12\\nReview_Date: 20 July 2023\\nAuthor: MissSimonetta\\nRating: 4\\nReview_Title: The marketing was more entertaining than the actual movie\\nReview: I went to see this today, everyone in my group dressed in pink and ready to at least be entertained by pastel-colored camp for two hours. BARBIE kind of succeeds there: I loved the costuming and sets of Barbieland, and Margot Robie is such a fantastic actress, the perfect embodiment of the optimistic, she-can-do-it-all Barbie. Ryan Gosling was a scene-stealer with his horse obsession and faux mink coat.\\nReview_Url: /review/rw9213569/?ref_=tt_urv', metadata={'source': '/review/rw9213569/?ref_=tt_urv', 'row': 12}), Document(page_content=': 13\\nReview_Date: 19 July 2023\\nAuthor: jpismyname\\nRating: 8\\nReview_Title: Fun and surprisingly touching\\nReview: I was honestly doubting this movie at first, but surprisingly I find myself really liking it quite a lot.\\nReview_Url: /review/rw9213569/?ref_=tt_urv', metadata={'source': '/review/rw9213569/?ref_=tt_urv', 'row': 13}), Document(page_content=\": 14\\nReview_Date: 4 August 2023\\nAuthor: thePopcornExplorer\\nRating: 9\\nReview_Title: I don't see how it was preachy\\nReview: In this day and age with society overall becoming more and more polarized and our leaders around the world doing nothing to improve dialogue, it seems that people became broken records. Now everything in the movies and TV shows is perceived as preachy, not everything is a conspiracy, people need to consider that movies and TV shows at its core, and specially the good ones, are about sharing perspectives and allow the audience, if their minds are opened to it, to acknowledge all sides of the stories.\\nReview_Url: /review/rw9213569/?ref_=tt_urv\", metadata={'source': '/review/rw9213569/?ref_=tt_urv', 'row': 14}), Document(page_content=\": 15\\nReview_Date: 23 July 2023\\nAuthor: Revuer223\\nRating: 6\\nReview_Title: Could Have Been Great. 2nd Half Brings It Down.\\nReview: The quality, the humor, and the writing of the movie is fun for a while. It's quirky and it's unique. When they get into the weeds and try to explore deeper themes, the movie is a miss. The middle expositional phase of the movie, I must say, is a bore.\\nReview_Url: /review/rw9213569/?ref_=tt_urv\", metadata={'source': '/review/rw9213569/?ref_=tt_urv', 'row': 15}), Document(page_content=\": 16\\nReview_Date: 29 July 2023\\nAuthor: cmdown-50506\\nRating: 9\\nReview_Title: Now I am become Barbie Girl, the enjoyer of Barbie worlds\\nReview: I have been waiting for this to release for so long and I finally got to watch it today. I absolutely loved it! It was fun, it had Margot Robbie (and extra stuff for Tarantino's out there if you know what I mean) And it had some absolute bangers! What more could you want from a new summer classic?\\nReview_Url: /review/rw9213569/?ref_=tt_urv\", metadata={'source': '/review/rw9213569/?ref_=tt_urv', 'row': 16}), Document(page_content=': 17\\nReview_Date: 26 July 2023\\nAuthor: aherdofbeautifulwildponies\\nRating: 6\\nReview_Title: A Hot Pink Mess\\nReview: Before making Barbie (2023),\\nReview_Url: /review/rw9213569/?ref_=tt_urv', metadata={'source': '/review/rw9213569/?ref_=tt_urv', 'row': 17}), Document(page_content=\": 18\\nReview_Date: 22 July 2023\\nAuthor: finnconnelly-63017\\nRating: 10\\nReview_Title: Ken out of ten\\nReview: Wow. I did not see this masterpiece coming. And that's not a joke. Somehow, Greta Gerwig took Barbie, and made a movie that tackles some really tough social issues....well? It's crazy. But wow, does it work. The story is very mature, thinker of a plot. Once you're done laughing your butt off, you'll get really emotional. The production design is so on point. The whole movie is pink everything, but it's never polarizing. All the shades melt together in a very pleasing way. And of course the cast! Margot Robbie was born to play Barbie, and she hits a home run, but Ryan Gosling. This dude rocks as Ken. He knocked it all the way around the world and hit himself in the back of the head. He steals every scene he's in, and I would be so on board with a Ken spin-off. America Ferrara and Simu Liu are also great in their respective roles, but the cast overall is just perfect. Overall, Barbie is probably the best movie based off a toy (sorry LEGO Movies) and an overall fantastic time at the movies.\\nReview_Url: /review/rw9213569/?ref_=tt_urv\", metadata={'source': '/review/rw9213569/?ref_=tt_urv', 'row': 18}), Document(page_content=\": 19\\nReview_Date: 21 July 2023\\nAuthor: andermic18\\nRating: 6\\nReview_Title: No Direction\\nReview: The movie was very funny and really enjoyable to laugh at with the full theatre. However, the messages of the movie were the problem. I was never really sure what I was supposed to take away, there was nothing about finding equality or love it was all about how every man cat falls every woman or women can't be anything. It was really silly because there was no accurate reflection of America at any single point except for Barbie getting called a Fascist for no reason by a 14 year old. I enjoyed how they called out women for hating women and how they really tried to preach empowerment and the ability to be anything, but at the same time there was so much resentment and they ended the movie by reinstating hate. The majority of the movie was hating men as much as possible. That's just whatever because what really matters is the story. Well it fell short on that mark and it was really disappointing. The pacing was horrible, the villain won and was pretty irrelevant in the long run, the story was all over the place, and it is totally not for kids. I think the worst part is how disappointed I was at the opportunity to really make something special and it just wasn't. 6 points for all the laughs and fun I had and I would expect 6-7 to be an appropriate rating.\\nReview_Url: /review/rw9213569/?ref_=tt_urv\", metadata={'source': '/review/rw9213569/?ref_=tt_urv', 'row': 19}), Document(page_content=': 20\\nReview_Date: 1 August 2023\\nAuthor: zkonedog\\nRating: 10\\nReview_Title: An Amazingly Perfect Blend Of Social Satire & Fun\\nReview: For a film like \"Barbie\" to succeed, every aspect had to come together perfectly. It needed to consummately balance satire with fun, the casting had to be spot-on, and the writing/directing required to pull off such a feat would need to be exquisite. Somewhat remarkably, that is exactly what writer/director Greta Gerwig pulls off here to create the best movie of summer 2023.\\nReview_Url: /review/rw9213569/?ref_=tt_urv', metadata={'source': '/review/rw9213569/?ref_=tt_urv', 'row': 20}), Document(page_content=\": 21\\nReview_Date: 19 July 2023\\nAuthor: tm-sheehan\\nRating: 6\\nReview_Title: Didn't hit my pink spot\\nReview: My Review - Barbie\\nIn Cinemas now\\nMy Rating 6.5/10\\nReview_Url: /review/rw9213569/?ref_=tt_urv\", metadata={'source': '/review/rw9213569/?ref_=tt_urv', 'row': 21}), Document(page_content=': 22\\nReview_Date: 23 July 2023\\nAuthor: herrcarter-92161\\nRating: 5\\nReview_Title: Somewhat of a Jumbled Mess\\nReview: My 15-year old daughter wrote the following review and posted it to my IMDB account.\\nReview_Url: /review/rw9213569/?ref_=tt_urv', metadata={'source': '/review/rw9213569/?ref_=tt_urv', 'row': 22}), Document(page_content=': 23\\nReview_Date: 10 August 2023\\nAuthor: adamjohns-42575\\nRating: 8\\nReview_Title: A sheer pleasure to watch.\\nReview: Barbie (2023) -\\nReview_Url: /review/rw9213569/?ref_=tt_urv', metadata={'source': '/review/rw9213569/?ref_=tt_urv', 'row': 23}), Document(page_content=': 24\\nReview_Date: 20 July 2023\\nAuthor: Genti25\\nRating: 8\\nReview_Title: You are Kenough\\nReview: This movie is so much fun. It starts off really strong although the story does move away from \"Barbieland\" sooner than I would have liked. Nonetheless, it regains its footing with the final act in particular and I could not stop laughing at Ryan Gosling\\'s portrayal of Ken. That song will forever be stuck in my head.\\nReview_Url: /review/rw9213569/?ref_=tt_urv', metadata={'source': '/review/rw9213569/?ref_=tt_urv', 'row': 24}), Document(page_content=': 25\\nReview_Date: 24 July 2023\\nAuthor: lokicola\\nRating: 6\\nReview_Title: Strong Start... and That\\'s It\\nReview: I walked out of the theatre thinking, \"Yeah, I had a good time in that movie\". But as the day went on I kind had that \"Ok, that kebab probably wasn\\'t a good idea.\"\\nReview_Url: /review/rw9213569/?ref_=tt_urv', metadata={'source': '/review/rw9213569/?ref_=tt_urv', 'row': 25}), Document(page_content=': 26\\nReview_Date: 19 July 2023\\nAuthor: andypaps101\\nRating: 8\\nReview_Title: \"Barbie\" - A Multifaceted Exploration of Femininity, Consumerism, and Existentialism\\nReview: I got free tickets for a preview and to be honest I was more than a little embarrassed to go. I did not tell a soul. As a cool middle aged gentleman if word got out this could have really affected my street cred.\\nReview_Url: /review/rw9213569/?ref_=tt_urv', metadata={'source': '/review/rw9213569/?ref_=tt_urv', 'row': 26}), Document(page_content=': 27\\nReview_Date: 19 July 2023\\nAuthor: dreopdreef\\nRating: 6\\nReview_Title: Not so unique as expected\\nReview: The concept of a Barbie movie is really unique and got me all exited. But unfortunately to me it delivers the same messages that we keep hearing as of lately.\\nReview_Url: /review/rw9213569/?ref_=tt_urv', metadata={'source': '/review/rw9213569/?ref_=tt_urv', 'row': 27}), Document(page_content=\": 28\\nReview_Date: 23 July 2023\\nAuthor: subxerogravity\\nRating: 8\\nReview_Title: It's like G.I Joe...For girls! Seriously, and I love it for that!\\nReview: I mean, Margo Robbie as Barbie just made perfect sense, but I really wanted to see the movie when I herd that Ryian Gosling was going to be Ken, I just thought that would be hilarious and I was right!\\nReview_Url: /review/rw9213569/?ref_=tt_urv\", metadata={'source': '/review/rw9213569/?ref_=tt_urv', 'row': 28}), Document(page_content=\": 29\\nReview_Date: 19 July 2023\\nAuthor: mark-217-307033\\nRating: 6\\nReview_Title: Fun film whose script falls in on itself\\nReview: Margot Robbie's performance is perfect, and no other actor could've embodied the character as well as she does. However, Ryan Gosling is the film-stealer. I often forget his comedic talent, and he's given a lot of room to flex it in this. A cleverly executed Matchbox Twenty joke is particularly memorable.\\nReview_Url: /review/rw9213569/?ref_=tt_urv\", metadata={'source': '/review/rw9213569/?ref_=tt_urv', 'row': 29}), Document(page_content=\": 30\\nReview_Date: 21 July 2023\\nAuthor: masonsaul\\nRating: 10\\nReview_Title: The best version of itself\\nReview: Barbie is everything expected of it and so much more, a self aware and meta comedy made for fans and newcomers alike that's also incredibly profound, layered and really funny. It's the best version of itself and just immensely satisfying that the Barbie movie that got made on this scale is so weird and unique.\\nReview_Url: /review/rw9213569/?ref_=tt_urv\", metadata={'source': '/review/rw9213569/?ref_=tt_urv', 'row': 30}), Document(page_content=': 31\\nReview_Date: 19 July 2023\\nAuthor: AvionPrince16\\nRating: 6\\nReview_Title: Barbie land and reality\\nReview: Im not really disappointed or love the movie to be honest. It was kind of weird and strange at the beginning: we understand it later because we are in the Barbie world. So they played with the culture reference of the barbie, the dolls and what they represent: an ideal world with where the womans are in power. Things will get pretty normal after they enter the real world and all the problems: sexual remark, womens and their place in society (the inequality with mens.) I was pretty sure they will talk about the problems with womans and their complex because of Barbie and the perfect women she is and how this is contrasted with the real world. Its pretty obvious that they will talk about it. I love also how Ken will also notice how mens are more powerful in the real world: its like everyone see that reality is not really what they perceived themselves in their own reality and power will shift also later in Barbie Land. I understand why they act like this and stuff but i didnt really get into the movie to be honest: i only identify myself when they talked about society and business but all the musical things, the choregraphy and even the morality was kind of superficial. But i enjoyed that Barbie realised the problems of our world and compare to her own. Some moments was funny and some more serious or drama sometimes even if its pretty soft because we are in Barbie Land. I mean i spend a great time but it was kind of ok. And i still think its a great Barbie movie: the task was not easy to represent that world but i enjoyed the set design, the colors, the camera movements. I think people who played with Barbie dolls or just know the universe will be happy; they have a lot of references to the world and a lot of Barbie references to the dolls and the differents clothes and the impact of her in society. Some moments were also absurd ( the fight with all the Kens). Its good anyway.\\nReview_Url: /review/rw9213569/?ref_=tt_urv', metadata={'source': '/review/rw9213569/?ref_=tt_urv', 'row': 31}), Document(page_content=': 32\\nReview_Date: 21 July 2023\\nAuthor: MaskedMinty\\nRating: 5\\nReview_Title: Preach Preach Preach\\nReview: Let me start by saying that I\\'m by no means a conservative or traditional woman. I believe that inequality for women still is rampant even in first world countries and that we go through many problems. But damn...this movie is so corporate and shallow. It\\'s clearly ordered and tailored by executives at Mattel to rebrand and sell more dolls. The movie starts well and has the potential of becoming something very good, but then it just goes downhill: the premise of the owner\\'s feeling being projected onto the doll was going to lead to a very nice build up about a person\\'s life journey and then Barbie and Ken go to the human world and cue in the speeches and preaching. This movie suffers from a bad case of showing and not telling, they keep repeating the same dialogues: patriarchy bad patriarchy bad patriarchy bad sexism sexism sexism, not even one time but MULTIPLE TIMES. These characters go into random rants like its a ted talk! The chemistry between the mother and daughter is absolutely nonexistent and their relationship is so cringe, You cant root for them or feel their feelings at all. Barbie should have understood how Kens had been feeling in the Barbieland the whole time which is a mimic of how many women are still treated in the society: just existing for the gaze of a woman (man). Yet what do they do? They manipulate them (with a super nonsense plan) and force them back to their original position while she gives him a half assed apology that could have been done better and end up to a more accurate point about equality. (I guess this is again meta and a reflection of how women are pitted against each other while people in charge benefit from that but its so badly done that it feels meh.)\\nI can imagine that in the boardroom they went through a discussion like this: People are going to think this is a feel good movie so we need to give them something deeper but also lets make it absurd and fast paced so that we can finish the plot quickly and also jump on the \"not taking itself serious\" bandwagon and also market these dolls again in the age of smartphone kids. The only reason this movie gets at 5 from me is the humor, which sometimes becomes very meta and creative and Margot Robbie and Ryan Gosling have acted very well. Besides this, they could have just given us a simple feel good movie and I would have respected the creators more. Pass.\\nReview_Url: /review/rw9213569/?ref_=tt_urv', metadata={'source': '/review/rw9213569/?ref_=tt_urv', 'row': 32}), Document(page_content=\": 33\\nReview_Date: 19 July 2023\\nAuthor: anjamulder\\nRating: 8\\nReview_Title: not for everyone\\nReview: This is very much a movie that will get devided opinions on it, my cousin said well this is two hours of my life i will never get back, and me? I left the theatre in such a good mood. It was the sense of humor for me, laughed so hard. Specially Ryan Gossling was sooooo good and funny, many familiar faces to spot also. And margot robbie come on... the perfect casting for Barbie. I also have to say, the way they created Barbie land was so amazing, it just makes you just want to there. I don't really have anything bad to say about this movie. I can understand not everyone will love it. But i am sure it is a iconic film already.\\nReview_Url: /review/rw9213569/?ref_=tt_urv\", metadata={'source': '/review/rw9213569/?ref_=tt_urv', 'row': 33}), Document(page_content=': 34\\nReview_Date: 23 July 2023\\nAuthor: eoinageary\\nRating: 8\\nReview_Title: I am Kenough\\nReview: So I went into the movie with little to no expectations and I was pleasantly impressed with the movie overall.\\nReview_Url: /review/rw9213569/?ref_=tt_urv', metadata={'source': '/review/rw9213569/?ref_=tt_urv', 'row': 34}), Document(page_content=\": 35\\nReview_Date: 21 July 2023\\nAuthor: arslanmanzoor123\\nRating: 6\\nReview_Title: Quite disappointing\\nReview: Some friends freaking out that I went to see Barbie lol I mean I mentioned I went coz my sister insisted since ages. Anyway the movie was bad. These days, every other director and producer wants to convey messages about women rights and feminism through whatever platform possible and this movie was a perfect example of that with sheer cringe to convey all that. I wished I had gotten the ticket for Oppenheimer in the same timings as my sister's Barbie show. Other than that, the acting done by Margot Robbie and Ryan Gosling was great so can't take that away from them. They did justice to their roles.\\nReview_Url: /review/rw9213569/?ref_=tt_urv\", metadata={'source': '/review/rw9213569/?ref_=tt_urv', 'row': 35}), Document(page_content=\": 36\\nReview_Date: 21 July 2023\\nAuthor: imdbmovieguy\\nRating: \\nReview_Title: Honestly - not funny and light enough\\nReview: I really enjoyed the first 20 minutes of the movie. It was very upbeat, positive and light. However, things soon became negative about 20 - 25 minutes into the movie. I couldn't stand it. Barbie's world and attitude was a constant bummer. Ken's attitude was sour. For the next hour (and more) the movie just lived in negativity.\\nReview_Url: /review/rw9213569/?ref_=tt_urv\", metadata={'source': '/review/rw9213569/?ref_=tt_urv', 'row': 36}), Document(page_content=': 37\\nReview_Date: 19 July 2023\\nAuthor: faeez_rizwan\\nRating: 9\\nReview_Title: Wildly Pink\\nReview: Barbie Movie Review\\nReview_Url: /review/rw9213569/?ref_=tt_urv', metadata={'source': '/review/rw9213569/?ref_=tt_urv', 'row': 37}), Document(page_content=\": 38\\nReview_Date: 24 July 2023\\nAuthor: GhostFoxX\\nRating: 6\\nReview_Title: Misleading.\\nReview: I personally expected the movie to be fun and adventurous. Correct me if I'm wrong, but isn't that what it is supposed to be? It's literally a movie about Barbie. Instead, it felt more like an agent of woke culture, and basically Mattel's (the company that produces Barbie dolls) way of capitalizing the emotional aspect of the cinephiles to make their business more popular and trendier. It continuously tried to portray the fact that Mattel is no more producing white barbie dolls, it is now producing dolls of all colors and races. Well, that is definitely a good thing, but making most of the movie focus on that aspect felt very boring and wrong. If they didn't quite make a movie that is fun and adventurous, why make the marketing events misleading? They could've just focused on the audience for whom it was made, rather than on the entire world through their absurdly irrelevant marketing events that made the world think that this movie is going to be all about fun and adventure. Sadly, it was not nearly as enjoyable as the misleading marketing made it seem.\\nReview_Url: /review/rw9213569/?ref_=tt_urv\", metadata={'source': '/review/rw9213569/?ref_=tt_urv', 'row': 38}), Document(page_content=\": 39\\nReview_Date: 25 July 2023\\nAuthor: mr_bickle_the_pickle\\nRating: 8\\nReview_Title: Life in plastic, it's fantastic!\\nReview: It's an incredibly fun movie. Lots of laughs. Very campy over the top humour. But also surprisingly touching. My favourite scene of the movie is just rather a small quiet moment where Barbie is observing every day life and tells an old woman how beautiful she is. Margot Robbie shines in the lead role. Ryan Gosling clearly was having a lot of fun with the role, but don't sleep on Michael Cera as Allan. I know a lot of people say that Ryan Gosling is a scene stealer, but personally I thought Michael was.\\nReview_Url: /review/rw9213569/?ref_=tt_urv\", metadata={'source': '/review/rw9213569/?ref_=tt_urv', 'row': 39}), Document(page_content=': 40\\nReview_Date: 25 July 2023\\nAuthor: spika13\\nRating: 6\\nReview_Title: Too overrated\\nReview: Its like watching at \"Truman\\'s show\" but all the set it\\'s pink color with a hint of extreme feminist ideas. I grew up with barbie dolls and I felt very disappointed, I was expecting a different kind of story, the ending was the worst. I think the message should be more with the real feminist concept of Simone de Bouvoir, we all deserve the same rights. In the end Instead of just Barbie Land they should changed as; Barbie and Ken Land.\\nReview_Url: /review/rw9213569/?ref_=tt_urv', metadata={'source': '/review/rw9213569/?ref_=tt_urv', 'row': 40}), Document(page_content=\": 41\\nReview_Date: 23 July 2023\\nAuthor: Jeremy_Urquhart\\nRating: 8\\nReview_Title: Surprisingly good\\nReview: I think part of my brain rejects this for being a feature-length toy commercial, but it's a very small part of my brain (and that really wasn't where my mind was for the majority of the movie).\\nReview_Url: /review/rw9213569/?ref_=tt_urv\", metadata={'source': '/review/rw9213569/?ref_=tt_urv', 'row': 41}), Document(page_content=': 42\\nReview_Date: 3 August 2023\\nAuthor: DanLawson146\\nRating: 7\\nReview_Title: Fun, but too on the nose at times\\nReview: POSITIVES:\\nReview_Url: /review/rw9213569/?ref_=tt_urv', metadata={'source': '/review/rw9213569/?ref_=tt_urv', 'row': 42}), Document(page_content=\": 43\\nReview_Date: 24 July 2023\\nAuthor: brianjohnson-20043\\nRating: 4\\nReview_Title: This movie tries to be too much\\nReview: I wanted to like it. But I just didn't. The story wasn't very compelling to me because it seemed as if the entire point of much of the movie was to provide learning moments for viewers with some slapstick comedy and quick-delivery comedy. The story itself should nearly always be more important.\\nReview_Url: /review/rw9213569/?ref_=tt_urv\", metadata={'source': '/review/rw9213569/?ref_=tt_urv', 'row': 43}), Document(page_content=\": 44\\nReview_Date: 23 July 2023\\nAuthor: Anurag-Shetty\\nRating: 10\\nReview_Title: A wholesome delight!\\nReview: Barbie is based on Mattel's iconic plastic dolls of the same name. Barbie(Margot Robbie) lives a very happy life in Barbie Land, along with her fellow Barbies, Ken(Ryan Gosling) & his fellow Kens. Suddenly, Barbie goes through an existential crisis that makes her question Barbie Land & the truth of her existence.\\nReview_Url: /review/rw9213569/?ref_=tt_urv\", metadata={'source': '/review/rw9213569/?ref_=tt_urv', 'row': 44}), Document(page_content=\": 45\\nReview_Date: 23 July 2023\\nAuthor: nethy-nho\\nRating: 10\\nReview_Title: Barbie is not a simple live action of a timeless doll\\nReview: But it is also in its smallest details, from the art direction, costumes, and any technical choice completely thought of referencing all Barbie generations and the like. A soundtrack that will take you from laughing to crying (yes, very musical moments, after all it is a Barbie movie), in addition to the hand-picked cast, Margot is impeccable and manages to express all her feelings, just with her eyes. Greta's direction and screenplay, just amazing, strong, emotional, empowering and very, very feminist, not only for the women who are already fighting for the cause, but to open everyone's eyes to a sisterhood.\\nReview_Url: /review/rw9213569/?ref_=tt_urv\", metadata={'source': '/review/rw9213569/?ref_=tt_urv', 'row': 45}), Document(page_content=\": 46\\nReview_Date: 23 July 2023\\nAuthor: jacquihives\\nRating: 6\\nReview_Title: I had no expectations but was still underwhelmed\\nReview: I loved barbie growing up, and even at 42 years old I couldn't wait to go see the movie! I didn't have any expectations because I had no idea how they could make a movie about barbie that's for adults and not kids. I adored Barbieland, but unfortunately they leave it behind so fast and with it they also leave behind everything good about bringing barbie to life in a movie! It got silly, had no storyline, was overly political and woke, man bashing and made men silly, and I really didn't care for the ending which is just as well because it was abrupt and crude.\\nReview_Url: /review/rw9213569/?ref_=tt_urv\", metadata={'source': '/review/rw9213569/?ref_=tt_urv', 'row': 46}), Document(page_content=\": 47\\nReview_Date: 8 August 2023\\nAuthor: isabellacatgirl\\nRating: 8\\nReview_Title: Historical Barbie Film\\nReview: As someone who played with the dolls growin up,the in-jokes and references to some rare Barbie variations and playsets are funny. The political message gives Barbie a new dimension I never thought would go to. I felt a hidden anti-war message in it actually which is deep for a toy I never thought would be taken that serious. Makes sense in order to explain the historical connotations about the franchise's history,but on rewatch I'll fast forward to the cheesy funny parts. Would I watch it again? Probably!!!!!!!! Especially after eating a pot cookie,bet this movie would look crazier! After watching I feel I'm on a Barbie kick and searching for the toys.\\nReview_Url: /review/rw9213569/?ref_=tt_urv\", metadata={'source': '/review/rw9213569/?ref_=tt_urv', 'row': 47}), Document(page_content=': 48\\nReview_Date: 29 July 2023\\nAuthor: planktonrules\\nRating: 6\\nReview_Title: Good...not great\\nReview: \"Barbie\" is a movie that is setting all sorts of records, so it\\'s obvious that the film is touching many people. For some, it\\'s the fun of seeing a doll come to life, for others it\\'s the theme of empowerment that make the movie a big hit. As for me, I did like it and thought it was a pretty good movie...but it\\'s not for everyone.\\nReview_Url: /review/rw9213569/?ref_=tt_urv', metadata={'source': '/review/rw9213569/?ref_=tt_urv', 'row': 48}), Document(page_content=\": 49\\nReview_Date: 21 July 2023\\nAuthor: rannynm\\nRating: 10\\nReview_Title: What A Film! I Was Ecstatic About Seeing Barbie And It Definitely Exceeded My Expectations By Far.\\nReview: What a film! I was ecstatic about seeing Barbie and it definitely exceeded my expectations by far. As much as I was excited, I was a bit scared that the stakes were too high; after all Barbie is an icon and a part of so many people's childhood. For a film like this it's very easy to create something corny, disappointing, or unappealing to viewers. I'm so glad that Gretta Gerwig stepped up to the plate and created an absolute masterpiece.\\nReview_Url: /review/rw9213569/?ref_=tt_urv\", metadata={'source': '/review/rw9213569/?ref_=tt_urv', 'row': 49}), Document(page_content=\": 50\\nReview_Date: 26 July 2023\\nAuthor: JPARM-IMDb\\nRating: 6\\nReview_Title: Expected more from Greta Gerwig\\nReview: Even though I'm not the target audience for this movie, I thought Barbie might impress me due to Greta Gerwig's previous works but I'm disappointed.\\nReview_Url: /review/rw9213569/?ref_=tt_urv\", metadata={'source': '/review/rw9213569/?ref_=tt_urv', 'row': 50}), Document(page_content=\": 51\\nReview_Date: 12 August 2023\\nAuthor: PotassiumMan\\nRating: 9\\nReview_Title: Big hype and the result is a mirror of today's society\\nReview: Margot Robbie had a vision, and she was the driving force to get the Barbie movie produced by none other than world-class director Greta Gerwig.\\nReview_Url: /review/rw9213569/?ref_=tt_urv\", metadata={'source': '/review/rw9213569/?ref_=tt_urv', 'row': 51}), Document(page_content=': 52\\nReview_Date: 1 August 2023\\nAuthor: badreviewer\\nRating: 6\\nReview_Title: This Barbie is dissapointed.\\nReview: Yes. Day by day it becomes more obvious that now the movies are made just because of the income they generate and nothing else. Ok, Barbie itself was not a creative idea, I know. And actually I didn\\'t expect to see something unseen something unique in the first place, all in all it\\'s \"Barbie\".\\nReview_Url: /review/rw9213569/?ref_=tt_urv', metadata={'source': '/review/rw9213569/?ref_=tt_urv', 'row': 52}), Document(page_content=': 53\\nReview_Date: 22 July 2023\\nAuthor: shadowtramp\\nRating: 5\\nReview_Title: More of a marketing flick\\nReview: The brilliant marketing is what led us tonight to pay for the tickets. The brilliance ends there.\\nReview_Url: /review/rw9213569/?ref_=tt_urv', metadata={'source': '/review/rw9213569/?ref_=tt_urv', 'row': 53}), Document(page_content=': 54\\nReview_Date: 11 August 2023\\nAuthor: gortx\\nRating: \\nReview_Title: Sly and litely amusing\\nReview: Greta Gerwig\\'s mildly sly take on the doll myth works more on the margins than directly. Here, a \"Stereotypical Barbie\" (Margot Robbie) and a seemingly stock Ken (Ryan Gosling), end up questioning the standard Barbie myth.\\nReview_Url: /review/rw9213569/?ref_=tt_urv', metadata={'source': '/review/rw9213569/?ref_=tt_urv', 'row': 54}), Document(page_content=': 55\\nReview_Date: 7 August 2023\\nAuthor: saimariejohnson\\nRating: 10\\nReview_Title: Wildly Entertaining.\\nReview: Barbie surprised me in all the best ways. It was funny, moving, inspirational, and all around ridiculously entertaining. I mean that with every sense of the implication to.\\nReview_Url: /review/rw9213569/?ref_=tt_urv', metadata={'source': '/review/rw9213569/?ref_=tt_urv', 'row': 55}), Document(page_content=\": 56\\nReview_Date: 22 July 2023\\nAuthor: lisacarlson50\\nRating: 10\\nReview_Title: Creatively Brilliant\\nReview: Brilliantly written by Greta Gerwig and Noah Baumbach. Everyone in this is fantastic. It's a wink at nostalgia and commentary on society. Never played with Barbies but my daughter did. Tribute to the inventor of Barbie, Ruth Handler. Helen Mirren narrates. Kate McKinnon almost steals the movie. Not a movie for little kids but most of the references will probably go over their heads. My girlfriend and I laughed out loud many times. It's about 20 minutes too long for my taste. The music is spot on. It's a perfect summer movie. Guess what? It has value and substance. Margot Robbie is not only gorgeous but more importantly, she's highly intelligent as actor and producer. This movie is going to make bank!\\nReview_Url: /review/rw9213569/?ref_=tt_urv\", metadata={'source': '/review/rw9213569/?ref_=tt_urv', 'row': 56}), Document(page_content=': 57\\nReview_Date: 29 July 2023\\nAuthor: Vic_max\\nRating: 7\\nReview_Title: A lot like The Lego Movie - except for the 2nd half\\nReview: As a guy who never played with Barbie dolls, I was surprised to be caught up in the enthusiasm to see this movie; I purchased tickets well in advance when they first went on sale.\\nReview_Url: /review/rw9213569/?ref_=tt_urv', metadata={'source': '/review/rw9213569/?ref_=tt_urv', 'row': 57}), Document(page_content=': 58\\nReview_Date: 27 July 2023\\nAuthor: sanadalsalt\\nRating: 10\\nReview_Title: Laugh, Reflect, Repeat: Exploring the Wonders of \\'Barbie\\'\\nReview: Oh my goodness, where do I even begin with \"Barbie\" (2023)? This film is an absolute delight and a true masterpiece that will leave you in awe. Directed by the incredibly talented Greta Gerwig and starring the stunning Margot Robbie as the iconic doll herself, \"Barbie\" is a cinematic experience like no other.\\nReview_Url: /review/rw9213569/?ref_=tt_urv', metadata={'source': '/review/rw9213569/?ref_=tt_urv', 'row': 58}), Document(page_content=': 59\\nReview_Date: 19 July 2023\\nAuthor: AvionPrince16\\nRating: 6\\nReview_Title: Barbie Land\\nReview: Im not really disappointed or love the movie to be honest. It was kind of weird and strange at the beginning: we understand it later because we are in the Barbie world. So they played with the culture reference of the barbie, the dolls and what they represent: an ideal world with where the womans are in power. Things will get pretty normal after they enter the real world and all the problems: sexual remark, womens and their place in society (the inequality with mens.) I was pretty sure they will talk about the problems with womans and their complex because of Barbie and the perfect women she is and how this is contrasted with the real world. Its pretty obvious that they will talk about it. I love also how Ken will also notice how mens are more powerful in the real world: its like everyone see that reality is not really what they perceived themselves in their own reality and power will shift also later in Barbie Land. I understand why they act like this and stuff but i didnt really get into the movie to be honest: i only identify myself when they talked about society and business but all the musical things, the choregraphy and even the morality was kind of superficial. But i enjoyed that Barbie realised the problems of our world and compare to her own. Some moments was funny and some more serious or drama sometimes even if its pretty soft because we are in Barbie Land. I mean i spend a great time but it was kind of ok. And i still think its a great Barbie movie: the task was not easy to represent that world but i enjoyed the set design, the colors, the camera movements. Its good anyway.\\nReview_Url: /review/rw9213569/?ref_=tt_urv', metadata={'source': '/review/rw9213569/?ref_=tt_urv', 'row': 59}), Document(page_content=': 60\\nReview_Date: 22 July 2023\\nAuthor: DoNotComeToTheCinemaDepressed\\nRating: 10\\nReview_Title: 🏩 Possibly a Masterpiece? 💒\\nReview: I Understand that Some People are Going to Have Big Big Problems with Some of the Messaging within this Film. But Sometimes, in Life 😂, You Just Have to Go With It.\\nReview_Url: /review/rw9213569/?ref_=tt_urv', metadata={'source': '/review/rw9213569/?ref_=tt_urv', 'row': 60}), Document(page_content=\": 61\\nReview_Date: 20 July 2023\\nAuthor: FeastMode\\nRating: 7\\nReview_Title: I'll beach you off so hard\\nReview: I had no idea what to expect going into Barbie. I had no interest in seeing a movie about Barbie but was immediately sold on the highly talented Margot Robbie and the awesome Ryan Gosling. But I was still nervous that the comedy would be aimed strictly at women and would be difficult for a guy to enjoy.\\nReview_Url: /review/rw9213569/?ref_=tt_urv\", metadata={'source': '/review/rw9213569/?ref_=tt_urv', 'row': 61}), Document(page_content=\": 62\\nReview_Date: 28 July 2023\\nAuthor: klastaitas\\nRating: 8\\nReview_Title: We're All Dolls\\nReview: Without consumerism, without belief, without plastic accessory and hope for a perfect day, where would Barbie find herself?\\nReview_Url: /review/rw9213569/?ref_=tt_urv\", metadata={'source': '/review/rw9213569/?ref_=tt_urv', 'row': 62}), Document(page_content=\": 63\\nReview_Date: 23 July 2023\\nAuthor: agjbull\\nRating: 6\\nReview_Title: Just a little empty\\nReview: I really wanted to enjoy this and I know that I am not the target audience but there were massive plot holes and no real flow. The film was very disjointed. Ryan Gosling as good as he is seemed to old to play Ken and Will Ferrell ruined every scene he was in. I just didn't get it, it seemed hollow artificial and hackneyed. A waste of some great talent. It was predictable without being reassuring and trying so hard to be woke in the most superficial way in that but trying to tick so many boxes it actually ticked none. Margo Robbie looks beautiful throughout, the costumes and the sets were amazing but the story was way too weak and didn't make much sense at all.\\nReview_Url: /review/rw9213569/?ref_=tt_urv\", metadata={'source': '/review/rw9213569/?ref_=tt_urv', 'row': 63}), Document(page_content=': 64\\nReview_Date: 22 July 2023\\nAuthor: fernandoschiavi\\nRating: 5\\nReview_Title: \"Barbie\" is fun and visually beautiful, but unfortunately Barbie doll was dragged into the cultural war, used as a puppet by political militancy\\nReview: Despite the strong commercial tone, it is still possible to perceive that we are watching a film by Greta Gerwig, director known for dramatic comedies that capture the complexity of femininity in an original way - although, in this case, it is almost inevitable to fall into some clichés. The undeniable feminist tone exists through the presence of this female director - in addition to Margot Robbie herself as a producer. \"Barbie\" has sharp and intelligent comments on the dynamics between men and women over time and also on how these social roles are seen and problematized today. And the film does it with a big heart: the story is genuinely fun, with a humor that walks between acidity and innocence, but also moves with the existential journey of its protagonists, reserving touching moments and provoking reflections, especially in its final stretch. Debauchery is the great ally of Gerwig and Baumbach to deal not only with sexism, but also with the \"corporate\" issue. It won\\'t be strange if you catch yourself thinking \"how did Mattel let this film see the light of day?\" Laughing at yourself, after all, seems to be a prerequisite for establishing communication with a young generation of consumers who associate their consumption habits with a critical eye on consumerism itself.\\nReview_Url: /review/rw9213569/?ref_=tt_urv', metadata={'source': '/review/rw9213569/?ref_=tt_urv', 'row': 64}), Document(page_content=': 65\\nReview_Date: 21 July 2023\\nAuthor: meltingmel\\nRating: 10\\nReview_Title: 10/10!!!!!!!\\nReview: Wow. WOW!!!!\\nReview_Url: /review/rw9213569/?ref_=tt_urv', metadata={'source': '/review/rw9213569/?ref_=tt_urv', 'row': 65}), Document(page_content=\": 66\\nReview_Date: 5 August 2023\\nAuthor: sjw1029\\nRating: 8\\nReview_Title: The movie event of 2023 lives up to the hype\\nReview: Let me start by saying it makes me happy to see a movie that isn't from the MCU or a sequel doing so well at the box office. There is still originality out there. This movie was very funny - the scene with Ken and the doctor in LA made me laugh very hard. It's weird and inventive. It has amazing choreography. So many talented people worked on this. I didn't grow up with Barbies so I'm sure a lot of the jokes went over my head. But it didn't hurt the enjoyment. It even manages to land a sentimental note at the end. I can definitely see this being a movie people see over and over.\\nReview_Url: /review/rw9213569/?ref_=tt_urv\", metadata={'source': '/review/rw9213569/?ref_=tt_urv', 'row': 66}), Document(page_content=\": 67\\nReview_Date: 21 July 2023\\nAuthor: suf-54719\\nRating: 6\\nReview_Title: It's a silly movie\\nReview: The story feels like watching modern animated barbie movies in this past decade. If you lower your expectations, you gonna kinda enjoy it. The first 30 minutes is good, but the last 30 minutes feel rushed.\\nReview_Url: /review/rw9213569/?ref_=tt_urv\", metadata={'source': '/review/rw9213569/?ref_=tt_urv', 'row': 67}), Document(page_content=': 68\\nReview_Date: 20 July 2023\\nAuthor: mavigangi\\nRating: 10\\nReview_Title: A colorful love letter to human kind\\nReview: I cried, I laughed, I dance and I did sing too. What a joyful time I had at the movies watching Barbie. This is a movie to celebrate how diverse and complicated are the humans. The cinematography is a outstanding as well as the production design and the vestuary. The casting seems like made in heaven. I recommend this movie for 11+ years old. And if you have a teen at home, take her with you. Barbie goes from fun to introspection and I love a good comedy that makes you think. Ryan Gosling is the perfect Ken, he does everything in this movie and shines every time he shows up. Margo is a perfect Barbie and got a real sense of the relevance this is going to have.\\nReview_Url: /review/rw9213569/?ref_=tt_urv', metadata={'source': '/review/rw9213569/?ref_=tt_urv', 'row': 68}), Document(page_content=': 69\\nReview_Date: 23 July 2023\\nAuthor: sandrachungate\\nRating: 6\\nReview_Title: Great for the first 30 minutes, then not\\nReview: The trailers and marketing for the movie were so good that I was really disappointed when the movie took an odd turn after 20-30 minutes into it.\\nReview_Url: /review/rw9213569/?ref_=tt_urv', metadata={'source': '/review/rw9213569/?ref_=tt_urv', 'row': 69}), Document(page_content=': 70\\nReview_Date: 23 July 2023\\nAuthor: anniebleasdale-97708\\nRating: 9\\nReview_Title: Wildly misunderstood by the poor reviewers.\\nReview: Unfortunately, most reviews that I\\'ve read here that score this film poorly explain so clearly that the reviewer did not understand the message of the film. It is not anti-men, it does not portray men as \"stupid\". Take a moment to think about how women have been portrayed in movies over the last century - oh yes, just as Ken is here! The movie exaggerates this, yes. That is the point. To clearly (and humourously) highlight the inequalities when the roles are reversed. Stop being offended by something that isn\\'t offensive and take a bit of time to actually think about the film that you have watched.\\nReview_Url: /review/rw9213569/?ref_=tt_urv', metadata={'source': '/review/rw9213569/?ref_=tt_urv', 'row': 70}), Document(page_content=\": 71\\nReview_Date: 23 July 2023\\nAuthor: dmmart-28624\\nRating: 6\\nReview_Title: Great if not ham-fisted message but a sloppy movie.\\nReview: I was pretty excited to see this film and hope I'm not going to get put on a list for saying I didn't enjoy it that much. The message of female empowerment was fine, but didn't really speak to gender equality. Barbieland is the opposite of real world where Barbies are in control and kens are perceived as the mindless accessories. However, the ending just puts Barbies back on top and doesn't do much to equality which I hope is our goal. The movie itself was very sloppy and all finish with no build up. You could tell the writers had ideas of what they wanted to have happen but had zero clue how to get there. They wanted Ken to take the patriarchy back to Barbieland but this happens immediately and off screen despite the Kens being bumbling morons the entire movie. It's all payoff and no buildup. Good acting from a strong cast made this more fun to watch but when you start thinking a little deeper it didn't make much sense. I think this was a made for tik tok movie where there's 100 great scenes to throw up on the internet but not very cohesive when put together.\\nReview_Url: /review/rw9213569/?ref_=tt_urv\", metadata={'source': '/review/rw9213569/?ref_=tt_urv', 'row': 71}), Document(page_content=\": 72\\nReview_Date: 20 July 2023\\nAuthor: PedroPires90\\nRating: 8\\nReview_Title: A triumph\\nReview: I appreciated it but wasn't a huge fan of Greta Gerwig's first two films. I knew absolutely nothing about Barbie except that it was a doll. The trailers didn't impress me. I slept less than an hour last night. I watched the movie alone surrounded by teenagers who cheered when the WB logo appeared in pink.\\nReview_Url: /review/rw9213569/?ref_=tt_urv\", metadata={'source': '/review/rw9213569/?ref_=tt_urv', 'row': 72}), Document(page_content=': 73\\nReview_Date: 30 July 2023\\nAuthor: ferguson-6\\nRating: 6\\nReview_Title: serious Barbie\\nReview: BARBIE (2023)\\nGreetings again from the darkness. A reasonable assumption could be made that a movie based on a doll so popular with pre-adolescent girls would be geared towards that audience. However, this is the era of comic book movies targeting \"grown-ups\", and since we know, based on her previous work (the exceptional LADY BIRD, 2017), Greta Gerwig is an intelligent filmmaker, a more reasonable assumption is that she purposefully aimed the movie at women who once played with Barbie dolls and now fill their days with work, family, and adulting. This strategy has proven to be box office gold, and the heavy dose of cosplay at screenings proves the lasting impact this plastic doll has had on many women who lined up for tickets.\\nReview_Url: /review/rw9213569/?ref_=tt_urv', metadata={'source': '/review/rw9213569/?ref_=tt_urv', 'row': 73}), Document(page_content=': 74\\nReview_Date: 25 July 2023\\nAuthor: Dello_\\nRating: 4\\nReview_Title: Funny and sharp first half, boring and baffling second one\\nReview: I had great expectations for the Barbie movie, mainly because of the writers (Greta Gerwig and Noah Baumbach) and the stellar cast with Margot Robbie and Ryan Gosling leading the way. Unfortunately I found myself disappointed, bored and shocked by some messages the movie tries to convey.\\nReview_Url: /review/rw9213569/?ref_=tt_urv', metadata={'source': '/review/rw9213569/?ref_=tt_urv', 'row': 74}), Document(page_content=': 75\\nReview_Date: 20 July 2023\\nAuthor: MatthewMichaelHoffman\\nRating: 10\\nReview_Title: Perhaps I treated you too harshly\\nReview: SCORE: 9.5/10\\nReview_Url: /review/rw9213569/?ref_=tt_urv', metadata={'source': '/review/rw9213569/?ref_=tt_urv', 'row': 75}), Document(page_content=\": 76\\nReview_Date: 23 July 2023\\nAuthor: a-hilton\\nRating: 10\\nReview_Title: Had me smiling all the way through\\nReview: Okay maybe it was a 9.5 because of two flaws: First was the Will Ferrell character and his board that made their point but then became superfluos. Second was that it is definitely not a kids' movie (although maybe they would see things that I didn't - I mean to be fair, the few kids in the theatre were well behaved so perhaps the movie got their full attention as well).\\nReview_Url: /review/rw9213569/?ref_=tt_urv\", metadata={'source': '/review/rw9213569/?ref_=tt_urv', 'row': 76}), Document(page_content=\": 77\\nReview_Date: 24 July 2023\\nAuthor: terryforma\\nRating: 6\\nReview_Title: It was good but far too preachy\\nReview: I really enjoyed the movie. The acting was amazing. Margot Robbie and Ryan Gosling was amazing. I just thought it was too on the nose. Like the message was literally forced in your face. It seemed lazy to me. I went in thinking it was going to be similar to The Truman Show and I wished it had've taken some elements from it because it would've made it much more powerful if so. I'm not going to spoil the ending but I thought the writers just gave up. Overall for me it's a 6/10. Good film but that's all. Definitely could've been less preachy. Ultimately, it's nice movie to see and I'd see it again at some point but it wasn't great.\\nReview_Url: /review/rw9213569/?ref_=tt_urv\", metadata={'source': '/review/rw9213569/?ref_=tt_urv', 'row': 77}), Document(page_content=': 78\\nReview_Date: 23 July 2023\\nAuthor: acdc_mp3\\nRating: 9\\nReview_Title: A really fun time\\nReview: Weeks ago I heard that there was going to be a Barbie movie coming out and my immediate first thought was \"Oh, God.\" I then forgot about it and then saw the trailer for it when we went to see the new Indiana Jones movie. I always enjoy seeing Margot Robbie when I can and Ryan Gosling looked like he was going to bring some humor to the movie, so when my wife asked if I wanted to see it, I said SURE! I\\'m glad I did.\\nReview_Url: /review/rw9213569/?ref_=tt_urv', metadata={'source': '/review/rw9213569/?ref_=tt_urv', 'row': 78}), Document(page_content=\": 79\\nReview_Date: 26 July 2023\\nAuthor: jack_o_hasanov_imdb\\nRating: 6\\nReview_Title: Pinkland\\nReview: This movie is an excellent marketing product. Cinemas were full, Even in Baku city. It was very difficult to find tickets. People dressed in pink clothes were coming to this event. I wore my black shirt and went. I think the movie was not good. I fell asleep in some scenes. There were lots of boring speeches. The movie was fun, that's obvious, but I didn't laugh much. This movie became one of the most different and crazy events of our day. I don't think it has any value as a movie. It was indeed a bad movie, but as an event it was fun. I don't regret. There were some references. I liked most of them. The acting wasn't bad, I think it was good. I was getting bored again near the end of the movie. Anyway, I think it was a crazy and fun event, but it was a bad movie.\\nReview_Url: /review/rw9213569/?ref_=tt_urv\", metadata={'source': '/review/rw9213569/?ref_=tt_urv', 'row': 79}), Document(page_content=': 80\\nReview_Date: 9 August 2023\\nAuthor: L3MM3\\nRating: \\nReview_Title: Boring, mind-numbing drivel\\nReview: I do not usually write reviews, but this is beyond description. Last time I wrote a review it was for the absolutely horrible wrinkle in time. This is almost as bad. At least Gosling plays his part well, but the story is abysmal. If you can find anything else to do like watch paint dry, then yes please do. You will save your brain cells the agony of a painful slow ..... nearly two hours long this was mind-numbing storytelling at its mediocre worst. How many ways can I say do not go see it if you have a choice. See anything else but this exercise in horrendous cliches and exaggerated self-importance. If I could give it negative 10 stars I would.\\nReview_Url: /review/rw9213569/?ref_=tt_urv', metadata={'source': '/review/rw9213569/?ref_=tt_urv', 'row': 80}), Document(page_content=': 81\\nReview_Date: 6 August 2023\\nAuthor: D4V1D2411\\nRating: 8\\nReview_Title: Fun enough to like it but easily to hate for its message\\nReview: : I feel confused about this movie, probably like a lot of people, on one hand I laughed as I hadnt with a movie in a long time and the vibe this movie has is just very appealing, but on the other hand while not being an anti-men movie and actually trying to have a deep message, it feels at some parts like a tantrum. The way it handles its feminist message is not the best, because while it tries to give a meaningful speach, it almost boarders with hate speach and ridiculization, I say almost, because a lot of this situations are just played by the laughs and when theyre not, while being bad, theyre not terrible. But this makes it sound like a bad movie, which barbie is not, at the end it manages to actually give a meaningfull speech about the wrong in the real world and takes some minutes to understand both sides. It is still not the best ending possible because it can be a little too ridiculous, when you have a movie thats like that all the time I dont think it matters all that much. And at the end of the day I took home with me the minutes of laughter this movie gave to me, an enjoying fun time that is worth watching.\\nReview_Url: /review/rw9213569/?ref_=tt_urv', metadata={'source': '/review/rw9213569/?ref_=tt_urv', 'row': 81}), Document(page_content=': 82\\nReview_Date: 20 July 2023\\nAuthor: moriumemoltre\\nRating: 6\\nReview_Title: Great acting but why this movie?\\nReview: I was really surprised about how much i liked Ryan Gosling in this. I had totally forgot about his comedic talent and timing. The movie works. There is definitely a moral message in this, even though I believe the majority of viewers will be too distracted by Margot Robbie and Ryan Goslings great performances and all of the comedy elements in this and the fact that the script is hardly worth being filmed. I feel like with a different script they could have created something truly great.\\nReview_Url: /review/rw9213569/?ref_=tt_urv', metadata={'source': '/review/rw9213569/?ref_=tt_urv', 'row': 82}), Document(page_content=': 83\\nReview_Date: 21 July 2023\\nAuthor: bankofmarquis\\nRating: 8\\nReview_Title: More Than Meets The Eye\\nReview: The Margot Robbie/Ryan Gosling curiosity BARBIE is a subversive film. This Greta Gerwig directed move lures you in by presenting a farcical/satirical look at the pastel colored \"Barbieland\" and the myriad of outfits and \"golly-gosh\" goodness of the world of this iconic Mattel doll (and her boyfriend, Ken). Once you are comfortably settled into this world, you are transformed to the \"real world\" and the much deeper themes of a women\\'s place in a patriarchal world.\\nReview_Url: /review/rw9213569/?ref_=tt_urv', metadata={'source': '/review/rw9213569/?ref_=tt_urv', 'row': 83}), Document(page_content=': 84\\nReview_Date: 23 July 2023\\nAuthor: hyllus-01262\\nRating: 6\\nReview_Title: Overhyped movie, had its moments though\\nReview: The first half was pretty enjoyable, fun, light, but it took itself too seriously by the second half. No longer allowing the talented cast, especially Gosling, to shine and make us laugh. It felt like the talents of Will Ferrell and Michael Cera were also somewhat underutilized. Interesting concept, had potential, but later in the movie, it definitely started to fall flat for me.\\nReview_Url: /review/rw9213569/?ref_=tt_urv', metadata={'source': '/review/rw9213569/?ref_=tt_urv', 'row': 84}), Document(page_content=\": 85\\nReview_Date: 23 July 2023\\nAuthor: jacobarch\\nRating: 3\\nReview_Title: Did I watch the same movie as everyone else lol\\nReview: While the production value, cinematography and acting were what you would expect from Margo Robbie and the supporting cast. I felt the movie fell short of not preaching to me and spreading a message of division rather than unity. Men and women cannot survive without each other but you'd never know it watching this movie. And me having my 13 year old daughter with me almost caused me to walk out of the theater. I kept on waiting for the writers to hit the direction of unity but it never came. After the movie my daughter brought up the message to me saying how she even noticed the weird agenda they're trying to push and said that is not a movie for the easily impressionable. Come to find out my daughter is better suited to take on the world that I thought she was. Proud day for me as a father.\\nReview_Url: /review/rw9213569/?ref_=tt_urv\", metadata={'source': '/review/rw9213569/?ref_=tt_urv', 'row': 85}), Document(page_content=': 86\\nReview_Date: 23 July 2023\\nAuthor: asayed-63121\\nRating: 9\\nReview_Title: Exceeds Expectations\\nReview: If you told me a few years ago that one of the best movies in 2023, and arguably the highest-grossing one is going to be Barbie, I would have laughed and called you crazy. But here we are, and the atmosphere in the theatre felt like a cultural revolution, which can become \"You just had to be there\" moment for the Gen-Zs.\\nReview_Url: /review/rw9213569/?ref_=tt_urv', metadata={'source': '/review/rw9213569/?ref_=tt_urv', 'row': 86}), Document(page_content=': 87\\nReview_Date: 12 August 2023\\nAuthor: eagandersongil\\nRating: 8\\nReview_Title: A perfect dollhouse\\nReview: \"Barbie\": Greta Gerwig\\'s new film manages to be extremely creative and original while, at the same time, a bit generic. The film starts strong with an impeccable introduction referencing \"2001: A Space Odyssey,\" and then transitions to the gigantic dollhouse that is Barbieland. The production design is simply incredible, the use of CGI is imperceptible, the practical effects are great, the costumes are unique, and the makeup and hair contribute to the excellent art direction. The performances are all good, especially those of Margot Robbie and Ryan Gosling, who as Ken manage to steal the scenes several times. The weakest point lies in the script, which hits and misses at every moment. Its execution is good, the story itself works well, even without explaining some details. Nothing comes close to hindering the experience. Greta aims to deliver strong critiques and attempts to remain neutral, but at a specific moment, she forces it too much, causing a disconnection with the viewer. In the following scene, there\\'s a spectacular sequence involving Ken, creating a sensation that his storyline is better. It\\'s not; it\\'s just more entertaining. The only \"weak\" storyline is that of the human mother-daughter duo and the executives. It\\'s one of the weaker aspects of a good, fun, exciting, and creative film, which falls short of being even better due to stumbling over its details.\\nReview_Url: /review/rw9213569/?ref_=tt_urv', metadata={'source': '/review/rw9213569/?ref_=tt_urv', 'row': 87}), Document(page_content=': 88\\nReview_Date: 21 July 2023\\nAuthor: captainsermig\\nRating: 6\\nReview_Title: It\\'s alright\\nReview: \"If you brought a 7 year old girl to see this movie she would neither have fun nor be happy at all\"\\nAnd this was my girlfriend\\'s statement as soon as we left the cinema.\\nReview_Url: /review/rw9213569/?ref_=tt_urv', metadata={'source': '/review/rw9213569/?ref_=tt_urv', 'row': 88}), Document(page_content=\": 89\\nReview_Date: 22 July 2023\\nAuthor: bm230199\\nRating: 10\\nReview_Title: Heart-warming, serious and such an important movie for everyone to see!\\nReview: When I sat down to watch this film I assumed it would be some fun pink silly movie but it was not in the best possible way. It starts very much in that way but the second Barbie gets to the real world everything changes and the film makes so many important statements on sexism and the treatment of women. I thought it perfectly addressed the affect Barbie has had on the world and never shied away from it. This movie does not flinch away from the reality of the world or what damage ignorance can do (Ken). America Ferrera's speech is amazing and moved me so much as did Barbie's own found freedom. Robbie was an amazing Barbie and all the women shined in this movie...and Alan was pretty good too. It was everything you can want from a movie, sharp, whitty, moving, honest and progressive. The perfect Barbie.\\nReview_Url: /review/rw9213569/?ref_=tt_urv\", metadata={'source': '/review/rw9213569/?ref_=tt_urv', 'row': 89}), Document(page_content=': 90\\nReview_Date: 30 July 2023\\nAuthor: msbecca00\\nRating: 6\\nReview_Title: Not as clever as it thinks it is\\nReview: I went into the film having high expectations, the marketing for Barbie has been really effective, I have to give them that. I had also heard good things about the movie from friends and co-workers. So I went to the cinema with my friend, dressed in pink.\\nReview_Url: /review/rw9213569/?ref_=tt_urv', metadata={'source': '/review/rw9213569/?ref_=tt_urv', 'row': 90}), Document(page_content=\": 91\\nReview_Date: 20 July 2023\\nAuthor: threenails10\\nRating: 9\\nReview_Title: It's really something different and that's a good thing\\nReview: It's really something different but some of it feels inspired by other films, I caught references to Fight Club, 2001 Space Odyssey, Lego Movie, and others I can't think of at the moment. But yeah, this was a special film. I don't think as many people will like it as it probably deserves. But I did love most of it. Sometimes the tones felt off at times but it's definitely recommended to see. The satire works great here and the production design, cinematography and acting (intentionally bad in a way on purpose in some spots to deliver the satire aspects) are all perfectly done here though overall. The music is a highlight here too which is sometimes hilarious and reminded me of the Lego movie in some ways. Ryan Gosling and Margot Robbie are both pitch perfect here as well. Definitely recommend anyone to give it a chance. I wouldn't say this is a family movie but I think families with older kids would work perfectly for this. Not sure this will be in the Oscar race but it seems like it will at least for technical aspects and production designs.\\nReview_Url: /review/rw9213569/?ref_=tt_urv\", metadata={'source': '/review/rw9213569/?ref_=tt_urv', 'row': 91}), Document(page_content=\": 92\\nReview_Date: 28 July 2023\\nAuthor: edwardrevans\\nRating: 7\\nReview_Title: Good but not for under 12's\\nReview: I saw this movie tonight and it was very entertaining but if your a parent and have young Children THEY WILL GET BORED as this is not a kids movie, it is on a higher intellectual plain than that. You could honestly say this is a movie for feminists, now thats not a bad thing as I saw it with my daughter and have always encouraged her to be whoever she wanted to be and played with Barbie when she was young (she's 23 now) .\\nReview_Url: /review/rw9213569/?ref_=tt_urv\", metadata={'source': '/review/rw9213569/?ref_=tt_urv', 'row': 92}), Document(page_content=': 93\\nReview_Date: 8 August 2023\\nAuthor: medekfan\\nRating: \\nReview_Title: Surprisingly great\\nReview: Barbie the movie was much better and with more character, story quality and depth than I expected. I went into the movie to see what the fuss was about and for a bit of something fun to do and left feeling happy the rest of the day, thinking about its story a lot, the interesting execution and styling. I also played the soundtrack which has some great songs.\\nReview_Url: /review/rw9213569/?ref_=tt_urv', metadata={'source': '/review/rw9213569/?ref_=tt_urv', 'row': 93}), Document(page_content=': 94\\nReview_Date: 14 August 2023\\nAuthor: thesar-2\\nRating: 9\\nReview_Title: You Ken Do It!\\nReview: Funny this was teamed with Oppenheimer because this was anything but a bomb.\\nReview_Url: /review/rw9213569/?ref_=tt_urv', metadata={'source': '/review/rw9213569/?ref_=tt_urv', 'row': 94}), Document(page_content=': 95\\nReview_Date: 25 July 2023\\nAuthor: afuschiaperfume\\nRating: 6\\nReview_Title: Too much social commentary not enough Barbie\\nReview: I knew this was going to be political going in but I thought its Barbie so I could overlook it. But it was too much, I do not enjoy politics in movies, whether it\\'s left or right. I expected it to be more fun, and feel good, and it was for some parts but not enough at all. Ryan was great and so was Margot but I did not understand why Barbie didn\\'t like Ken, it\\'s wildly known that Barbie loves Ken and Ken loves Barbie, it\\'s iconic and it made no sense for everything else in Barbie land to be accurate but not that. Another problem was the writing it was very \"told and not shown\" as well as wordy. The scenery was great as well as the costumes, but the story could have been so much better. Like Barbie and Ken take L. A. on a fun adventure and some self-discovery but it wasn\\'t really like that. The ending was confusing does Barbie want to have a baby?\\nReview_Url: /review/rw9213569/?ref_=tt_urv', metadata={'source': '/review/rw9213569/?ref_=tt_urv', 'row': 95}), Document(page_content=\": 96\\nReview_Date: 1 August 2023\\nAuthor: levybob\\nRating: 5\\nReview_Title: Why Didn't I Love This Movie?\\nReview: Why didn't I love 'Barbie'? I mean it's a brilliantly shot film. It's got a great Ryan Gosling, a very good Margot Robbie. Its heart is in the right place; its message is a good, politically correct, one. Its pacing is fine. Its not too long. So then, what was wrong?\\nReview_Url: /review/rw9213569/?ref_=tt_urv\", metadata={'source': '/review/rw9213569/?ref_=tt_urv', 'row': 96}), Document(page_content=\": 97\\nReview_Date: 9 August 2023\\nAuthor: kosmasp\\nRating: 9\\nReview_Title: OPP - Eve and Adam\\nReview: No pun intended - OPP as in other peoples .... patriarchy! What did you think the last p stood for? Naughty (by nature) are we? Kidding aside, I know that song too and I chose it ... well I would say wisely. Not sure if you think I am hammering anything home here ... I can tell you the movie is! And it did make quite a few people angry - now I understand that one should not count the times you hear the word patriarchy ... won't bode well for you. Also it is quite a lot.\\nReview_Url: /review/rw9213569/?ref_=tt_urv\", metadata={'source': '/review/rw9213569/?ref_=tt_urv', 'row': 97}), Document(page_content=\": 98\\nReview_Date: 15 August 2023\\nAuthor: EUyeshima\\nRating: 8\\nReview_Title: Perceptive Take on the Barbie Mythos\\nReview: There's a bold and consistent current of subversive humanism that runs through this infectious 2023 satire that director Greta Gerwig manages with stylish aplomb. She and partner Noah Baumbach have taken the Barbie mythos and built a multilayered narrative around the evolving nature of female identity and empowerment within the context of male dominance and the patriarchy that has defined sexual roles since the beginning of time. However, this is neither a treatise nor a polemic. It's still primarily a fun, free-wheeling farce with Day-Glo colors and silly choreography filling up the screen with zestful energy informed by a knowing perspective. Margot Robbie is ideally cast in the title role as she epitomizes stereotypical Barbie. Ryan Gosling gives Ken the right level of disempowerment as he gets taken in by the lure of toxic masculinity. The rest of the cast appear equally game. Gerwig has truly applied a perceptive twist to a candy-coated girlhood memory.\\nReview_Url: /review/rw9213569/?ref_=tt_urv\", metadata={'source': '/review/rw9213569/?ref_=tt_urv', 'row': 98}), Document(page_content=\": 99\\nReview_Date: 19 July 2023\\nAuthor: trinculodino\\nRating: 6\\nReview_Title: Witty, funny but severly sterotypical\\nReview: A good laugh of a film poking fun at Mattel, complicating the concept of Barbie while at the same time highligting the patriarchy and it's inherent incompatibility with human emancipation.\\nReview_Url: /review/rw9213569/?ref_=tt_urv\", metadata={'source': '/review/rw9213569/?ref_=tt_urv', 'row': 99}), Document(page_content=': 100\\nReview_Date: 21 July 2023\\nAuthor: MrDHWong\\nRating: 9\\nReview_Title: A darkly satirical look at gender structure in society\\nReview: \"Barbie\" is a comedy film based on the line of fashion dolls by Mattel. Directed and co-written by Greta Gerwig (\"Lady Bird\", \"Little Women\") and starring Margot Robbie and Ryan Gosling, it takes every opportunity to revel in its amusing premise with a darkly satirical look at gender structure in society.\\nReview_Url: /review/rw9213569/?ref_=tt_urv', metadata={'source': '/review/rw9213569/?ref_=tt_urv', 'row': 100}), Document(page_content=\": 101\\nReview_Date: 10 August 2023\\nAuthor: arcelivez-753-983928\\nRating: 6\\nReview_Title: Honestly - no idea why people are so hyped up with this\\nReview: Honestly I really have no idea why this movie seems to be so popular. Again honest - I went there just for Margot Robbie (I'm a married 34 year old male, and margot is one of my top 3 favorite actrices of all time, and arguably the most talented one from my list). And for that part it was totally ok. But the movie absolutely doesn't deserve an imdb rating above 5.6. The plot itself was very simple. Absolutely nothing particularly special in it. So if it is in fact getting rated so high just because of Margot alone, then why do her other movies don't get rated that well and get that much attention? Honestly I really don't understand and I think this movie is way too overhyped for no reason. And I have no idea why... For other movies that get hyped like that I do see the reasons why they're getting so hyped. So the movie is not awful, but it's rather average, if you're not going there specifically for Margot then I am pretty sure there will be multiple movies at your local cinema at the time you're reading this, which are way more worth watching than this one...\\nReview_Url: /review/rw9213569/?ref_=tt_urv\", metadata={'source': '/review/rw9213569/?ref_=tt_urv', 'row': 101}), Document(page_content=\": 102\\nReview_Date: 29 July 2023\\nAuthor: willsfamily11\\nRating: 10\\nReview_Title: It's not what you think.\\nReview: I am a MASSIVE and lifelong Barbie fanatic. I went in to this movie absolutely pumped. I came out of the movie blown away. Typical of Barbie, she blew me away with the absolute depth of her message. America Ferrera's monologue in Barbie Land had people clapping in the theatre. I appreciated it as a Mother, daughter, sister, wife and human being. The truth bombs she dropped got me right in the feels. I know. You are likely rolling your eyes and balking at the sheer IDEA that a BARBIE movie could be in any way profound. I say to you, you must not REALLY know Barbie then. This really was, if I think about it, in true Barbie fashion. Well done, my lady. Well done.\\nReview_Url: /review/rw9213569/?ref_=tt_urv\", metadata={'source': '/review/rw9213569/?ref_=tt_urv', 'row': 102}), Document(page_content=\": 103\\nReview_Date: 24 July 2023\\nAuthor: welhof1\\nRating: 6\\nReview_Title: Decent but not my type\\nReview: I'm a man in his 40's and I know I'm clearly not their target demographic. I went with my girlfriend and her two daughters and they enjoyed it.\\nReview_Url: /review/rw9213569/?ref_=tt_urv\", metadata={'source': '/review/rw9213569/?ref_=tt_urv', 'row': 103}), Document(page_content=\": 104\\nReview_Date: 19 July 2023\\nAuthor: frisoflorentinus\\nRating: 8\\nReview_Title: Unexpectedly good!\\nReview: I was be able to attend the pre premiere of this movie and I have to say this movie was unexpectetly good and this comes from a non Barbie fan. Barbie is the role Robbie was clearly born to play. Ryan Gosling and Simu Liu were incredible too and actually the whole cast of this movie shines ! Barbie is a brilliantly executed, incredibly fun, brightly colored, completely logical feminist statement that should be remembered come awards season. Ultimately, Barbie is so many things: a stereotype, a toy, an idea; a vessel of imagination; a cultural relic. But in Gerwig's trusted hands, this is Barbie like you've never seen her before.\\nReview_Url: /review/rw9213569/?ref_=tt_urv\", metadata={'source': '/review/rw9213569/?ref_=tt_urv', 'row': 104}), Document(page_content=\": 105\\nReview_Date: 28 July 2023\\nAuthor: mohamed-elbehairy\\nRating: 6\\nReview_Title: Had some good moments but that's it\\nReview: I found the movie to be refreshing, but it's far from perfect.\\nReview_Url: /review/rw9213569/?ref_=tt_urv\", metadata={'source': '/review/rw9213569/?ref_=tt_urv', 'row': 105}), Document(page_content=\": 106\\nReview_Date: 1 August 2023\\nAuthor: fredrikgunerius\\nRating: 5\\nReview_Title: A trite, divisive and most likely futile battle of the sexes\\nReview: The big summer blockbuster of 2023 is a wonderful visual spectacle with a great deal of creative physical comedy, centered in and around the universe of Barbie, Mattel's historic toy doll. Unfortunately, the film tries to be and do much more than what the filmmakers ultimately are able to control and reel in. That a movie about Barbie would be guilty of Americanization is no surprise, and in many ways more than befitting, but the Americanization here isn't just about the history of the toy itself and all its cultural impacts - Barbie also views everything through the eyes of Hollywood anno 2023 - which arguably is a very particular and perhaps not that representative outlook. Instead of utilizing the fine foundation laid in the film's first third, director and co-writer Greta Gervig (Lady Bird, Little Women) gets herself lost in a trite, divisive and most likely futile battle of the sexes, which will leave youths - and perhaps particularly Europeans - feeling confused and conflicted. The filmmakers' supposed toying with stereotypes ultimately becomes more of a playing into them, especially towards the end when Gerwig staggers along desperately looking for closure and something meaningful to say. Alas, Barbie has ended up as a rather sad symptom of our times, when it could have been the wonderfully funny piece of femininity-appraising escapism it started out as. There are nonetheless several highlights here, such as the delightfully absurd opening sequence (a fine nod to Kubrick's 2001), the initial introduction of Barbie and Ken's days in Barbieland, and - of course - their first encounter with the real world.\\nReview_Url: /review/rw9213569/?ref_=tt_urv\", metadata={'source': '/review/rw9213569/?ref_=tt_urv', 'row': 106}), Document(page_content=': 107\\nReview_Date: 1 August 2023\\nAuthor: tforbes-2\\nRating: 10\\nReview_Title: Mind blowing\\nReview: Barbie is simply a mind-blowing experience, and in a truly fine way! I was taken aback with the 2001 opening, since I have a personal aversion to seeing toys get destroyed, but then it starts to unfold.\\nReview_Url: /review/rw9213569/?ref_=tt_urv', metadata={'source': '/review/rw9213569/?ref_=tt_urv', 'row': 107}), Document(page_content=': 108\\nReview_Date: 16 August 2023\\nAuthor: bhernandez2216\\nRating: 10\\nReview_Title: A beautiful Barbie movie in 2023!!!\\nReview: Wow!!! Barbie really brought my attention in the cinemas! It made me laugh and cry at the same time. I was literally enjoying the best moments in the film, and it really is a beautiful movie, and Barbie was made for kids, but there are also not meant for kids.\\nReview_Url: /review/rw9213569/?ref_=tt_urv', metadata={'source': '/review/rw9213569/?ref_=tt_urv', 'row': 108}), Document(page_content=\": 109\\nReview_Date: 19 July 2023\\nAuthor: PK_71\\nRating: 7\\nReview_Title: Well played.\\nReview: For me, Barbie came very, very close to an 8/10 rating. The only reason it didn't quite get there was that it contains a few scenes that are too long and a bit too weak.\\nReview_Url: /review/rw9213569/?ref_=tt_urv\", metadata={'source': '/review/rw9213569/?ref_=tt_urv', 'row': 109}), Document(page_content=\": 110\\nReview_Date: 22 July 2023\\nAuthor: No-Life-101\\nRating: 8\\nReview_Title: Barbie has an existential crisis\\nReview: Barbie is a really fun movie that all ages can enjoy because while it's colourful and entertaining the main storyline can get emotional at times. The comedy in the movie is pretty funny too and got a few laughs from everyone in the cinema, the music is really nice and so are the choreographed dances. What I liked the most about this movie is that it was very doll-like, the food and drink were plastic and fake, the cars didn't have engines and just glided along the floor, and the actors were doll-like in their movements and how they interacted with their environment.\\nReview_Url: /review/rw9213569/?ref_=tt_urv\", metadata={'source': '/review/rw9213569/?ref_=tt_urv', 'row': 110}), Document(page_content=\": 111\\nReview_Date: 19 July 2023\\nAuthor: sriya-76870\\nRating: 6\\nReview_Title: Boring Movie\\nReview: Dont fall for the 5 star reviews. This movie is extremely boring and goes on without a purpose even if it has it's hard to understand.\\nReview_Url: /review/rw9213569/?ref_=tt_urv\", metadata={'source': '/review/rw9213569/?ref_=tt_urv', 'row': 111}), Document(page_content=\": 112\\nReview_Date: 10 August 2023\\nAuthor: JapanMovies\\nRating: \\nReview_Title: Barbie-Verse begins,\\nReview: As I watched Barbie the Movie, I couldn't help but feel a sense of nostalgia wash over me. The vibrant pink color that permeated the film brought back memories of my childhood, when everything seemed so vibrant and full of life.\\nReview_Url: /review/rw9213569/?ref_=tt_urv\", metadata={'source': '/review/rw9213569/?ref_=tt_urv', 'row': 112}), Document(page_content=\": 113\\nReview_Date: 7 August 2023\\nAuthor: christopherbrooke\\nRating: 10\\nReview_Title: Amazing movie (watched it twice now)\\nReview: Having seen this movie twice now, I've laughed, I've cried and I enjoyed every minute of this movie! When I first saw the trailer for this movie I was thinking there is no way this movie will be any good! Well I am happy to say that I am wrong because I thoroughly enjoyed this movie from beginning to end! Margot Robbie was great as Barbie while Ryan Gosling was great as Ken! It also stars America Ferreira, Will Farrell and other A-List actors! It definitely has a great story line to it and the soundtrack was also amazing! For those who are skeptical about the movie, DON'T BE! I highly recommend it.\\nReview_Url: /review/rw9213569/?ref_=tt_urv\", metadata={'source': '/review/rw9213569/?ref_=tt_urv', 'row': 113}), Document(page_content=': 114\\nReview_Date: 5 August 2023\\nAuthor: pierreolivier-21287\\nRating: 6\\nReview_Title: What did I just watch?\\nReview: I feel... Confused? I guess?\\nReview_Url: /review/rw9213569/?ref_=tt_urv', metadata={'source': '/review/rw9213569/?ref_=tt_urv', 'row': 114}), Document(page_content=\": 115\\nReview_Date: 19 July 2023\\nAuthor: Ralifax\\nRating: 8\\nReview_Title: Positively surprised\\nReview: Addresses current critical issues; basically, the movie revolves around that. The central ideas are patriarchy and female empowerment, which I believe were handled intelligently and elegantly. I was particularly surprised in this regard; I didn't expect the film to be so mature.\\nReview_Url: /review/rw9213569/?ref_=tt_urv\", metadata={'source': '/review/rw9213569/?ref_=tt_urv', 'row': 115}), Document(page_content=\": 116\\nReview_Date: 31 July 2023\\nAuthor: shaikhirshad-41223\\nRating: 6\\nReview_Title: Only for Margot Robbie.....\\nReview: This movie is specially for those who loves the character of barbie specially in childhood. This film is a treat for Barbie lovers because the way director has told the storyline by introducing a whole barbie world and their characters is interesting to watch. Specially MARGOT ROBBIE what and actress she is her looks, style, acting performances, dresses of barbie all are top notch. Margot Robbie is perfectly suited for this role because she is the only one carrying the whole movie throughout the end. From start to end the main highlight of the this film is Margot Robbie. I've only watched this film for her and she has proved that currently she is one of the best actress in Hollywood. When I talk about supporting cast RYAN GOSLING is the only one who has done justice to the character of Ken rest are just average. Story is the main disappointment of the film, Film starts on a good note with laughs and riot of chaos when Barbie enters into the real world but after a bit of time story get exaggerated and only focuses on the central character which is the drawback of the film and from that case movie doesn't get the chance to give space to the other important characters. Background score and songs are good that wil give you a fresh vibe while watching this film. All n all this movie is a treat for Barbie fans and rest of the audience may consider as an average content....\\nReview_Url: /review/rw9213569/?ref_=tt_urv\", metadata={'source': '/review/rw9213569/?ref_=tt_urv', 'row': 116}), Document(page_content=\": 117\\nReview_Date: 21 July 2023\\nAuthor: olelmao\\nRating: 4\\nReview_Title: Didn't meet my expectations\\nReview: I wanted to love this movie but it just wasn't it :(\\nReview_Url: /review/rw9213569/?ref_=tt_urv\", metadata={'source': '/review/rw9213569/?ref_=tt_urv', 'row': 117}), Document(page_content=': 118\\nReview_Date: 16 August 2023\\nAuthor: mollyt-73422\\nRating: 10\\nReview_Title: Absolutely powerful movie and changed my perspective on life\\nReview: This movie is not for people who cry a lot. It was a beautiful movie with proper cinematic gold.\\nReview_Url: /review/rw9213569/?ref_=tt_urv', metadata={'source': '/review/rw9213569/?ref_=tt_urv', 'row': 118}), Document(page_content=\": 119\\nReview_Date: 26 July 2023\\nAuthor: parksiet\\nRating: 10\\nReview_Title: Barbie is the film we need right now\\nReview: I say this without a shred of irony; Greta Gerwig's Barbie is undoubtedly the film we so desperately need right now. This is the movie of our time - a film that shows us what life and society are like now, as well as shows us how we can do better. Plus, the movie is pure joy! It's a perfect mix of existentialism, heartfelt and important social-commentary and unapologetic silliness. This is the most fun I've had at a movie in a long time - and yet thanks to Gerwig's incredible script it also manages to be very a profound exploration of feminism, existentialism, the patriarchy, and masculinity all packaged in a satirical musical comedy homage to the fabric of cinema.\\nReview_Url: /review/rw9213569/?ref_=tt_urv\", metadata={'source': '/review/rw9213569/?ref_=tt_urv', 'row': 119}), Document(page_content=': 120\\nReview_Date: 3 August 2023\\nAuthor: PennyReviews\\nRating: 6\\nReview_Title: Good Enough\\nReview: Barbie is a fun summery movie for all ages.\\nReview_Url: /review/rw9213569/?ref_=tt_urv', metadata={'source': '/review/rw9213569/?ref_=tt_urv', 'row': 120}), Document(page_content=\": 121\\nReview_Date: 21 July 2023\\nAuthor: GusherPop\\nRating: 10\\nReview_Title: Greta shows real power of woman in Barbie\\nReview: Greta Gerwig's Barbie explores creation myths in Barbieland, a parallel universe populated by Mattel dolls. The director uses the toy conglomerate's vast archive and successful products as tools to create a rich and weird material. The movie is a clever send-up of Barbie dolls and their legacy, featuring light-hearted jokes that poke fun at Mattel, the doll's lore, and the contradictions of our sexist society. The director's storytelling is impressive, and the film's humor is both lighthearted and chuckle-worthy. Gerwig's Barbieland, created by Sarah Greenwood and Jacqueline Durran, is a pink fever dream with funky compositions by Mark Ronson and Andrew Wyatt, bubblegum anthems by Dua Lipa, Nicki Minaj, and Ice Spice. The film features plastic trees and identical two-story Barbie dream homes, with flying being the preferred mode of transportation. The production design and costuming are exceptional, showcasing Gerwig's passion for details and her ability to create a dreamlike world. Barbieland is a feminist utopia in which Barbies serve as presidents, Supreme Court members, doctors, physicists, Nobel prize winners, and cancer cures. The dolls are not structurally different from our world, but they are represented by political fantasy and decade-dependent what-ifs. Barbie has gone to space, could vote, and own property before many human women, and her appearance has changed to mirror society's beauty politics. The representational doll has become an extension of political fantasy, reflecting the beauty politics of society. Gerwig features a cast of Barbies, including Issa Rae, Emma Mackey, Alexandra Shipp, and Hari Nef. Stereotypical Barbie (Margot Robbie) is the protagonist, a blonde-haired, blue-eyed Barbie created by Ruth Handler. Her Ken counterpart, Ryan Gosling, is portrayed with humor and heart. They are a version of Eve and Adam, with their fall being dramatic. Barbie finds her perfect life hampered by existential thoughts and seeks answers from Weird Barbie (Kate McKinnon), a doll with a traumatic history. Stereotypical Barbie, with Ken, heads to real-world Los Angeles to find her little girl. The relationship between Barbies and their human owners is tenuously outlined, so it's best not to think too deeply about how it all works. Robbie's performance in Gerwig's Barbie highlights the tension between Barbie as an object and subject. Her expressive eyes and physical presence reveal the human world's forces, while her rigid presence in Barbieland suggests she's not less rigid in the real world. Despite the director's skill in capturing deeper themes, the film's ominousness and muddied politics suggest it ultimately serves a brand. The film's ominousness and muddied politics suggest the film serves as a brand. Gerwig's film Barbieland is a mix of fun and emotional depth, with a tension between keeping Barbie entertaining and blending her source material with previous projects. After a detour, Barbie returns home to find Ken's patriarchal knowledge has transformed Barbieland. The screenplay, by Gerwig and Noah Baumbach, avoids familiarity and mockery, but the moments that aren't just funny are buried in important monologues, making the gestures feel politically hollow. The film's mandate is too ambitious, making it feel politically hollow.\\nReview_Url: /review/rw9213569/?ref_=tt_urv\", metadata={'source': '/review/rw9213569/?ref_=tt_urv', 'row': 121}), Document(page_content=\": 122\\nReview_Date: 30 July 2023\\nAuthor: Rice-and-Beans34\\nRating: 6\\nReview_Title: I don't get all the hype...\\nReview: This movie is many things. One may say it is a story of strength, and finding the beauty in yourself. Others, may just not like it. I am in the middle of all of that. The movie was a little better than meh, but lacked in some aspects that it could have dealt with more. I think Margot Robbie and Ryan Gosling were good, but I really didn't like their characters (Mostly Ken) The musical numbers and camera work were amazing. But, by far three things stood out to me. One, the costumes design and sets. The directors sculpted amazing set design with colorful costumes to go along with it. My honorable mention is Rhea Perlman. I thought she was phenomenal. While anyone could play that role she really brought it. Finally, America Ferrara. Since her days on Ugly Betty, she has became a household name. But in this movie she was wonderful. I enjoyed Superstore quite a bit and wanted to see Barbie mainly for her character. Her speech was moving and she brought so much to her simple, yet relatable mom.\\nReview_Url: /review/rw9213569/?ref_=tt_urv\", metadata={'source': '/review/rw9213569/?ref_=tt_urv', 'row': 122}), Document(page_content=\": 123\\nReview_Date: 23 July 2023\\nAuthor: mafiagirl-21431\\nRating: 8\\nReview_Title: So fun and charming!\\nReview: So i've just got back from theaters and all i got to say is wow, that was such a fun, funny, charming movie and the Barbie world was just so colorful ! ( which we knew from the trailers )\\nReview_Url: /review/rw9213569/?ref_=tt_urv\", metadata={'source': '/review/rw9213569/?ref_=tt_urv', 'row': 123}), Document(page_content=': 124\\nReview_Date: 24 July 2023\\nAuthor: steveinadelaide\\nRating: 6\\nReview_Title: Cute but shallow\\nReview: So I headed to the cinema to watch Barbie, the new live-action adaptation of the beloved doll franchise. I had high hopes. Unfortunately, it fell short. Barbie takes us on a journey, with Margot Robbie portraying \"Stereotypical\" Barbie as she leaves her world of Barbieland and enters the Real World. She encounters friends, overcomes challenges, and discovers important lessons about herself and others. Barbie doesn\\'t always hit the mark while attempting to blend comedy, drama and fantasy elements. The plot feels predictable and filled with clichés, and the theme and tone are sometimes inconsistent and confusing. The acting and characters come across as stereotypes (something expected in Barbieland but not in the Real World).\\nReview_Url: /review/rw9213569/?ref_=tt_urv', metadata={'source': '/review/rw9213569/?ref_=tt_urv', 'row': 124}), Document(page_content=': 125\\nReview_Date: 13 August 2023\\nAuthor: scottt1bbs\\nRating: 10\\nReview_Title: Super fun!! The discourse around the movie is stupid\\nReview: I went and watched Barbie with my younger brother, and we both had lots of fun throughout the entire movie, even durkng the more emotional parts. The outfits, music, sets, characters, and everything are super colorful and interesting.\\nReview_Url: /review/rw9213569/?ref_=tt_urv', metadata={'source': '/review/rw9213569/?ref_=tt_urv', 'row': 125}), Document(page_content=': 126\\nReview_Date: 5 August 2023\\nAuthor: HuskerNation1\\nRating: 7\\nReview_Title: Funny And Good Cast, But Not This \"Great\" Movie Everyone\\'s Been Saying\\nReview: I wasn\\'t dying to see this, but I felt like I had to participate in the Barbenheimer phenomenon, and the trailer looked good, so I went. I went in with reasonably high expectations because the reviews were high and it has a good cast and crew behind it. I was slightly disappointed.\\nReview_Url: /review/rw9213569/?ref_=tt_urv', metadata={'source': '/review/rw9213569/?ref_=tt_urv', 'row': 126}), Document(page_content=\": 127\\nReview_Date: 21 July 2023\\nAuthor: michelle-kissler\\nRating: 5\\nReview_Title: Barbie, Swing and a Miss\\nReview: This film had the potential to become a cult classic with its strong cast, stunning costumes, and iconic character. However, it failed to live up to expectations, falling flat just like *spoiler Barbie's heels.\\nReview_Url: /review/rw9213569/?ref_=tt_urv\", metadata={'source': '/review/rw9213569/?ref_=tt_urv', 'row': 127}), Document(page_content=': 128\\nReview_Date: 6 August 2023\\nAuthor: jmctiernan-23388\\nRating: 9\\nReview_Title: Not the movie you think its going to be\\nReview: I expected this to be horrible, ditzy stereotypes, poor portrayal of each gender, or a best a 2 hour long advertisement for their toys.\\nReview_Url: /review/rw9213569/?ref_=tt_urv', metadata={'source': '/review/rw9213569/?ref_=tt_urv', 'row': 128}), Document(page_content=\": 129\\nReview_Date: 19 July 2023\\nAuthor: A7medSalah\\nRating: 8\\nReview_Title: Greta Gerwig Masterpiece\\nReview: A fun and clever enough comedy and twist on the world's most famous doll with wonderful production values, a charming Margot Robbie and an absolute hilarious Ryan Gosling.\\nReview_Url: /review/rw9213569/?ref_=tt_urv\", metadata={'source': '/review/rw9213569/?ref_=tt_urv', 'row': 129}), Document(page_content=\": 130\\nReview_Date: 25 July 2023\\nAuthor: silvangigerstudio\\nRating: 6\\nReview_Title: ABUSE OF THE BARBIE\\nReview: Here's the thing.\\nReview_Url: /review/rw9213569/?ref_=tt_urv\", metadata={'source': '/review/rw9213569/?ref_=tt_urv', 'row': 130}), Document(page_content=': 131\\nReview_Date: 30 July 2023\\nAuthor: roro_sa\\nRating: 10\\nReview_Title: Take your mom, sister, daughter, aunt, everyone to see this movie!\\nReview: This movie was so unexpected.\\nReview_Url: /review/rw9213569/?ref_=tt_urv', metadata={'source': '/review/rw9213569/?ref_=tt_urv', 'row': 131}), Document(page_content=': 132\\nReview_Date: 6 August 2023\\nAuthor: pompeiirome\\nRating: 6\\nReview_Title: Ryan Gosling, a pure showman\\nReview: If forgotten, Ryan Gosling started off in the mickey mouse club. Important to remember because wow what a talented individual. Recent memory sees him leading roles that require a more stoic subdued approach, and it can be easy to miss his range. Barbie seeks to utilize all his acting muscles, and to a resounding success. He can sing, dance, act, and do comedy.\\nReview_Url: /review/rw9213569/?ref_=tt_urv', metadata={'source': '/review/rw9213569/?ref_=tt_urv', 'row': 132}), Document(page_content=\": 133\\nReview_Date: 4 August 2023\\nAuthor: mariamakesmusic\\nRating: 10\\nReview_Title: This is a work of art.\\nReview: This is a masterpiece with little to no short-cuts taken on everything that makes a film great - writing, wardrobe, make-up, choreography, set, acting etc. The cast is incredible. Margot Robbie fits the role of Barbie so well. Ryan Gosling (IMO) steals the show as Ken. I found his performance to be the stand-out. I always love seeing Issa Rae anywhere and I think she should be everywhere because she's so talented. I can't say enough about America Ferrera's monologue rant - the writing of that monologue was spectacular but Ferrera's delivery of it was one of my favourite scenes in this movie.\\nReview_Url: /review/rw9213569/?ref_=tt_urv\", metadata={'source': '/review/rw9213569/?ref_=tt_urv', 'row': 133}), Document(page_content=': 134\\nReview_Date: 12 August 2023\\nAuthor: greekdx\\nRating: 6\\nReview_Title: Bizare at most\\nReview: This movie was a big hype not only in the internet but also in the local radio and tv. This was a good reason to watch this movie. It was watched in a open place cinema. The audience flooded it more than its limit with a rate of 70/30 of females vs males.\\nReview_Url: /review/rw9213569/?ref_=tt_urv', metadata={'source': '/review/rw9213569/?ref_=tt_urv', 'row': 134}), Document(page_content=': 135\\nReview_Date: 19 July 2023\\nAuthor: Mini135\\nRating: 9\\nReview_Title: Barbie is On Her Way to the Oscars\\nReview: When I first knew there was a Barbie movie in production, a live action, I thought \"It should be as bad as the others movies\"...\\nWhen I notice was Greta Gerwig making the movie, my expectation get higher. Then, when I saw the cast, my expectations were even higher!\\nReview_Url: /review/rw9213569/?ref_=tt_urv', metadata={'source': '/review/rw9213569/?ref_=tt_urv', 'row': 135}), Document(page_content=\": 136\\nReview_Date: 27 July 2023\\nAuthor: mr_sharma\\nRating: 7\\nReview_Title: I'm a middle aged man with daughters. I liked it.\\nReview: I suspect this is a personal thing. Who you are defines what you may get from this.\\nReview_Url: /review/rw9213569/?ref_=tt_urv\", metadata={'source': '/review/rw9213569/?ref_=tt_urv', 'row': 136}), Document(page_content=': 137\\nReview_Date: 21 July 2023\\nAuthor: jonathanruano\\nRating: 2\\nReview_Title: Barbie - Unspeakably Bad\\nReview: I am not surprised in the least that the Barbie movie is trash and a truly deplorable career choice by Margot Robbie who will probably be type cast forever in Barbie-type roles.\\nReview_Url: /review/rw9213569/?ref_=tt_urv', metadata={'source': '/review/rw9213569/?ref_=tt_urv', 'row': 137}), Document(page_content=\": 138\\nReview_Date: 10 August 2023\\nAuthor: hjalsayegh\\nRating: 8\\nReview_Title: A lot of fun and surprisingly funny\\nReview: The movie is surprisingly well written. Yes it is a fluff piece, it's called Barbie after all, but for what it was a lot of thought went into all the little details.\\nReview_Url: /review/rw9213569/?ref_=tt_urv\", metadata={'source': '/review/rw9213569/?ref_=tt_urv', 'row': 138}), Document(page_content=': 139\\nReview_Date: 8 August 2023\\nAuthor: carsondlx\\nRating: 9\\nReview_Title: BlackPink in your area\\nReview: Wow. Double and Triple Wow. Has there ever been a movie that a] was talky and intellectual that was the most popular movie in all the world? And b] Had no sex, no violence, no romance, no wisecracking flirty dialogs and was the most popular movie in all the world? I truly think there never has been. In the entire history of cinema. This movie is a shoo in for an academy award best picture. And is far, far, far more talky and intellectual than any prior best movie winner.\\nReview_Url: /review/rw9213569/?ref_=tt_urv', metadata={'source': '/review/rw9213569/?ref_=tt_urv', 'row': 139}), Document(page_content=': 140\\nReview_Date: 5 August 2023\\nAuthor: ian-47918\\nRating: 6\\nReview_Title: Fantastic Concept, Plastic Execution\\nReview: Written by Ian Chandler - July 21, 2023\\nReview_Url: /review/rw9213569/?ref_=tt_urv', metadata={'source': '/review/rw9213569/?ref_=tt_urv', 'row': 140}), Document(page_content=\": 141\\nReview_Date: 27 July 2023\\nAuthor: tylertubisjr\\nRating: 10\\nReview_Title: Barbie with a life lesson\\nReview: I was not expecting this movie to be great; I'm not into this kind of stuff, but still, I watched it, and man, it was great; some scenes are relatable to how people react to something nowadays, like, come on, everything and everyone can be cancelled, the overall acting of the cast is super great. I love it; almost all the song are catchy and complements the movie (like this song, by the way (Im just Ken)); the production set for this film is majestic, and parts of the movie are touching and somewhat relatable to our everyday life, and there can be something to learn from, very recommended to watch this with your whole family and friends.\\nReview_Url: /review/rw9213569/?ref_=tt_urv\", metadata={'source': '/review/rw9213569/?ref_=tt_urv', 'row': 141}), Document(page_content=': 142\\nReview_Date: 21 July 2023\\nAuthor: kevin_robbins\\nRating: 7\\nReview_Title: Better and deeper than I expected and was definitely worth a watch\\nReview: Barbie (2023) is a movie that my wife and I saw in theaters last night. The storyline follows Barbie in a perfect world who believes she is the perfect role model for little girls in the real world. When things start feeling off for her in her world, she discovers she may need to go to the real world to set things right. When she gets to the real world, she discovers how wrong she was about being the perfect role model.\\nReview_Url: /review/rw9213569/?ref_=tt_urv', metadata={'source': '/review/rw9213569/?ref_=tt_urv', 'row': 142}), Document(page_content=': 143\\nReview_Date: 21 July 2023\\nAuthor: bjacob\\nRating: 9\\nReview_Title: There is an art-house movie under all that pink\\nReview: I tend to gravitate towards French cinema and the classics; the idea of watching a franchise movie about Barbie seemed mildly repellent at first. Well, I am glad I kept an open mind.\\nReview_Url: /review/rw9213569/?ref_=tt_urv', metadata={'source': '/review/rw9213569/?ref_=tt_urv', 'row': 143}), Document(page_content=': 144\\nReview_Date: 30 July 2023\\nAuthor: pete-murphy97\\nRating: 6\\nReview_Title: Not Kenough\\nReview: Barbie is a thoughtful homage to an iconic toy brand that overturns the well known stereotype of the blonde, plastic \"bimbo\". It is also undeniably Mattel\\'s punt at keeping Barbie relevant and commercially viable for the next generation.\\nReview_Url: /review/rw9213569/?ref_=tt_urv', metadata={'source': '/review/rw9213569/?ref_=tt_urv', 'row': 144}), Document(page_content=\": 145\\nReview_Date: 19 July 2023\\nAuthor: NewgenW\\nRating: 8\\nReview_Title: Drop the kids at Oppenheimer the adults can see a real, philosophical masterpiece\\nReview: I'm not someone who often watches comedies, so they don't make me laugh much, but if they all became as funny as Barbie, I might give it another go.\\nReview_Url: /review/rw9213569/?ref_=tt_urv\", metadata={'source': '/review/rw9213569/?ref_=tt_urv', 'row': 145}), Document(page_content=': 146\\nReview_Date: 7 August 2023\\nAuthor: bradykitchen-33648\\nRating: 6\\nReview_Title: Barbie: Review\\nReview: Good movie not a great one.\\nReview_Url: /review/rw9213569/?ref_=tt_urv', metadata={'source': '/review/rw9213569/?ref_=tt_urv', 'row': 146}), Document(page_content=\": 147\\nReview_Date: 3 August 2023\\nAuthor: AngelHonesty\\nRating: 5\\nReview_Title: Not what I Expected\\nReview: I played with barbies a lot as a kid, so I thought this movie was going to be fun. The trailer looked great, I thought, why not, let's have a girls movie night, kick back relax, watch a funny iconic movie about my favorite toys as a kid. But I was greatly let down really fast. The movie was all about a strong message of what a woman is, what a man is, how the world defines those roles and how we should just be whoever we are. There was nothing in the movie that made me laugh. It all felt kinda heavy with the message they were telling. It's definitely not a kids movie either, I don't think they would understand half of it. Really wasn't happy with the movie.\\nReview_Url: /review/rw9213569/?ref_=tt_urv\", metadata={'source': '/review/rw9213569/?ref_=tt_urv', 'row': 147}), Document(page_content=\": 148\\nReview_Date: 19 July 2023\\nAuthor: mckai-89546\\nRating: 9\\nReview_Title: Best for Ryan Gosling Gives a really great performance acting\\nReview: I am a man but watched this movie it's awesome Margot Robbie very beautiful but i like the performance of Ryan Gosling a lot this movie It's full of imagination and it surprises me a lot.\\nReview_Url: /review/rw9213569/?ref_=tt_urv\", metadata={'source': '/review/rw9213569/?ref_=tt_urv', 'row': 148}), Document(page_content=\": 149\\nReview_Date: 30 July 2023\\nAuthor: walfordior\\nRating: 9\\nReview_Title: This is more than just a 'lighthearted comedy'\\nReview: Barbie is no longer just a toy; rather, this idea of 'Barbie' has evolved into one of the most famous and significant topics in the world at this moment in time. It is so much more than merely a toy. It will not longer be just 'a toy'\\nReview_Url: /review/rw9213569/?ref_=tt_urv\", metadata={'source': '/review/rw9213569/?ref_=tt_urv', 'row': 149}), Document(page_content=\": 150\\nReview_Date: 23 July 2023\\nAuthor: ilikelickingeyeballs\\nRating: 6\\nReview_Title: Good but not that good.\\nReview: The colors, shots, houses, clothes were really amazingly done. Margot and Rayan were amazing, beautiful and acted well. I will say that. I find that the movie wasn't THAT good. The story wasn't as entertaining as it could. This was supposed to be like a childrens show with adult humor and topics but I didnt find most of the jokes funny, i felt like they were just screaming stuff in your face instead of being more subtle. I wish some aspects of the characters and side stories were explored more. The ending was okay but i wished for something diffrent and again more about the side characters. Ken is a cool character i gotta say. He deserves the world and to really find something more about him. So i wouldn't say it was a bad movie, its okay to watch more casually, more so to appreciate the dolls and the nostalgia. I was lowkey dissapointment with all the hype i gotta say.\\nReview_Url: /review/rw9213569/?ref_=tt_urv\", metadata={'source': '/review/rw9213569/?ref_=tt_urv', 'row': 150}), Document(page_content=': 151\\nReview_Date: 26 July 2023\\nAuthor: sanadalsalt\\nRating: 10\\nReview_Title: An Unforgettable Delight!\\nReview: Oh, where do I even begin? Barbie 2023 is a tour de force that has left me utterly captivated, enchanted, and spellbound. Every moment of this cinematic marvel was nothing short of pure excellence, deserving nothing less than a perfect 10 out of 10 rating!\\nReview_Url: /review/rw9213569/?ref_=tt_urv', metadata={'source': '/review/rw9213569/?ref_=tt_urv', 'row': 151}), Document(page_content=\": 152\\nReview_Date: 9 August 2023\\nAuthor: ognistykurczak\\nRating: 6\\nReview_Title: Half good half bad\\nReview: I saw this movie right now and mostly enjoyed it. The good parts are really enjoyable, but sometimes I was just bored. I really don't know how they did it, but near the end of the movie some scenes were the peak of cinema and some were just uninteresting.\\nReview_Url: /review/rw9213569/?ref_=tt_urv\", metadata={'source': '/review/rw9213569/?ref_=tt_urv', 'row': 152}), Document(page_content=\": 153\\nReview_Date: 10 August 2023\\nAuthor: EvanparkerT\\nRating: 9\\nReview_Title: You're Kenough y'all!\\nReview: Went in to see for Margot Robbie, left giving flowers to Ryan Gosling\\nReview_Url: /review/rw9213569/?ref_=tt_urv\", metadata={'source': '/review/rw9213569/?ref_=tt_urv', 'row': 153}), Document(page_content=': 154\\nReview_Date: 23 July 2023\\nAuthor: saadhasan-36609\\nRating: 7\\nReview_Title: Barbie is fun, but gets too focused on the social commentary and does not do the plot justice.\\nReview: Barbie was a very fun, light-hearted, over-the-top movie that takes you on a wild journey. The fact that it paid homage to 2001: A Space Odyssey\\'s opening sequence earned it extra points for me! Ryan Gosling was great and Margot Robbie was perfectly cast, and the production design was fantastic. A comedy movie should mainly be judged on its comedy, and Barbie for the most part is actually quite funny! I also loved how the narrator speaks over the movie at certain points and delivers some funny lines. This may get some backlash, but I feel Barbie is a movie that earns popularity because it propagates feminist ideals and speaks to the issues women face today, and audiences are willing to look past its flaws to celebrate the movie because the message it portrays is very relevant in society today. I feel the same way with Sound of Freedom. Just because a movie talks about issues you care about, however important they may be, doesn\\'t mean it\\'s the \"greatest movie of all time\" and \"Oscar-worthy\" etc. The plot of Barbie seemed quite interesting to me, how Barbie goes into the real world and the chaos that could cause. But I feel like the movie got TOO drenched in the social commentary and thus didn\\'t give the creative plot idea enough justice. Movies don\\'t have to be so explicit with the social commentary, as shown by movies like 12 Angry Men (1957), which IMO does a far better job at tackling racism and prejudice than any film made today. At certain times, Barbie really blurred the line between being anti-patriarchy and being anti-men. It felt like it was fighting injustice with more injustice, although not throughout.\\nReview_Url: /review/rw9213569/?ref_=tt_urv', metadata={'source': '/review/rw9213569/?ref_=tt_urv', 'row': 154}), Document(page_content=\": 155\\nReview_Date: 8 August 2023\\nAuthor: cjgvfpkx\\nRating: 10\\nReview_Title: I didn't think it would be good.\\nReview: But damnit, it was GREAT. The opening scene was good, then the first scene in Barbieland worried me. Not worried me like it would be bad, but that I would be right: that it would be good by virtue of being so over the top. And it was that too. But it's a surprisingly serious movie. In theme, not execution. But it says a lot of quiet parts out loud. What we did with our Barbies. To them. Who is Ken anyway? Why is Ken? What is death and why does it matter? What is motivation and what is success? What is feminism and what is dementia t progress? Honestly. I would have thought you were blowing my horn. And that sounds fun for a Friday night, but this is worth it. And a good movie to brave the theater for. The link was weird but vibrant and balanced in a way the big screen really lit up.\\nReview_Url: /review/rw9213569/?ref_=tt_urv\", metadata={'source': '/review/rw9213569/?ref_=tt_urv', 'row': 155}), Document(page_content=\": 156\\nReview_Date: 24 July 2023\\nAuthor: bobbygordon-92171\\nRating: 6\\nReview_Title: I don't know how to describe\\nReview: The movie was weirdly quick at the beginning and weirdly long at the end. The beginning of the film felt like a glorified way to show off Margot Robbie's feet. The movie it self was quite meta at times and even made me laugh but I felt like it had too much hype. Also was the movie about sexism or getting older and was Will Ferril the villain or was Ken. There were just somethings that didn't need to be in this. Greta Gerwig is a great director Wonder Woman proves that it's just this movie could have been different. I Manley started re-enjoying the movie was when the kens had their battle. Sorry if I have wasted your time but that's my opinion.\\nReview_Url: /review/rw9213569/?ref_=tt_urv\", metadata={'source': '/review/rw9213569/?ref_=tt_urv', 'row': 156}), Document(page_content=\": 157\\nReview_Date: 23 July 2023\\nAuthor: gianthaole\\nRating: 4\\nReview_Title: Way too preachy\\nReview: My wife and I did the double feature of Barbie and Oppenheimer. Barbie started off strong and Ryan Gosling is very funny in the movie. The problem is none of the Barbies are in a comedy. This movie should have been 90 minutes of comedy. It maybe could have had a simple heartfelt moment between a mom and her daughter but this movie has several preachy moments that made me wonder, who is this movie for? Little girls won't enjoy this, teenage girls won't enjoy this, adult women won't enjoy this. So who is the target audience? Who are the preachy moments for? If you are thinking of watching something this month, choose Sound of Freedom or Mission Impossible.\\nReview_Url: /review/rw9213569/?ref_=tt_urv\", metadata={'source': '/review/rw9213569/?ref_=tt_urv', 'row': 157}), Document(page_content=': 158\\nReview_Date: 21 July 2023\\nAuthor: anthonywltrs\\nRating: 10\\nReview_Title: Full of Surprises\\nReview: This movie, wow. Just wow. This was unlike anything I had expected going in to seeing Barbie earlier today. I figured by the trailers alone it was going to be a fun popcorn movie filled with adventure and eventual romance between Barbie and Ken with it ending with them getting together, beating bad guys when crossing into our world and living happily ever after\\nReview_Url: /review/rw9213569/?ref_=tt_urv', metadata={'source': '/review/rw9213569/?ref_=tt_urv', 'row': 158}), Document(page_content=': 159\\nReview_Date: 13 August 2023\\nAuthor: dililith\\nRating: 10\\nReview_Title: Laughed and cried so much\\nReview: It is funny, it is deep, it is nostalgic, it is not about romance, it is all the things the doll was meant to be.\\nReview_Url: /review/rw9213569/?ref_=tt_urv', metadata={'source': '/review/rw9213569/?ref_=tt_urv', 'row': 159}), Document(page_content=\": 160\\nReview_Date: 20 July 2023\\nAuthor: stevendbeard\\nRating: 7\\nReview_Title: Weird, Funny And Thought Provoking\\nReview: I saw Barbie, starring Margot Robbie-Babylon, the Suicide Squad movies; Ryan Gosling-Blade Runner 2049, La La Land; America Ferrera-Superstore_tv, Ugly Betty_tv; Kate McKinnon-SNL_tv, Ghostbusters_2016 and Will Ferrell-Holmes & Watson, the Daddy's Home movies.\\nReview_Url: /review/rw9213569/?ref_=tt_urv\", metadata={'source': '/review/rw9213569/?ref_=tt_urv', 'row': 160}), Document(page_content=\": 161\\nReview_Date: 3 August 2023\\nAuthor: saramilenkovic1994\\nRating: 10\\nReview_Title: Barbie is a beautiful love letter to womanhood.\\nReview: Ever since I saw Lady Bird, I knew that I will love Greta and her style. It was so human and it spoke to me. So when Barbie was released, there was no doubt I will like this film-but not this much. In 114 minutes, Greta serves everything that she intended sending a beautiful positive message about womanhood. What it means to be human, what it means to live in this broken patriarchal system. The message is clear: to be human is to feel. This movie is funny. And as someone who is not a fan of American humor, that's a big one. But I laughed through the entire movie. I also shared a tear. I loved America's monologue about womanhood. I loved Dame Helen Mirren as a narrator-great choice. Margot is a star. Her Barbie is so authentic. She portrays comedy, as well as the emotional part of the character so well. That last scene was so good. Now I can't skip the star of the film, and that is Ryan Gossling. Ken was hilarious and I will quote him for the rest of my life. But also shows that Greta is sweet to men offering them compassion by showing them that they are enough as it is, they don't have to be more than that. Greta (and Noah), really made a beautiful love letter to womanhood by showing all the parts of it-please the scene with the old lady had my heart. Overall it's already classic and the movie, that will probably be one of my comfort movies.\\nReview_Url: /review/rw9213569/?ref_=tt_urv\", metadata={'source': '/review/rw9213569/?ref_=tt_urv', 'row': 161}), Document(page_content=': 162\\nReview_Date: 22 July 2023\\nAuthor: lisafordeay\\nRating: 6\\nReview_Title: A very enjoyable film\\nReview: Barbie is the latest toy being turned into a live action movie and stars Margot Robbie(Suicide Squad), Ryan Gosling(La La Land),Michael Cena(Scott Pilgram Vs The World),Alexandra Shipp(A Dogs Way Home),America Ferrara (Ugly Betty)and Will Ferrell(Elf). Directed by Greta Gerwig the film follows Barbie(Robbie) a sophisticated young doll who notices that she is slowly turning human so she goes to the real world to find her previous owner and to meet the CEO boss (Ferrell) to find out why she is malfunctioning.\\nReview_Url: /review/rw9213569/?ref_=tt_urv', metadata={'source': '/review/rw9213569/?ref_=tt_urv', 'row': 162}), Document(page_content=\": 163\\nReview_Date: 26 July 2023\\nAuthor: russellquisenberry\\nRating: 10\\nReview_Title: Barbie is a masterpiece and I'm not joking\\nReview: I'm not a Barbie fan. The only time I loved Barbie was when she was in the Toy Story movies. But that changed after I saw the Barbie movie. This movie is not only Greta Gerwig's best film but also the year's greatest movie so far!!!!! Margot Robbie (my favorite actress of all time) is beautiful and portrays Barbie with pure perfection!!! And then there's Ken (played by Ryan Gosling in a career-best performance)!!! Robbie and Gosling shine and are easily the years best duo.\\nReview_Url: /review/rw9213569/?ref_=tt_urv\", metadata={'source': '/review/rw9213569/?ref_=tt_urv', 'row': 163}), Document(page_content=': 164\\nReview_Date: 23 July 2023\\nAuthor: luffha\\nRating: 7\\nReview_Title: Fun soundtrack , story a bit confusing\\nReview: I loved the music , and the fun start.\\nReview_Url: /review/rw9213569/?ref_=tt_urv', metadata={'source': '/review/rw9213569/?ref_=tt_urv', 'row': 164}), Document(page_content=': 165\\nReview_Date: 10 August 2023\\nAuthor: TigerHeron\\nRating: 9\\nReview_Title: Surprisingly Good\\nReview: I wasn\\'t expecting much, but this movie is great! It\\'s a smart comedy. The film is clearly feminist, but it is NOT \"preachy\" as some other reviewer complained. Yes, there is one speech, but it\\'s not made by a Barbie. It fits into the story.\\nReview_Url: /review/rw9213569/?ref_=tt_urv', metadata={'source': '/review/rw9213569/?ref_=tt_urv', 'row': 165}), Document(page_content=': 166\\nReview_Date: 21 July 2023\\nAuthor: SAMTHEBESTEST\\nRating: 6\\nReview_Title: Loved The Barbie Doll As A kid, Loved The Barbie Movie As An Adult\\nReview: Barbie (2023) :\\nMovie Review -\\nReview_Url: /review/rw9213569/?ref_=tt_urv', metadata={'source': '/review/rw9213569/?ref_=tt_urv', 'row': 166}), Document(page_content=': 167\\nReview_Date: 22 July 2023\\nAuthor: elihebdon\\nRating: 3\\nReview_Title: This film isn\\'t saying what it thinks it is\\nReview: Margot does the best with what she\\'s given, but this film was very disappointing to me. It was marketed as a fun, quirky satire with homages to other movies. It started that way, but ended with over-dramatized speeches and an ending that clearly tried to make the audience feel something, but left everyone just feeling confused. And before you say I\\'m a crotchety old man, l\\'m in my 20s, so I\\'m pretty sure I\\'m this movie\\'s target audience. The saddest part is there were parents with their kids in the theater that were victims of the poor marketing, because this is not a kid\\'s movie. Overall, the humor was fun on occasion and the film is beautiful to look at, but the whole concept falls apart in the second half of the film and becomes a pity party for the \"strong\" woman.\\nReview_Url: /review/rw9213569/?ref_=tt_urv', metadata={'source': '/review/rw9213569/?ref_=tt_urv', 'row': 167}), Document(page_content=\": 168\\nReview_Date: 7 August 2023\\nAuthor: misscattik\\nRating: \\nReview_Title: No questions just answers\\nReview: The title of the review practically sums it all up. With the highest potential in style, aesthetics, cast and concept, the movie fails spectacularly when it comes to the deliverance of it's main idea. And it's not feminism that bothers, surely not, it's the artistic language in which the idea is told - harsh, manipulative, abusive, straightforward and unkind. Instead of aspiring the audience to think and reflect, it shoves the manifestations down your throat, and in monologues that are generally painfully awkward to watch.\\nReview_Url: /review/rw9213569/?ref_=tt_urv\", metadata={'source': '/review/rw9213569/?ref_=tt_urv', 'row': 168}), Document(page_content=': 169\\nReview_Date: 25 July 2023\\nAuthor: kimberlyely-27550\\nRating: 10\\nReview_Title: Everyone watch this\\nReview: Barbie\\nReview_Url: /review/rw9213569/?ref_=tt_urv', metadata={'source': '/review/rw9213569/?ref_=tt_urv', 'row': 169}), Document(page_content=\": 170\\nReview_Date: 8 August 2023\\nAuthor: info-4994\\nRating: 10\\nReview_Title: Who'd Have Thought It?\\nReview: Who'd have thought that you could make a film about the Barbie doll. Well Greta Gerwig obviously did and what a rip-snorting entertaining piece of colourful fun it is. And on so many different levels too: socio-political commentary, gender roles, off-the-wall mayhem to mention three. There are homages to classic films from the very start that had me rolling with laughter, and it never let up.\\nReview_Url: /review/rw9213569/?ref_=tt_urv\", metadata={'source': '/review/rw9213569/?ref_=tt_urv', 'row': 170}), Document(page_content=': 171\\nReview_Date: 22 July 2023\\nAuthor: lisafordeay\\nRating: 6\\nReview_Title: I actually enjoyed it\\nReview: Barbie is the latest toy turned movie adapation and stars Margot Robbie(Birds of Prey),Ryan Gosling(La La Land),Alexandra Ship(A Dogs Way Home),Dua Lipa,Will Ferrell(Elf),America Ferrara(Ugly Betty)and Helen Mirren(Shazam Fury Of The Gods) as the narrator.\\nReview_Url: /review/rw9213569/?ref_=tt_urv', metadata={'source': '/review/rw9213569/?ref_=tt_urv', 'row': 171}), Document(page_content=': 172\\nReview_Date: 24 July 2023\\nAuthor: jp_91\\nRating: 10\\nReview_Title: Barbie existentialism.\\nReview: Barbie, the doll that destroyed stereotypes and taboos to later generate new ones and destroy them again, arrives at the cinema for the first time and does so masterfully. \"Barbie\" is a film that portrays misogyny from the perspective of the famous doll, the script is a biting criticism of patriarchy, internal problems within feminism, family and social relationships, consumerism and existentialism, all full of humor, in some scenes with a lot of black humor and the result is excellent, capturing what it wants to convey to the public. The cinematography by Rodrigo Prieto is magnificent and together with the production design they bring a fictional country full of fantastic and pink plastics. The soundtrack is tremendous, with a list of songs wisely chosen (with some exceptions). The cast is tremendous, Margot Robbie\\'s performance is realistic and sentimental, proving to be the perfect Barbie in all aspects. Ryan Gosling plays Ken with humor and also gives him perfect dramatic nuances. America Ferrara as a working mother achieves a performance to remember, especially for her powerful monologue. Kate McKinnon gives a highly comic performance and an endearing character of a very unusual Barbie. Rhea Perlman pulls off an incredible performance wittily balancing comedy and drama. Ann Roth in a special participation of a single dialogue and a smile achieved a sublime and unforgettable performance. Helen Mirren with a voice acting as The Narrator describes everything with feeling and passion taking advantage of her imposing voice. Greta Gerwig\\'s work as a director is genius, she manages to capture the ideas of the script, gives it her own style and pays homage to movie classics. \"Barbie\" is the movie event of the year, a rightfully earned title for this current classic.\\nReview_Url: /review/rw9213569/?ref_=tt_urv', metadata={'source': '/review/rw9213569/?ref_=tt_urv', 'row': 172}), Document(page_content=\": 173\\nReview_Date: 21 July 2023\\nAuthor: daniel-smits-03179\\nRating: 7\\nReview_Title: It was pretty good but not worthy of the hype\\nReview: Barbie was an entertaining movie, but was definitely not worth the hype that accompanied the film. The messages the movie wanted to share were so on the nose and explicit that it became jarring and weird. The movie also meandered from place to place and didn't seem to have a purpose for the majority of its run time.\\nReview_Url: /review/rw9213569/?ref_=tt_urv\", metadata={'source': '/review/rw9213569/?ref_=tt_urv', 'row': 173}), Document(page_content=\": 174\\nReview_Date: 29 July 2023\\nAuthor: Reviews2u\\nRating: 10\\nReview_Title: She's everything! He's just Ken.\\nReview: Fantastic movie! The writing and storyline is so much deeper than I could have imagined for a Barbie movie. I loved this movie so much that I saw it twice opening week and plan to buy it once it hits streaming. I think women and girls of all ages will love it. I know plenty of guys who like it as well. It's smart, funny, clever, deep, thoughtful, etc. I was actually in tears during the America Ferrera monolog. These actors are all amazing. Margot Robbie and Ryan Gossling were the perfect Barbie and Ken. The music was amazingly hilarious. The Ken battle scene cracked me up so much. Greta Gerwig is a phenomenal. I loved her version of Little Women and this is every bit as good. Barbie is a must see. Don't wait, go see it now!\\nReview_Url: /review/rw9213569/?ref_=tt_urv\", metadata={'source': '/review/rw9213569/?ref_=tt_urv', 'row': 174}), Document(page_content=': 175\\nReview_Date: 21 July 2023\\nAuthor: rgkarim\\nRating: 7\\nReview_Title: Pink Political Power is: Fun, Funny At Times, Deep, But Aggressively Weird\\nReview: LIKES:\\nReview_Url: /review/rw9213569/?ref_=tt_urv', metadata={'source': '/review/rw9213569/?ref_=tt_urv', 'row': 175}), Document(page_content=': 176\\nReview_Date: 6 August 2023\\nAuthor: aharmelink\\nRating: 10\\nReview_Title: Smart, hilarious and so creative all at the same time!\\nReview: So hilarious and intelligently written. The writers sincerely can\\'t be credited enough with how smart and funny this movie is. It\\'s the kind of movie you can watch over and over and find new jokes, there\\'s just so many! If you\\'re uptight about the way many women feel how they \"fit into\" society, then this movie may not be for you. But, you\\'re missing out. I hope the academy finally starts recognizing comedies. It\\'s so much more difficult to write something funny and be an actor that can pull of true comedy than drama. It just is. You have to be new, creative and intelligent. Dramas, you can just play things that people automatically get emotional about, It\\'s so hard to figure out what many will find funny, yet alone hilarious. The Academy should nominate Gosling (sp?) for best actor, Robbie for best actress, the move for best screen play and movie. It was just so creative and funny. Loved it, and honestly, I thought I\\'d hate it.\\nReview_Url: /review/rw9213569/?ref_=tt_urv', metadata={'source': '/review/rw9213569/?ref_=tt_urv', 'row': 176}), Document(page_content=': 177\\nReview_Date: 22 July 2023\\nAuthor: drawlife\\nRating: 6\\nReview_Title: It swings, and it kinda hits. Kinda.\\nReview: BARBIEHEIMER is among us! Between BARBIE and OPPENHEIMER releasing on the same week, the wife really wanted to see this first and I obliged.\\nReview_Url: /review/rw9213569/?ref_=tt_urv', metadata={'source': '/review/rw9213569/?ref_=tt_urv', 'row': 177}), Document(page_content=\": 178\\nReview_Date: 14 August 2023\\nAuthor: stusby\\nRating: 4\\nReview_Title: A triumph of marketing for a poorly realised story\\nReview: It's weird seeing a movie that puts gay male culture front and centre of a lesbian-free world.\\nReview_Url: /review/rw9213569/?ref_=tt_urv\", metadata={'source': '/review/rw9213569/?ref_=tt_urv', 'row': 178}), Document(page_content=\": 179\\nReview_Date: 21 July 2023\\nAuthor: Dan_W_Reviews\\nRating: 8\\nReview_Title: Refreshing and Creative, More Than Just a Gimmick\\nReview: Barbie is a delightful and creatively refreshing comedy that breathes new life into the iconic doll's world. From the moment the film began, I was captivated by its smart and subversive storytelling, which cleverly blends meta-humour with a dash of eccentricity.\\nReview_Url: /review/rw9213569/?ref_=tt_urv\", metadata={'source': '/review/rw9213569/?ref_=tt_urv', 'row': 179}), Document(page_content=\": 180\\nReview_Date: 10 August 2023\\nAuthor: gilliandawe91\\nRating: 10\\nReview_Title: An Ode to the Love of Cinema\\nReview: Wow. I saw this movie on July 23rd and I've been thinking about it ever since. Right off the bat, the first thing that has to be mentioned is the absolutely stunning and wildly impressive set design. The backdrops, the houses, all of the set decoration in Barbieland is PERFECTION. All of the travel sequences are so fun and beautiful and creative. I would love to believe that Barbie can help usher in a new era, where we can go back to at least having some movie with real honest to god set design in a sound stage, without so much CGI. Set Dec is 10/10\\nReview_Url: /review/rw9213569/?ref_=tt_urv\", metadata={'source': '/review/rw9213569/?ref_=tt_urv', 'row': 180}), Document(page_content=': 181\\nReview_Date: 27 July 2023\\nAuthor: eddie_baggins\\nRating: 6\\nReview_Title: Not all is peachy when things get preachy\\nReview: It feels like its been some time since a film release has gripped the world quite like the way in which Barbie has over recent weeks/months, with the Greta Gerwig directed box office sensation creating a global phenomenon that has translated to record breaking openings in cinemas, critical plaudits and audience adoration on a scale that is mostly just a dream for Hollywood bigwigs.\\nReview_Url: /review/rw9213569/?ref_=tt_urv', metadata={'source': '/review/rw9213569/?ref_=tt_urv', 'row': 181}), Document(page_content=\": 182\\nReview_Date: 20 July 2023\\nAuthor: iamianiman\\nRating: 8\\nReview_Title: You'll appreciate this 'life in plastic' film more than you can ever imagine. 💗\\nReview: Verdict: Filled with contexts and messages as rich as Oscar-nominated films, Barbie the Movie is a whole different game as it is full with surprises and hard-hitting truths about the world we live in today. It is self-aware of what it is and Greta Gerwig daringly takes charge of crafting a masterpiece storytelling that capitalizes on the heavy subjects without downgrading anything or anyone, maintaining both its quality and substance the entire film. You'll appreciate this 'life in plastic' film more than you can ever imagine. 💗\\nReview_Url: /review/rw9213569/?ref_=tt_urv\", metadata={'source': '/review/rw9213569/?ref_=tt_urv', 'row': 182}), Document(page_content=': 183\\nReview_Date: 27 July 2023\\nAuthor: zoeyrea\\nRating: 7\\nReview_Title: It\\'s alright\\nReview: I have seen this film in theaters twice now and I can safely say that I thought it was amusing, entertaining, and fun. However, I won\\'t lie to you and say that it\\'s really all that groundbreaking as some seem to claim. While this movie focuses on heavy topics such as inequality and feminism, some of the scenes that had primarily concentrated on them had felt a little shallow. I am not saying that this wasn\\'t a great film, as said before, it delivered most if not all of the checkpoints that modern day society defines a \"good movie\" with. Now I can\\'t say that I wasn\\'t entertained mostly through the movie but it just lacked something. The longer this film had stuck with me the longer it felt insufficient. People that are currently speaking on this movie seem to pin up its success in presenting femininity and women\\'s issues in a lighthearted and joyful manner, however I feel that the overall message in this movie could have been provided in a more severe tone. The creators of Barbie stated that this was an \"everyone movie\", that this film was designed to cater to all viewers, but did it have to? The laughable tone this movie brought along with its own narrative of modern day feminism sort of cheapened the message. Don\\'t get me wrong, all the acting in the movie was phenomenal for the roles each actor portrayed, but it felt like some of the plot had gotten lost in translation. Even after watching the movie twice I still am a little fuzzy on the entirety of \"Barbieland\". Where is this really set?, why it is a common occurrence of dolls making their way into the real world?, why do barbies know they\\'re toys? I might just be inattentive but these plot point were rarely touched on through the film and still leave me confused. Overall I think my main issue with this film is my regrettable rating, I really didn\\'t want this movie to be below a 9. I was really looking forward to this film and eagerly waiting to \"do anything to see it in theaters again\", but it turned out to be just ok. A word I can describe my expectations for this movie is iconic, but it just fell flat in that department. Would I recommend? Yeah why not, but would I jump at the opportunity to see it again ever? Probably not.\\nReview_Url: /review/rw9213569/?ref_=tt_urv', metadata={'source': '/review/rw9213569/?ref_=tt_urv', 'row': 183}), Document(page_content=': 184\\nReview_Date: 2 August 2023\\nAuthor: nikitacpv\\nRating: 9\\nReview_Title: Just good fun and a great soundtrack\\nReview: Even though I never played with Barbie myself, when word came out of a Barbie movie being released, I knew I had to watch it!.\\nReview_Url: /review/rw9213569/?ref_=tt_urv', metadata={'source': '/review/rw9213569/?ref_=tt_urv', 'row': 184}), Document(page_content=': 185\\nReview_Date: 2 August 2023\\nAuthor: prberg2\\nRating: 6\\nReview_Title: Well made movie but a little uneven\\nReview: Barbie was a fun movie and it visually looked really original. There were some really funny parts and some good acting. I loved some of the throwbacks and songs. Really was laughing at some of the funny moments.\\nReview_Url: /review/rw9213569/?ref_=tt_urv', metadata={'source': '/review/rw9213569/?ref_=tt_urv', 'row': 185}), Document(page_content=\": 186\\nReview_Date: 30 July 2023\\nAuthor: Pairic\\nRating: 9\\nReview_Title: A Great Comedy & Satire\\nReview: Opens with a great tribute to 2001: a Space Odyssey's ape sequence, setting the scene for the humour and satire to follow. Barbie and Ken escape from Barbieland into the real world, threatening societal breakdown in both as changes in one universe affects the other. Barbieland is effectively a Matriarchy where girls rule and the Kens just do Beach, play sports, stand around and try to attract the attention of the Barbies. There are all types of Barbies, President Barbie, the Supreme Court Barbie, Roadworker Barbies. Margot Robbie is Stereotypical Barbie with Ryan Gosling as her Beach Ken. They travel to the real world after Barbie starts developing cellulite and worrying about death. Ken learns about patriarchy in the real world, especially from the clever corporate types who affect an image of equality but use this as a cover to carry on in the old manner. Ken returns to Barbieland intent on turning it into a Kendom and turning the world upside down. Barbie faces the all male Executive board of Mattel where the CEO (Ken Ferrell) defends his policies but literally tries to put Batbie in a box. . Cutting satire, great humour in a whipsmart script with wonderful fake pastel sets in Barbieland. The themes and set decoration bring Don't Worry Darling and Asteroid City to mind. Kate McKinnon is Weird Barbie who helps Stereotypical Barbie to solve her personal problems and to battle against the Kendom. I'll have to see this again. I reckon to properly appreciate all the jokes, irony and satire. Greta Gerwig takes no prisoners as she Directs and Co-Writes (with Noah Baumbach) this comic masterpiece. 9/10.\\nReview_Url: /review/rw9213569/?ref_=tt_urv\", metadata={'source': '/review/rw9213569/?ref_=tt_urv', 'row': 186}), Document(page_content=\": 187\\nReview_Date: 23 July 2023\\nAuthor: jcollins-458-415387\\nRating: 7\\nReview_Title: Just enjoy it. It's funny.\\nReview: First off, I'm a 60 year-old white male and this movie wasn't even made for me.\\nReview_Url: /review/rw9213569/?ref_=tt_urv\", metadata={'source': '/review/rw9213569/?ref_=tt_urv', 'row': 187}), Document(page_content=': 188\\nReview_Date: 20 July 2023\\nAuthor: enigma49\\nRating: 4\\nReview_Title: Dull and disappointing story\\nReview: First of all: Margot Robbie is great in the role of Barbie and I also loved the quirky colorful style of the movie from start to finish. Both the pink dominated Barbieland and also the transition over to the real world are well done in my opinion.\\nReview_Url: /review/rw9213569/?ref_=tt_urv', metadata={'source': '/review/rw9213569/?ref_=tt_urv', 'row': 188}), Document(page_content=': 189\\nReview_Date: 21 July 2023\\nAuthor: RainbowVic\\nRating: 10\\nReview_Title: Give Greta more than Nolan everyday\\nReview: There is first in every thing.\\nReview_Url: /review/rw9213569/?ref_=tt_urv', metadata={'source': '/review/rw9213569/?ref_=tt_urv', 'row': 189}), Document(page_content=\": 190\\nReview_Date: 6 August 2023\\nAuthor: madisonsolomon\\nRating: 10\\nReview_Title: Beautiful\\nReview: This movie made me laugh, and cry. It was a beautiful commentary on sexism and the patriarchy and how it affects little girls, while still poking fun at it all. It also spreads a really inspiring message about mothers. I personally wouldn't show this movie to a child TOO young as there are a few jokes about how barbie's don't have genitals, one bleeped f word, and a few mentions of beer. It was a LITTLE depressing, but overall very inspirational. Despite, of course, the discussion of misogyny, I laughed through the whole thing. It was hilarious. It addressed also how adult women/mothers feel self conscious about not being perfect. It was beautiful and I'd watch again.\\nReview_Url: /review/rw9213569/?ref_=tt_urv\", metadata={'source': '/review/rw9213569/?ref_=tt_urv', 'row': 190}), Document(page_content=': 191\\nReview_Date: 11 August 2023\\nAuthor: hepburnsdairy\\nRating: 6\\nReview_Title: Great setting of the Barbie world the plot underdelivered\\nReview: +\\nMargot Robbie was stunning, perfect acting. Everyone had excellent makeup and costume design that honors barbie origins. The setting of the Barbie house and other live versions of the toys was really great! The cinematography was nice, but nothing deep there. Loved the self roast of Mattel.\\nReview_Url: /review/rw9213569/?ref_=tt_urv', metadata={'source': '/review/rw9213569/?ref_=tt_urv', 'row': 191}), Document(page_content=\": 192\\nReview_Date: 2 August 2023\\nAuthor: Pjtaylor-96-138044\\nRating: 8\\nReview_Title: Babes in toy land.\\nReview: 'Barbie (2023)' truly is an accomplishment, a shockingly successful blend between a mass-appeal blockbuster and a strange slice of surreal existentialism. There isn't anything quite like it and, although it essentially serves as one giant advertisement for its eponymous doll, it feels like a genuine piece of almost outsider art with a great sense of humour and a ton of heart. It's an incredibly well-crafted feature. The cinematography, set design and costuming all hit the nail squarely on the head, to the point that the pastel plastic aesthetic of Barbieland is so compelling and so complete that it honestly feels as though the movie has become live-action once Barbie and Ken make their way to the real world (even though the flick has been live-action since its first frame). The performances help with this, too, as the actors not only throw themselves from head to toe into the absurdity needed to fully embody the unreal nature of their characters but also deliver their lines with pitch-perfect timing and genuine emotion. All the Barbies and all the Kens (and Allan) are great, but Margot Robbie and Ryan Gosling truly are the stars here. The former is absolutely brilliant, nailing the emotional dichotomy of her character's mindset as she undergoes her journey, and the latter just seems as though he's having a great time, living that quintessential Ken lifestyle without an ounce of embarrassment. It's also nice to see Will Ferrell being funny again, popping up as a CEO who seems like he just might be Buddy the Elf all grown up (it's not like he ever stopped being funny, per se, but he's been in some rough movies recently), and America Ferrera is great in her more down-to-Earth yet refreshingly honest role.\\nReview_Url: /review/rw9213569/?ref_=tt_urv\", metadata={'source': '/review/rw9213569/?ref_=tt_urv', 'row': 192}), Document(page_content=': 193\\nReview_Date: 1 August 2023\\nAuthor: jboothmillard\\nRating: 7\\nReview_Title: Barbie\\nReview: The first Barbie fashion doll was released by Mattel in 1954, there have been several straight-to-DVD computer-animated cartoons, but it has taken 64 for a live-action movie to be made. This was one of the most hyped-up movies of the year, I certainly couldn\\'t ignore it, directed by Greta Gerwig (Lady Bird, Little Women). Basically, the film opens with the Narrator (Dame Helen Mirren) explaining the history of dolls before the introduction of Barbie (a parody of 2001: A Space Odyssey) and how Barbie came to change the world. Barbieland is a matriarchal society where all ranges of living Barbie and Ken dolls reside. All the women are self-confident, self-sufficient, and successful, while the men spend their days engaging in recreational activities at the beach. All Barbies hold all important job positions such as doctors, lawyers, journalists, pilots, astronauts, and politicians. \"Stereotypical\" Barbie (Margot Robbie) lives her best life all day every day, while her on-off boyfriend Ken (Ryan Gosling) is only happy when he is with her, and she shows him some attention. Ken seeks a closer relationship, but Barbie rebuffs him to be independent and continue her female friendships. Barbie holds one of her regular parties at her Dreamhouse, which momentarily halts when she asks a question about mortality. The following day, Barbie finds her regular routine has altered, her raised feet have gone flat and she has cellulite. Her friends, including Writer Barbie (Alexandra Shipp), Physicist Barbie (Emma Mackey) and Lawyer Barbie (Sharon Rooney) tell her to visit Weird Barbie (Kate McKinnon), a wise but disfigured outcast who was played with badly, giving her permanent splits and felt-tip pen drawn on her face. Weird Barbie tells her to cure her affliction, she must go to the real world and find the child playing with her. Weird Barbie does offer her the option to take her heal shoe and everything will return to normal but really wants her to take the second option (a parody of The Matrix). Driving her pink convertible outside of Barbieland, Barbie finds Ken stowed away, he insists he is coming with her, and she reluctantly agrees. Barbie and Ken travel by car, by boat, by rocket, by bicycle, by campervan, and by snowmobile (all deliberate cut-out scenarios), until they arrive at Venice Beach, Los Angeles, California. The two cause a stir while exploring, including with their colourful roller-skating gear and blades, then changing into cowboy outfits. At toy manufacturer Mattel, the creators of Barbie, the all-male board members are informed that Barbie has entered the real world. The CEO (Will Ferrell) orders her to be captured and brought to them to be put back in her box. At the local school, Barbie encounters a tween girl named Sasha (Ariana Greenblatt) who criticises Barbie dolls for encouraging unrealistic beauty standards and attitudes about women. Meanwhile, Ken explores the city and learns about the patriarchal system, mistakenly believing it was all started by men and horses. It is through simple interactions with people that he feels respected and accepted for the first time; with everything he has learned he returns to Barbieland. Feeling distraught by Sasha\\'s comments, Barbie soon meets Sasha\\'s mother Gloria (Ugly Betty\\'s America Ferrera), a Mattel employee, who is the person who was playing with her. Gloria is the catalyst of her existential crisis; she was playing with Sasha\\'s old Barbie toys while experiencing her own identity crisis, inadvertently transferring her concerns to Barbie. Soon, Mattel agents arrive and take Barbie to headquarters. They attempt to put Barbie in a toy box for remanufacturing, but she escapes with Gloria and Sasha\\'s help. During the pursuit, Barbie enters a room containing a 1950s home scenario and encounters an elderly lady (Rhea Perlman) who recognises her. Returning to Barbieland, they discover that it has changed dramatically. The Kens have taken over, while Barbies have been reduced to submissive roles, such as maids, housewives, and agreeable girlfriends. Barbie tries to convince Ken and the Barbies to return to the way things were, only to be rebuffed. Barbie becomes depressed and returns to Weird Barbie and her group of discontinued dolls. Gloria gives an inspirational speech about society\\'s conflicting expectations of women, and Barbie\\'s self-confidence is restored. Meanwhile, the CEO and board members are making their way to Barbieland. With the assistance of Sasha, Weird Barbie, Ken\\'s friend Allan (Michael Cera), a lone and discontinued character, and other discontinued dolls, Gloria repeats her moving words to all Barbies to snap them out of their subordinate behaviours. Ken intends to cement the changes to Barbieland and create male superiority by changing the constitution, allowing men to become President and replace all other roles taken by the women. The restored Barbies manipulate the Kens to fight against each other to distract them from the alterations. The Barbies regain their positions of power but also realise the errors of Barbieland\\'s previous societal system. They decide to make changes, including better treatment for the Kens and all outcast dolls. Barbie and Ken apologise to each other and acknowledge their failings. Ken feels that he has no identity or purpose without Barbie, she encourages him to find himself. Barbie remains unsure of her own purpose and identity. She suddenly finds herself in a heavenly place where she encounters the elderly lady again, revealing herself to be the spirit of Mattel co-founder Ruth Handler. Ruth explains that she created Barbie as a toy that represented what girls \"wanted to be\"; she named \"Barbie\" after her daughter Barbara. After a montage of home footage of young girls playing, Ruth explains that Barbie\\'s story has no set ending. After the Barbies, Kens, and Mattel executives bid Barbie goodbye, she decides to become human and return to the real world. Sometime later, Gloria, her husband (Ryan Piers Williams), and Sasha take Barbie, now going by the name \"Barbara Handler\", to a building for an appointment, and she enters asking to see her gynaecologist. Also starring Issa Rae as President Barbie, Hari Nef as Dr. Barbie, Shang-Chi\\'s Simu Liu as Tourist Ken, Kingsley Ben-Adir as Basketball Ken, Sex Education\\'s Ncuti Gatwa as Artist Ken, Jamie Demetriou as Mattel CFO, Scott Evans as Stereotypical Ken, Ana Cruz Kayne as Judge Barbie, Ritu Arya as Journalist Barbie, Derry Girls\\' Nicola Coughlan as Diplomat Barbie, Dua Lipa as the Mermaid Barbies, John Cena as Ken Merman, Asim Chaudhry as Warehouse Employee, Ray Fearon as Dan at the FBI, Erica Ford as Skipper, Emerald Fennell as Midge, Lucy Boynton as Proust Barbie, Rob Brydon as Sugar Daddy Ken, and costume designer Ann Roth as the Woman on the Bench. Robbie is gorgeous and perfectly cast as the loveable \"stereotypical\" Barbie going on an adventure, Gosling as the muscly, foolish, attention-seeking Ken is splendid, McKinnon is hilarious as the mangled Weird Barbie, Ferrera is good support, Ferrell is amusing, many other supporting cast members and the cameo performers are terrific, and the voice of Mirren (occasionally breaking the fourth wall) is great. Gerwig and her co-writer/real-life partner Noah Baumbach (Frances Ha, Marriage Story) were given full creative freedom for the script. They are unafraid to poke fun at the Barbie world, including many references to discontinued lines and how kids play with the toys, and interesting ideas of feminism, body image, female empowerment, the battle of the sexes, and the human experience. The visuals are sugar-coated and saturated with colour, pink obviously most prominent, with impressive set and costume design, and the soundtrack of catchy pop songs (\"Pink\" by Lizzo, \"Dance the Night\" by Dua Lipa) (the original \"Barbie Girl\" by Aqua does not feature?!, there is the new version by Nicki Minaj and Ice Spice with Aqua) and fun song and dance routines. It could have been a conventional girly Barbie film with a dull love story or something and a happy ending, but it goes the other direction and benefits completely with its deliberately surreal and cheesy approach, a bonkers but inventive and worthwhile fantasy comedy. Very good!\\nReview_Url: /review/rw9213569/?ref_=tt_urv', metadata={'source': '/review/rw9213569/?ref_=tt_urv', 'row': 193}), Document(page_content=\": 194\\nReview_Date: 10 August 2023\\nAuthor: samann888\\nRating: 8\\nReview_Title: Unexpected joy watching this film\\nReview: Wasn't sure how good this film was going to be but the trailer suggested something magical and the film fulfilled my vision. Congrats to the director who's also the writer with her husband I believe. To the great production design. To the actors especially Margot Robbie and Ryan gosling who continues to amuse and surprise with his ability to switch characters and add humor and a little bit of fun to his roles. And he gets to sing again. Recommend for all ages really but certainly any kid that's over eight or nine should be able to understand half of what's going on and the parents or friends can explain the rest. Enjoy.\\nReview_Url: /review/rw9213569/?ref_=tt_urv\", metadata={'source': '/review/rw9213569/?ref_=tt_urv', 'row': 194}), Document(page_content=\": 195\\nReview_Date: 30 July 2023\\nAuthor: Imaculata\\nRating: 7\\nReview_Title: Funny and entertaining but kind of a mess\\nReview: The Barbie movie is a very mixed bag. It tries to appeal to both young girls and adults it seems, but this leads it to be very inconsistent with its humor. Margot Robbie does a fantastic job as Barbie and especially the opening works really well in highlighting the absurdity of Barbie's world, where its houses are all open and have no stairs, and its showers have no water and the fridge is filled with a drawing of groceries. All that works fantastic. But mixed into this is a lot of adult humor and sexual innuendo, which makes for a strange mix. It isn't until after the first act, where the movie tries to be more than just a movie about toys, that it kind of falls apart.\\nReview_Url: /review/rw9213569/?ref_=tt_urv\", metadata={'source': '/review/rw9213569/?ref_=tt_urv', 'row': 195}), Document(page_content=': 196\\nReview_Date: 20 July 2023\\nAuthor: rockettbootz\\nRating: 10\\nReview_Title: Such a lovely film\\nReview: I absolutely loved the barbie movie, the movie had such a beautiful message and Margot is just exceptional.\\nReview_Url: /review/rw9213569/?ref_=tt_urv', metadata={'source': '/review/rw9213569/?ref_=tt_urv', 'row': 196}), Document(page_content=': 197\\nReview_Date: 24 July 2023\\nAuthor: johnhf-88111\\nRating: 6\\nReview_Title: Barbie Review\\nReview: Released: 21st July 2023 (UK)\\nReview_Url: /review/rw9213569/?ref_=tt_urv', metadata={'source': '/review/rw9213569/?ref_=tt_urv', 'row': 197}), Document(page_content=': 198\\nReview_Date: 15 August 2023\\nAuthor: ThereelscoopwithKK\\nRating: 4\\nReview_Title: Great Casting: But is it Satire or Social Commentary?\\nReview: The casting for the roles is pretty well spot on. Margot Robbie is an absolute superstar and nobody would fit the role of Barbie better. I liked the little joke when Barbie says \"I\\'m not pretty anymore. I\\'m not \\'stereotypical Barbie\\' pretty and the narrator replies \" Note to the filmmakers: Margot Robbie is the wrong person to cast if you want to make this point.\" Even when they try to make Margot Robbie less pretty they can\\'t really achieve it. Robbie shines with charisma every time she is on a screen and this movie is no exception. Not only is she very attractive but her acting is superb as well.\\nReview_Url: /review/rw9213569/?ref_=tt_urv', metadata={'source': '/review/rw9213569/?ref_=tt_urv', 'row': 198}), Document(page_content=\": 199\\nReview_Date: 22 July 2023\\nAuthor: dromasca\\nRating: 8\\nReview_Title: La Vie en Rose\\nReview: I'm not one of those people who feel the need to apologize for watching 'Barbie'. In my opinion there are no bad movie genres, there are only good movies and bad movies. And the cinema is also popular entertainment, and buying a big bowl of popcorn and sitting in the air-conditioned theater to watch a musical comedy that features some of the most talented actors of the moment can't be the worst thing on a hot summer day. 'Barbie', Greta Gerwig's film did not make me regret the decision to watch it for at least three quarters of its duration.\\nReview_Url: /review/rw9213569/?ref_=tt_urv\", metadata={'source': '/review/rw9213569/?ref_=tt_urv', 'row': 199}), Document(page_content=\": 200\\nReview_Date: 12 August 2023\\nAuthor: eNatelovesfilms\\nRating: 8\\nReview_Title: Simple message beautifully told\\nReview: I enjoyed this film very much even if I didn't learn anything new - because I'm old enough. But I would love it if I gad some movie like this to watch during my teenage days.\\nReview_Url: /review/rw9213569/?ref_=tt_urv\", metadata={'source': '/review/rw9213569/?ref_=tt_urv', 'row': 200}), Document(page_content=': 201\\nReview_Date: 24 July 2023\\nAuthor: Sarah423\\nRating: 7\\nReview_Title: Many Will Go, Most Will Enjoy\\nReview: Having just watched a woman drag her tween daughter out of the movie, trailed along a bit after by a couple of older sorts, I can tell you this movie is not what some people have envisioned.\\nReview_Url: /review/rw9213569/?ref_=tt_urv', metadata={'source': '/review/rw9213569/?ref_=tt_urv', 'row': 201}), Document(page_content=\": 202\\nReview_Date: 22 July 2023\\nAuthor: UniqueParticle\\nRating: 9\\nReview_Title: Spectacular!\\nReview: Family/adult film mashed in really well! The trailer barely shows anything about how deep the movie is; I really appreciate that! I'm sure production design will surely get recognition at the Oscars I love that they used so much pink they had to get more. I saw it inRPX with my sister Emily which was quite spectacular except for several audience members that were obnoxious and barely seemed into the movie those people like that are strange.\\nReview_Url: /review/rw9213569/?ref_=tt_urv\", metadata={'source': '/review/rw9213569/?ref_=tt_urv', 'row': 202}), Document(page_content=\": 203\\nReview_Date: 4 August 2023\\nAuthor: tadespichal\\nRating: 6\\nReview_Title: Ryan Gosling was capping on his life\\nReview: First things first, what was good about this movie. There was no better choice for Barbie than Margot Robbie she's lovely and brilliant. Ryan is also Kenough.\\nReview_Url: /review/rw9213569/?ref_=tt_urv\", metadata={'source': '/review/rw9213569/?ref_=tt_urv', 'row': 203}), Document(page_content=': 204\\nReview_Date: 10 August 2023\\nAuthor: NS-movie-reviews\\nRating: 8\\nReview_Title: Whacky and Wonderful but a little bit preachy\\nReview: I loved so much about this movie. From the costumes to the sets to the colors to the soundtrack to the excellent comedy. I also really loved the plot and takeaway of the film.\\nReview_Url: /review/rw9213569/?ref_=tt_urv', metadata={'source': '/review/rw9213569/?ref_=tt_urv', 'row': 204}), Document(page_content=': 205\\nReview_Date: 19 August 2023\\nAuthor: tamas_meszaros\\nRating: 6\\nReview_Title: Fun, but it will get old soon\\nReview: This movie was a lot of fun to watch. Everybody focuses on Margot Robbie and Ryan Gosling (who were obviously great), but I think America Ferrera and Will Ferrell also gave solid performances.\\nReview_Url: /review/rw9213569/?ref_=tt_urv', metadata={'source': '/review/rw9213569/?ref_=tt_urv', 'row': 205}), Document(page_content=': 206\\nReview_Date: 25 July 2023\\nAuthor: aciessi\\nRating: 8\\nReview_Title: Welcome to the Dollhouse\\nReview: Barbie: the symbol of pink, pastel perfection. An iconic piece of American pop culture for more than 50 years. But nothing can prepare you for her big screen debut.\\nReview_Url: /review/rw9213569/?ref_=tt_urv', metadata={'source': '/review/rw9213569/?ref_=tt_urv', 'row': 206}), Document(page_content=\": 207\\nReview_Date: 18 August 2023\\nAuthor: kmfazio\\nRating: 6\\nReview_Title: Not as good as I hoped\\nReview: Like many, I saw the ads and read the hype surrounding this movie. And who would walk away from the perfect summer time movie that features Margot Robbie and Ryan Gosling? I mean just based on curiosty alone, what would a movie about a child's doll be about? So off to the movies we went. And after the first 2 minutes, I was already having a bad feeling about this one.....and I really wanted to like it. As expected, much of the movie happens in BarbieLand, a perfect little beach front community where everyone cherishes Barbie. Lots of singing and dancing, colorful scenery, character introductions and so forth. You wonder where the story is going and out of the blue comes the theme of death. So at this point, its no longer a kids movie IMO. And the story developes into Barbie's mission to cross in to the real world to save the person who's not happy with their Barbie doll. And by not happy, I mean depressed with thoughts of death. A pretty dark twist. So the mission begins with Ken and Barbie visiting LA. The story becomes a mix of several themes including female enpowerment, corporate greed and a push for a male dominated society. Although I chuckled a couple times, this movie never sucked me into the story to the point where I felt I wasnt in a theater, if you know what I mean. In fact, it felt like every 15 minutes I was hoping the movie was over. Margot and Ryan give outstanding performances, but the novelty of Barbieland quickly wears off, leaving the audience blasted with bubblegum pop music and watching Barbie disolve into an emotional trainwreck as she faces a personal identity chrisis. Of course, this becomes the stories message to tweens, that life's hard, its OK to fail and finding strength to succeed isnt easy, regardless of gender. Its an awkward movie in that it doesnt really fit for kids or adults, unless you ignore the story and just look at the pictures.\\nReview_Url: /review/rw9213569/?ref_=tt_urv\", metadata={'source': '/review/rw9213569/?ref_=tt_urv', 'row': 207}), Document(page_content=': 208\\nReview_Date: 25 July 2023\\nAuthor: SureCommaNot\\nRating: 3\\nReview_Title: Hardly any laughter in my theater, though perhaps the film wasn\\'t meant to entertain\\nReview: In one sense, this film was more inevitable than Thanos. What do you get when you\\'re part of a society that fuels existential crises, by constantly eroding definitions and structures? Barbie and Ken aren\\'t exactly human (they don\\'t even have genitals); they\\'re embodied ideas, and so they face this amorphous crisis of identity that pits their presuppositional views of a happy society against that of the \"real world.\" But their perception of the real world is like seeing a plane for the first time and therefore thinking it\\'s a dragon. So how much can an audience glean from the pontifications of characters who are essentially children? I would have greatly preferred scriptwriters more well-versed in sociology as well as comedy, writers who understand not only American ideals, and how those ideals have shifted, but the role that Barbie has played along the way. I get the sense that the writers here just KNOW Barbie had some impact, without really understanding much beyond that. There was so much to explore, and it could have been shown situationally, rather than through heavy-handed exposition.\\nReview_Url: /review/rw9213569/?ref_=tt_urv', metadata={'source': '/review/rw9213569/?ref_=tt_urv', 'row': 208}), Document(page_content=\": 209\\nReview_Date: 19 July 2023\\nAuthor: hilly-97876\\nRating: 10\\nReview_Title: Another Greta masterpiece\\nReview: Never have I ever experienced this much fun during a movie. Every actor played its part perfectly. With enough self-awerness, humour and silly moments this was everything I hoped for. The budget was also insane, I can't wait to rewatch this so I can look at all the details again. The way Barbie moves, walks, drinks, acts?? Perfection.\\nReview_Url: /review/rw9213569/?ref_=tt_urv\", metadata={'source': '/review/rw9213569/?ref_=tt_urv', 'row': 209}), Document(page_content=': 210\\nReview_Date: 3 August 2023\\nAuthor: kanad004\\nRating: 10\\nReview_Title: The \"American Psycho\" of this generation.\\nReview: Barbie is one of those few films that are able to merge an extremely unreal and borderline bizarre environment with an immensely grounded and hyperreal take on society successfully, and still be massively entertaining.\\nReview_Url: /review/rw9213569/?ref_=tt_urv', metadata={'source': '/review/rw9213569/?ref_=tt_urv', 'row': 210}), Document(page_content=': 211\\nReview_Date: 19 July 2023\\nAuthor: mieriks\\nRating: 7\\nReview_Title: Fantastic attention to details\\nReview: This movie, about Barbie who suffers a crisis that leads her to question her world and her existence, is a good fantasy movie!\\nReview_Url: /review/rw9213569/?ref_=tt_urv', metadata={'source': '/review/rw9213569/?ref_=tt_urv', 'row': 211}), Document(page_content=\": 212\\nReview_Date: 27 July 2023\\nAuthor: I_Ailurophile\\nRating: 8\\nReview_Title: This isn't the movie you think it is - and it's probably better for it.\\nReview: Any time a movie prioritizes messaging, there's an all too long history of the end result suffering, whether in terms of its storytelling, its general craftsmanship, or both. Broadly, this trend holds true even when a message is important, admirable, and agreeable. Case in point, last year's slasher 'They/them' was troubled in various ways, but above all in how immensely upfront it was about its otherwise gratifying messaging; sure enough, the writing suffered in turn. This 2023 film is not free of that same issue, for it is extremely, emphatically forthright and downright strident about the ideas at the root of the screenplay and which it wishes to convey; they're terrific ideas, but literally from the very beginning we see and hear exactly, indisputably, what the script wants to communicate. More than that, this is a picture that strives to be, say, and do a lot, and in fact it is, says, and does so much that it's a little overwhelming - I earnestly think the finished product would have benefited from some thoughts being left out so as to tighten the whole and assert greater focus. And though I somewhat repeat myself, it's well worth accentuating that the feature is majorly heavy-handed, with astonishingly little of the content being given a delicate, nuanced touch for the viewer to pick up on or feel for ourselves. It's a title that wears its neon pink heart on its sleeve, and there's no possibility of missing it.\\nReview_Url: /review/rw9213569/?ref_=tt_urv\", metadata={'source': '/review/rw9213569/?ref_=tt_urv', 'row': 212}), Document(page_content=': 213\\nReview_Date: 11 August 2023\\nAuthor: julietteshinta\\nRating: 6\\nReview_Title: Starts well.. but then..\\nReview: Barbie made a strong start really. Loved the characters, loved the production design and love love the acting of Margot Robbie and Ryan Gosling but then along the way something happened and the characters dev becomes confusing.\\nReview_Url: /review/rw9213569/?ref_=tt_urv', metadata={'source': '/review/rw9213569/?ref_=tt_urv', 'row': 213}), Document(page_content=\": 214\\nReview_Date: 9 August 2023\\nAuthor: salexandria_f\\nRating: 8\\nReview_Title: Not as expected\\nReview: I went into this movie thinking it would be super preachy and all about feminism, but I found that many people have had different views or takeaways from the movie. I interpreted the overall point of the movie to be that today's feminism has gone a little overboard and has put way too much pressure on women to feel like we have to be the career driven, leader boss b*itch to have a meaningful life. This movie voices that sometimes women (while respecting the women that do) don't want to be a leader, who's a mom and has the career. Sometimes we just want to be average and that's ok. I also felt the mother and daughter scenes in the movie tug at my heart and GG did a great job and adding those pieces throughout the movie. While I agree that it was annoying how the Kens were treated at the beginning of the movie, I felt the ending tied it all together. Overall, I enjoyed the movie. As humans I think we sometimes find ourselves wondering what was I made for? And even though this was referring to Barbie, it can be very relatable.\\nReview_Url: /review/rw9213569/?ref_=tt_urv\", metadata={'source': '/review/rw9213569/?ref_=tt_urv', 'row': 214}), Document(page_content=\": 215\\nReview_Date: 10 August 2023\\nAuthor: snowadian\\nRating: 7\\nReview_Title: Are we still in the 60's lol?\\nReview: I feel like we as a society can't move past our parents and grandparents battles... women in first world civilizations have it better than ever (spoiler alert, it'll only get so good). Movie would have had a great message 60 years ago.\\nReview_Url: /review/rw9213569/?ref_=tt_urv\", metadata={'source': '/review/rw9213569/?ref_=tt_urv', 'row': 215}), Document(page_content=': 216\\nReview_Date: 25 July 2023\\nAuthor: aivilovee\\nRating: 10\\nReview_Title: Goofy, girly, and gorgeous\\nReview: I knew going into Barbie that I was in for a visual feast. The trailers showcased the wonderful set design, costumes, and performances already. But I was not expecting how affecting this movie would be.\\nReview_Url: /review/rw9213569/?ref_=tt_urv', metadata={'source': '/review/rw9213569/?ref_=tt_urv', 'row': 216}), Document(page_content=\": 217\\nReview_Date: 22 July 2023\\nAuthor: mpavaonunes\\nRating: 6\\nReview_Title: Falls short of greatness\\nReview: Barbie turned out to be a bit of a letdown. I had high hopes for the movie, but it didn't quite meet my expectations. The story felt forced, and the narrative lacked a decisive direction. There were moments of humor, but it missed the opportunity to be hilariously entertaining. The film could have been much better if they had taken advantage of the potential for creative and imaginative storytelling that the Barbie franchise offers. Despite the visually appealing scenes, the overall execution left me feeling unsatisfied. I hoped for a more captivating and memorable experience, but unfortunately, it fell short of delivering that. It is good entertainment.\\nReview_Url: /review/rw9213569/?ref_=tt_urv\", metadata={'source': '/review/rw9213569/?ref_=tt_urv', 'row': 217}), Document(page_content=\": 218\\nReview_Date: 19 July 2023\\nAuthor: enesmil\\nRating: 5\\nReview_Title: Disappointing and misleading\\nReview: The movie starts great, but goes off the rails soon after. Had they kept the look and feel of the first 30 minutes, this movie could've been great.\\nReview_Url: /review/rw9213569/?ref_=tt_urv\", metadata={'source': '/review/rw9213569/?ref_=tt_urv', 'row': 218}), Document(page_content=\": 219\\nReview_Date: 23 July 2023\\nAuthor: heidiej\\nRating: 10\\nReview_Title: Barbie is everything & bring on Kenergy\\nReview: I don't think I've been this excited about a movie in a long while.\\nReview_Url: /review/rw9213569/?ref_=tt_urv\", metadata={'source': '/review/rw9213569/?ref_=tt_urv', 'row': 219}), Document(page_content=': 220\\nReview_Date: 23 July 2023\\nAuthor: shaymalloy\\nRating: 10\\nReview_Title: An Elf-like work of art.\\nReview: My husband asked me to compare this to something else to ally, and my first thought was Elf. In these ways it lives up to one of the greatest movies of all time - both are hilarious, have wonderful musical numbers, heartwarming, will make you tear up, complicated parental storylines, unlikely character bonding, and whimsical visual tie-ins/world-building + bonus of both having Will Ferrel to boot.\\nReview_Url: /review/rw9213569/?ref_=tt_urv', metadata={'source': '/review/rw9213569/?ref_=tt_urv', 'row': 220}), Document(page_content=': 221\\nReview_Date: 20 July 2023\\nAuthor: waltermwilliams\\nRating: 7\\nReview_Title: What Walt\\'s Watching\\nReview: \"Barbie\" the movie must be a dream come true for girls all over the world and some guys too if that\\'s your jam.\\nReview_Url: /review/rw9213569/?ref_=tt_urv', metadata={'source': '/review/rw9213569/?ref_=tt_urv', 'row': 221}), Document(page_content=': 222\\nReview_Date: 26 July 2023\\nAuthor: cruise01\\nRating: 9\\nReview_Title: Flash weird fun that surpasses expectations.\\nReview: 4.5 out of 5 stars.\\nReview_Url: /review/rw9213569/?ref_=tt_urv', metadata={'source': '/review/rw9213569/?ref_=tt_urv', 'row': 222}), Document(page_content=\": 223\\nReview_Date: 28 July 2023\\nAuthor: ChipGard95\\nRating: 6\\nReview_Title: Very mixed\\nReview: The start was a wonderfully fun look at Barbies & Kens in Barbieland but I felt that it was a bit abrupt when Barbie out of nowhere had thoughts of death would've made more sense for her to notice signs of imperfection first then thoughts of death.\\nReview_Url: /review/rw9213569/?ref_=tt_urv\", metadata={'source': '/review/rw9213569/?ref_=tt_urv', 'row': 223}), Document(page_content=\": 224\\nReview_Date: 25 July 2023\\nAuthor: fallenwthyou217\\nRating: 10\\nReview_Title: The movie I didn't know I needed\\nReview: This movie was everything I didn't know I needed. Was great to just escape from the world for 2 hours. Truly one of the most fun movies I've seen in a while. Fun from beginning to end. Margot was amazing and so was Ryan gosling. 100% recommend for everyone especially if you're a father to a daughter I think it has a Good Message Emmet for all, but especially girls to be what they want to be, and how they can truly be anything. The outfits and stages were amazing. It literally looks like you were at a toy store. I will be surprised if they don't win anything for costumes. I definitely will be buying this movie when it comes out.\\nReview_Url: /review/rw9213569/?ref_=tt_urv\", metadata={'source': '/review/rw9213569/?ref_=tt_urv', 'row': 224})]\n"
          ]
        }
      ]
    },
    {
      "cell_type": "code",
      "source": [
        "print(len(data))"
      ],
      "metadata": {
        "colab": {
          "base_uri": "https://localhost:8080/"
        },
        "id": "DprzzhxdQHWE",
        "outputId": "9a51362a-3b4b-4c5b-ef09-59860fec841f"
      },
      "execution_count": null,
      "outputs": [
        {
          "output_type": "stream",
          "name": "stdout",
          "text": [
            "225\n"
          ]
        }
      ]
    },
    {
      "cell_type": "code",
      "source": [
        "assert len(data) == 225"
      ],
      "metadata": {
        "id": "26SZD9zb3luR"
      },
      "execution_count": null,
      "outputs": []
    },
    {
      "cell_type": "markdown",
      "source": [
        "Now that we have collected our review information into a loader - we can go ahead and chunk the reviews into more manageable pieces.\n",
        "\n",
        "We'll be leveraging the `RecursiveCharacterTextSplitter` for this task today.\n",
        "\n",
        "While splitting our text seems like a simple enough task - getting this correct/incorrect can have massive downstream impacts on your application's performance.\n",
        "\n",
        "You can read the docs here:\n",
        "- [RecursiveCharacterTextSplitter](https://python.langchain.com/docs/modules/data_connection/document_transformers/text_splitters/recursive_text_splitter)\n",
        "\n",
        "We want to split our documents into 1000 character length chunks, with 100 characters of overlap.\n",
        "\n",
        "> ### HINT:\n",
        ">It's always worth it to check out the LangChain source code if you're ever in a bind - for instance, if you want to know how to transform a set of documents, check it out [here](https://github.com/langchain-ai/langchain/blob/5e9687a196410e9f41ebcd11eb3f2ca13925545b/libs/langchain/langchain/text_splitter.py#L268C18-L268C18)"
      ],
      "metadata": {
        "id": "_CTameZZ0r76"
      }
    },
    {
      "cell_type": "code",
      "source": [
        "from langchain.text_splitter import RecursiveCharacterTextSplitter\n",
        "\n",
        "text_splitter = RecursiveCharacterTextSplitter(\n",
        "    chunk_size = 1000, # the character length of the chunk\n",
        "    chunk_overlap = 100, # the character length of the overlap between chunks\n",
        "    length_function = len, # the length function\n",
        ")"
      ],
      "metadata": {
        "id": "uEgcUVtl00Xm"
      },
      "execution_count": null,
      "outputs": []
    },
    {
      "cell_type": "code",
      "source": [
        "documents = text_splitter.transform_documents(data)### YOUR CODE HERE"
      ],
      "metadata": {
        "id": "y9RJUiUD2gS5"
      },
      "execution_count": null,
      "outputs": []
    },
    {
      "cell_type": "code",
      "source": [
        "print(len(documents))"
      ],
      "metadata": {
        "id": "w-oWu5XT3IG4",
        "colab": {
          "base_uri": "https://localhost:8080/"
        },
        "outputId": "aed13de3-46c9-44be-f136-32b4daead694"
      },
      "execution_count": null,
      "outputs": [
        {
          "output_type": "stream",
          "name": "stdout",
          "text": [
            "331\n"
          ]
        }
      ]
    },
    {
      "cell_type": "code",
      "source": [
        "assert len(documents) == 331"
      ],
      "metadata": {
        "id": "6N4OXAhc3oIB"
      },
      "execution_count": null,
      "outputs": []
    },
    {
      "cell_type": "markdown",
      "source": [
        "With our documents transformed into more manageable sizes, and with the correct metadata set-up, we're now ready to move on to creating our VectorStore!"
      ],
      "metadata": {
        "id": "ylT4jwmx3zCb"
      }
    },
    {
      "cell_type": "markdown",
      "source": [
        "### Task 2: Creating an \"Index\"\n",
        "\n",
        "The term \"index\" is used largely to mean: Structured documents parsed into a useful format for querying, retrieving, and use in the LLM application stack."
      ],
      "metadata": {
        "id": "9cB0L_CN38W5"
      }
    },
    {
      "cell_type": "markdown",
      "source": [
        "#### Selecting Our VectorStore\n",
        "\n",
        "There are a number of different VectorStores, and a number of different strengths and weaknesses to each.\n",
        "\n",
        "In this notebook, we will be keeping it very simple by leveraging [Facebook AI Similarity Search](https://ai.meta.com/tools/faiss/#:~:text=FAISS%20(Facebook%20AI%20Similarity%20Search,more%20scalable%20similarity%20search%20functions.), or `FAISS`."
      ],
      "metadata": {
        "id": "GycdG53N4f9Z"
      }
    },
    {
      "cell_type": "code",
      "source": [
        "!pip install -q -U faiss-cpu tiktoken"
      ],
      "metadata": {
        "colab": {
          "base_uri": "https://localhost:8080/"
        },
        "id": "T5o4vwSn4hfe",
        "outputId": "ae50947b-378e-46c0-b61e-6512bff87b17"
      },
      "execution_count": null,
      "outputs": [
        {
          "output_type": "stream",
          "name": "stdout",
          "text": [
            "\u001b[2K     \u001b[90m━━━━━━━━━━━━━━━━━━━━━━━━━━━━━━━━━━━━━━━━\u001b[0m \u001b[32m17.6/17.6 MB\u001b[0m \u001b[31m37.8 MB/s\u001b[0m eta \u001b[36m0:00:00\u001b[0m\n",
            "\u001b[2K     \u001b[90m━━━━━━━━━━━━━━━━━━━━━━━━━━━━━━━━━━━━━━━━\u001b[0m \u001b[32m1.7/1.7 MB\u001b[0m \u001b[31m66.9 MB/s\u001b[0m eta \u001b[36m0:00:00\u001b[0m\n",
            "\u001b[?25h"
          ]
        }
      ]
    },
    {
      "cell_type": "markdown",
      "source": [
        "We're going to be setting up our VectorStore with the OpenAI embeddings model. While this embeddings model does not need to be consistent with the LLM selection, it does need to be consistent between embedding our index and embedding our queries over that index.\n",
        "\n",
        "While we don't have to worry too much about that in this example - it's something to keep in mind for more complex applications.\n",
        "\n",
        "We're going to leverage a [`CacheBackedEmbeddings`](https://python.langchain.com/docs/modules/data_connection/caching_embeddings )flow to prevent us from re-embedding similar queries over and over again.\n",
        "\n",
        "Not only will this save time, it will also save us precious embedding tokens, which will reduce the overall cost for our application.\n",
        "\n",
        ">#### Note:\n",
        ">The overall cost savings needs to be compared against the additional cost of storing the cached embeddings for a true cost/benefit analysis. If your users are submitting the same queries often, though, this pattern can be a massive reduction in cost."
      ],
      "metadata": {
        "id": "CGU96p5R54Xz"
      }
    },
    {
      "cell_type": "code",
      "source": [
        "from langchain.embeddings.openai import OpenAIEmbeddings\n",
        "from langchain.embeddings import CacheBackedEmbeddings\n",
        "from langchain.vectorstores import FAISS\n",
        "from langchain.storage import LocalFileStore\n",
        "\n",
        "store = LocalFileStore(\"./cache/\")\n",
        "\n",
        "core_embeddings_model = OpenAIEmbeddings()\n",
        "\n",
        "embedder = CacheBackedEmbeddings.from_bytes_store(\n",
        "    core_embeddings_model,\n",
        "    store,\n",
        "    namespace=core_embeddings_model.model\n",
        ")\n",
        "\n",
        "vector_store = FAISS.from_documents(documents, embedder)"
      ],
      "metadata": {
        "id": "AOzZWPU05WLr"
      },
      "execution_count": null,
      "outputs": []
    },
    {
      "cell_type": "markdown",
      "source": [
        "Now that we've created the VectorStore, we can check that it's working by embedding a query and retrieving passages from our reviews that are close to it."
      ],
      "metadata": {
        "id": "IGHzcE5i6fOR"
      }
    },
    {
      "cell_type": "code",
      "source": [
        "query = \"How is Will Ferrell in this movie?\"\n",
        "embedding_vector = core_embeddings_model.embed_query(query)\n",
        "docs = vector_store.similarity_search_by_vector(embedding_vector, k = 4)\n",
        "\n",
        "for page in docs:\n",
        "  print(page.page_content)"
      ],
      "metadata": {
        "id": "JLOvFNxA6ZSH",
        "colab": {
          "base_uri": "https://localhost:8080/"
        },
        "outputId": "495477d8-0e0d-4140-e231-0d6b26b5c6a0"
      },
      "execution_count": null,
      "outputs": [
        {
          "output_type": "stream",
          "name": "stdout",
          "text": [
            ": 205\n",
            "Review_Date: 19 August 2023\n",
            "Author: tamas_meszaros\n",
            "Rating: 6\n",
            "Review_Title: Fun, but it will get old soon\n",
            "Review: This movie was a lot of fun to watch. Everybody focuses on Margot Robbie and Ryan Gosling (who were obviously great), but I think America Ferrera and Will Ferrell also gave solid performances.\n",
            "Review_Url: /review/rw9213569/?ref_=tt_urv\n",
            ": 76\n",
            "Review_Date: 23 July 2023\n",
            "Author: a-hilton\n",
            "Rating: 10\n",
            "Review_Title: Had me smiling all the way through\n",
            "Review: Okay maybe it was a 9.5 because of two flaws: First was the Will Ferrell character and his board that made their point but then became superfluos. Second was that it is definitely not a kids' movie (although maybe they would see things that I didn't - I mean to be fair, the few kids in the theatre were well behaved so perhaps the movie got their full attention as well).\n",
            "Review_Url: /review/rw9213569/?ref_=tt_urv\n",
            ": 220\n",
            "Review_Date: 23 July 2023\n",
            "Author: shaymalloy\n",
            "Rating: 10\n",
            "Review_Title: An Elf-like work of art.\n",
            "Review: My husband asked me to compare this to something else to ally, and my first thought was Elf. In these ways it lives up to one of the greatest movies of all time - both are hilarious, have wonderful musical numbers, heartwarming, will make you tear up, complicated parental storylines, unlikely character bonding, and whimsical visual tie-ins/world-building + bonus of both having Will Ferrel to boot.\n",
            "Review_Url: /review/rw9213569/?ref_=tt_urv\n",
            ": 84\n",
            "Review_Date: 23 July 2023\n",
            "Author: hyllus-01262\n",
            "Rating: 6\n",
            "Review_Title: Overhyped movie, had its moments though\n",
            "Review: The first half was pretty enjoyable, fun, light, but it took itself too seriously by the second half. No longer allowing the talented cast, especially Gosling, to shine and make us laugh. It felt like the talents of Will Ferrell and Michael Cera were also somewhat underutilized. Interesting concept, had potential, but later in the movie, it definitely started to fall flat for me.\n",
            "Review_Url: /review/rw9213569/?ref_=tt_urv\n"
          ]
        }
      ]
    },
    {
      "cell_type": "markdown",
      "source": [
        "Let's see how much time the `CacheBackedEmbeddings` pattern saves us:"
      ],
      "metadata": {
        "id": "ix4fyOUS-fU-"
      }
    },
    {
      "cell_type": "code",
      "source": [
        "%%timeit -n 1 -r 1\n",
        "query = \"I really wanted to enjoy this and I know that I am not the target audience but there were massive plot holes and no real flow.\"\n",
        "embedding_vector = core_embeddings_model.embed_query(query)\n",
        "docs = vector_store.similarity_search_by_vector(embedding_vector, k = 4)"
      ],
      "metadata": {
        "colab": {
          "base_uri": "https://localhost:8080/"
        },
        "id": "eLXFKzu--m81",
        "outputId": "93e8da86-31bc-4be2-d67e-e5b681a531c2"
      },
      "execution_count": null,
      "outputs": [
        {
          "output_type": "stream",
          "name": "stdout",
          "text": [
            "167 ms ± 0 ns per loop (mean ± std. dev. of 1 run, 1 loop each)\n"
          ]
        }
      ]
    },
    {
      "cell_type": "code",
      "source": [
        "%%timeit\n",
        "query = \"I really wanted to enjoy this and I know that I am not the target audience but there were massive plot holes and no real flow.\"\n",
        "embedding_vector = core_embeddings_model.embed_query(query)\n",
        "docs = vector_store.similarity_search_by_vector(embedding_vector, k = 4)"
      ],
      "metadata": {
        "colab": {
          "base_uri": "https://localhost:8080/"
        },
        "id": "pCwtsJbc_KPd",
        "outputId": "825ac16b-2fd1-4e7d-b94c-53133f8665ff"
      },
      "execution_count": null,
      "outputs": [
        {
          "output_type": "stream",
          "name": "stdout",
          "text": [
            "222 ms ± 126 ms per loop (mean ± std. dev. of 7 runs, 10 loops each)\n"
          ]
        }
      ]
    },
    {
      "cell_type": "markdown",
      "source": [
        "As we can see, even over a significant number of runs - the cached query is significantly faster than the first instance of the query!\n",
        "\n",
        "With that, we're ready to move onto Task 3!"
      ],
      "metadata": {
        "id": "b4utL1EfARTm"
      }
    },
    {
      "cell_type": "markdown",
      "source": [
        "### Task 3: Building a Retrieval Chain\n",
        "\n",
        "In this task, we'll be making a Retrieval Chain which will allow us to ask semantic questions over our data.\n",
        "\n",
        "This part is rather abstracted away from us in LangChain and so it seems very powerful.\n",
        "\n",
        "Be sure to check the documentation, the source code, and other provided resources to build a deeper understanding of what's happening \"under the hood\"!"
      ],
      "metadata": {
        "id": "Po3kHNHGBp0j"
      }
    },
    {
      "cell_type": "markdown",
      "source": [
        "#### A Basic RetrievalQA Chain\n",
        "\n",
        "We're going to leverage `return_source_documents=True` to ensure we have proper sources for our reviews - should the end user want to verify the reviews themselves.\n",
        "\n",
        "Hallucinations [are](https://arxiv.org/abs/2202.03629) [a](https://arxiv.org/abs/2305.15852) [massive](https://arxiv.org/abs/2303.16104) [problem](https://arxiv.org/abs/2305.18248) in LLM applications.\n",
        "\n",
        "Though it has been tenuously shown that using Retrieval Augmentation [reduces hallucination in conversations](https://arxiv.org/pdf/2104.07567.pdf), one sure fire way to ensure your model is not hallucinating in a non-transparent way is to provide sources with your responses. This way the end-user can verify the output."
      ],
      "metadata": {
        "id": "i5Ux9XdzCDi9"
      }
    },
    {
      "cell_type": "markdown",
      "source": [
        "#### Our LLM\n",
        "\n",
        "In this notebook, we'll continue to leverage OpenAI's suite of models - this time we'll be using the `gpt-3.5-turbo` model to power our RetrievalQAWithSources chain.\n",
        "\n",
        "Check out the relevant documentation if you get stuck:\n",
        "- [`OpenAIChat()`](https://python.langchain.com/docs/modules/model_io/models/chat/)"
      ],
      "metadata": {
        "id": "O_waVo3AEk71"
      }
    },
    {
      "cell_type": "code",
      "source": [
        "from langchain.llms.openai import OpenAIChat\n",
        "\n",
        "llm = OpenAIChat(model=\"gpt-3.5-turbo\")"
      ],
      "metadata": {
        "id": "QfglvbBtExPR"
      },
      "execution_count": null,
      "outputs": []
    },
    {
      "cell_type": "markdown",
      "source": [
        "Now we can set up our chain.\n",
        "\n",
        "We'll need to make our VectorStore a retriever in order to be able to leverage it in our chain - let's check out the `as_retriever()` method.\n",
        "\n",
        "Relevant Documentation:\n",
        "- [`FAISS`](https://api.python.langchain.com/en/latest/vectorstores/langchain.vectorstores.faiss.FAISS.html#langchain.vectorstores.faiss.FAISS.as_retriever)"
      ],
      "metadata": {
        "id": "w35ZkVEoE8II"
      }
    },
    {
      "cell_type": "code",
      "source": [
        "retriever = vector_store.as_retriever()"
      ],
      "metadata": {
        "id": "T8TWJMH8F_w7"
      },
      "execution_count": null,
      "outputs": []
    },
    {
      "cell_type": "code",
      "source": [
        "from langchain.chains import RetrievalQA\n",
        "from langchain.callbacks import StdOutCallbackHandler\n",
        "\n",
        "handler = StdOutCallbackHandler()\n",
        "\n",
        "qa_with_sources_chain = RetrievalQA.from_chain_type(\n",
        "    llm=llm,\n",
        "    retriever=retriever,\n",
        "    callbacks=[handler],\n",
        "    return_source_documents=True\n",
        ")"
      ],
      "metadata": {
        "id": "QeD8R6huFIf6"
      },
      "execution_count": null,
      "outputs": []
    },
    {
      "cell_type": "code",
      "source": [
        "qa_with_sources_chain({\"query\" : \"How was Will Ferrell in this movie?\"})"
      ],
      "metadata": {
        "colab": {
          "base_uri": "https://localhost:8080/"
        },
        "id": "oqPaII9nF72R",
        "outputId": "b85ae95d-d66e-4292-d111-7a519a3fb134"
      },
      "execution_count": null,
      "outputs": [
        {
          "output_type": "stream",
          "name": "stdout",
          "text": [
            "\n",
            "\n",
            "\u001b[1m> Entering new RetrievalQA chain...\u001b[0m\n",
            "\n",
            "\u001b[1m> Finished chain.\u001b[0m\n"
          ]
        },
        {
          "output_type": "execute_result",
          "data": {
            "text/plain": [
              "{'query': 'How was Will Ferrell in this movie?',\n",
              " 'result': \"Will Ferrell's performance in the movie received mixed reviews. One reviewer found his character and storyline to be unnecessary and superfluous, while another reviewer mentioned that Ferrell gave a solid performance.\",\n",
              " 'source_documents': [Document(page_content=\": 76\\nReview_Date: 23 July 2023\\nAuthor: a-hilton\\nRating: 10\\nReview_Title: Had me smiling all the way through\\nReview: Okay maybe it was a 9.5 because of two flaws: First was the Will Ferrell character and his board that made their point but then became superfluos. Second was that it is definitely not a kids' movie (although maybe they would see things that I didn't - I mean to be fair, the few kids in the theatre were well behaved so perhaps the movie got their full attention as well).\\nReview_Url: /review/rw9213569/?ref_=tt_urv\", metadata={'source': '/review/rw9213569/?ref_=tt_urv', 'row': 76}),\n",
              "  Document(page_content=': 205\\nReview_Date: 19 August 2023\\nAuthor: tamas_meszaros\\nRating: 6\\nReview_Title: Fun, but it will get old soon\\nReview: This movie was a lot of fun to watch. Everybody focuses on Margot Robbie and Ryan Gosling (who were obviously great), but I think America Ferrera and Will Ferrell also gave solid performances.\\nReview_Url: /review/rw9213569/?ref_=tt_urv', metadata={'source': '/review/rw9213569/?ref_=tt_urv', 'row': 205}),\n",
              "  Document(page_content=': 84\\nReview_Date: 23 July 2023\\nAuthor: hyllus-01262\\nRating: 6\\nReview_Title: Overhyped movie, had its moments though\\nReview: The first half was pretty enjoyable, fun, light, but it took itself too seriously by the second half. No longer allowing the talented cast, especially Gosling, to shine and make us laugh. It felt like the talents of Will Ferrell and Michael Cera were also somewhat underutilized. Interesting concept, had potential, but later in the movie, it definitely started to fall flat for me.\\nReview_Url: /review/rw9213569/?ref_=tt_urv', metadata={'source': '/review/rw9213569/?ref_=tt_urv', 'row': 84}),\n",
              "  Document(page_content=': 220\\nReview_Date: 23 July 2023\\nAuthor: shaymalloy\\nRating: 10\\nReview_Title: An Elf-like work of art.\\nReview: My husband asked me to compare this to something else to ally, and my first thought was Elf. In these ways it lives up to one of the greatest movies of all time - both are hilarious, have wonderful musical numbers, heartwarming, will make you tear up, complicated parental storylines, unlikely character bonding, and whimsical visual tie-ins/world-building + bonus of both having Will Ferrel to boot.\\nReview_Url: /review/rw9213569/?ref_=tt_urv', metadata={'source': '/review/rw9213569/?ref_=tt_urv', 'row': 220})]}"
            ]
          },
          "metadata": {},
          "execution_count": 39
        }
      ]
    },
    {
      "cell_type": "code",
      "source": [
        "qa_with_sources_chain({\"query\" : \"Do reviewers consider this movie Kenough?\"})"
      ],
      "metadata": {
        "colab": {
          "base_uri": "https://localhost:8080/"
        },
        "id": "47Ov7N22MxOS",
        "outputId": "22114ae9-db99-484f-aef8-d827f68a644e"
      },
      "execution_count": null,
      "outputs": [
        {
          "output_type": "stream",
          "name": "stdout",
          "text": [
            "\n",
            "\n",
            "\u001b[1m> Entering new RetrievalQA chain...\u001b[0m\n",
            "\n",
            "\u001b[1m> Finished chain.\u001b[0m\n"
          ]
        },
        {
          "output_type": "execute_result",
          "data": {
            "text/plain": [
              "{'query': 'Do reviewers consider this movie Kenough?',\n",
              " 'result': \"Based on the given context, the reviewers do consider this movie Kenough, as they give it ratings of 8 and 9 and positively mention Ryan Gosling's portrayal of Ken.\",\n",
              " 'source_documents': [Document(page_content=': 34\\nReview_Date: 23 July 2023\\nAuthor: eoinageary\\nRating: 8\\nReview_Title: I am Kenough\\nReview: So I went into the movie with little to no expectations and I was pleasantly impressed with the movie overall.\\nReview_Url: /review/rw9213569/?ref_=tt_urv', metadata={'source': '/review/rw9213569/?ref_=tt_urv', 'row': 34}),\n",
              "  Document(page_content=': 24\\nReview_Date: 20 July 2023\\nAuthor: Genti25\\nRating: 8\\nReview_Title: You are Kenough\\nReview: This movie is so much fun. It starts off really strong although the story does move away from \"Barbieland\" sooner than I would have liked. Nonetheless, it regains its footing with the final act in particular and I could not stop laughing at Ryan Gosling\\'s portrayal of Ken. That song will forever be stuck in my head.\\nReview_Url: /review/rw9213569/?ref_=tt_urv', metadata={'source': '/review/rw9213569/?ref_=tt_urv', 'row': 24}),\n",
              "  Document(page_content=\": 153\\nReview_Date: 10 August 2023\\nAuthor: EvanparkerT\\nRating: 9\\nReview_Title: You're Kenough y'all!\\nReview: Went in to see for Margot Robbie, left giving flowers to Ryan Gosling\\nReview_Url: /review/rw9213569/?ref_=tt_urv\", metadata={'source': '/review/rw9213569/?ref_=tt_urv', 'row': 153}),\n",
              "  Document(page_content=': 70\\nReview_Date: 23 July 2023\\nAuthor: anniebleasdale-97708\\nRating: 9\\nReview_Title: Wildly misunderstood by the poor reviewers.\\nReview: Unfortunately, most reviews that I\\'ve read here that score this film poorly explain so clearly that the reviewer did not understand the message of the film. It is not anti-men, it does not portray men as \"stupid\". Take a moment to think about how women have been portrayed in movies over the last century - oh yes, just as Ken is here! The movie exaggerates this, yes. That is the point. To clearly (and humourously) highlight the inequalities when the roles are reversed. Stop being offended by something that isn\\'t offensive and take a bit of time to actually think about the film that you have watched.\\nReview_Url: /review/rw9213569/?ref_=tt_urv', metadata={'source': '/review/rw9213569/?ref_=tt_urv', 'row': 70})]}"
            ]
          },
          "metadata": {},
          "execution_count": 40
        }
      ]
    },
    {
      "cell_type": "markdown",
      "source": [
        "And with that, we have our Barbie Review RAQA Application built!"
      ],
      "metadata": {
        "id": "QQVCkoy3H5Rw"
      }
    },
    {
      "cell_type": "markdown",
      "source": [
        "### Conclusion\n",
        "\n",
        "Now that we have our application ready, let's deploy it to a Hugging Face space with their Docker spaces.\n",
        "\n",
        "You can find the next part [here](https://ai-maker-space-barbie-raqa-application-chainlit-demo.hf.space/readme)!\n",
        "\n",
        "You've built, now it's time to ship! 🚢"
      ],
      "metadata": {
        "id": "KqIHum95dtns"
      }
    }
  ]
}