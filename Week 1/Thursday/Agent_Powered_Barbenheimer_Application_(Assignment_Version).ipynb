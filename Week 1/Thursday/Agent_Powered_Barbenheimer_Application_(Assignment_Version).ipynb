{
  "cells": [
    {
      "cell_type": "markdown",
      "metadata": {
        "id": "8lpaRrvaWxld"
      },
      "source": [
        "# Questioning Barbie and Oppenheimer Through the Use of Agents\n",
        "\n",
        "In the following notebook we will build an application that queries both the Barbie and Oppenheimer movies Wikipedia pages, as well as their reviews.\n",
        "\n",
        "The main focus of this notebook is to showcase a brief introduction to Agents.\n",
        "\n",
        "## Build 🏗️\n",
        "\n",
        "There are 3 main tasks in this notebook:\n",
        "\n",
        "1. Contruct a Barbie retriever\n",
        "2. Construct an Oppenheimer retriever\n",
        "3. Combine the two and allow users to query both resources from a single input through the use of Agents\n",
        "\n",
        "## Ship 🚢\n",
        "\n",
        "Based on Tuesday's session - construct a Chainlit (or Gradio) application that allows users to interface with the application.\n",
        "\n",
        "## Share 🚀\n",
        "\n",
        "Make a social media post about your final application."
      ]
    },
    {
      "cell_type": "markdown",
      "metadata": {
        "id": "Ytobb7tLWxlg"
      },
      "source": [
        "### Dependencies\n",
        "\n",
        "As always, let's start with some dependencies!"
      ]
    },
    {
      "cell_type": "code",
      "execution_count": 2,
      "metadata": {
        "colab": {
          "base_uri": "https://localhost:8080/"
        },
        "id": "DTyHPYk4Wxlg",
        "outputId": "048e3a42-2662-436d-d041-91bb956c3eb8"
      },
      "outputs": [
        {
          "output_type": "stream",
          "name": "stdout",
          "text": [
            "\u001b[?25l     \u001b[90m━━━━━━━━━━━━━━━━━━━━━━━━━━━━━━━━━━━━━━━━\u001b[0m \u001b[32m0.0/1.5 MB\u001b[0m \u001b[31m?\u001b[0m eta \u001b[36m-:--:--\u001b[0m\r\u001b[2K     \u001b[91m━━━━━━\u001b[0m\u001b[90m╺\u001b[0m\u001b[90m━━━━━━━━━━━━━━━━━━━━━━━━━━━━━━━━━\u001b[0m \u001b[32m0.2/1.5 MB\u001b[0m \u001b[31m6.8 MB/s\u001b[0m eta \u001b[36m0:00:01\u001b[0m\r\u001b[2K     \u001b[91m━━━━━━━━━━━━━━━━━━━━━━━━━━━━━━━━━━━━━━━\u001b[0m\u001b[91m╸\u001b[0m \u001b[32m1.5/1.5 MB\u001b[0m \u001b[31m23.9 MB/s\u001b[0m eta \u001b[36m0:00:01\u001b[0m\r\u001b[2K     \u001b[90m━━━━━━━━━━━━━━━━━━━━━━━━━━━━━━━━━━━━━━━━\u001b[0m \u001b[32m1.5/1.5 MB\u001b[0m \u001b[31m19.9 MB/s\u001b[0m eta \u001b[36m0:00:00\u001b[0m\n",
            "\u001b[2K     \u001b[90m━━━━━━━━━━━━━━━━━━━━━━━━━━━━━━━━━━━━━━━━\u001b[0m \u001b[32m73.6/73.6 kB\u001b[0m \u001b[31m8.4 MB/s\u001b[0m eta \u001b[36m0:00:00\u001b[0m\n",
            "\u001b[2K     \u001b[90m━━━━━━━━━━━━━━━━━━━━━━━━━━━━━━━━━━━━━━━━\u001b[0m \u001b[32m49.4/49.4 kB\u001b[0m \u001b[31m6.6 MB/s\u001b[0m eta \u001b[36m0:00:00\u001b[0m\n",
            "\u001b[?25h"
          ]
        }
      ],
      "source": [
        "!pip install -q -U langchain openai"
      ]
    },
    {
      "cell_type": "code",
      "execution_count": 1,
      "metadata": {
        "colab": {
          "base_uri": "https://localhost:8080/"
        },
        "id": "QvWq4RnBWxlh",
        "outputId": "b7cd902d-1054-4f46-dc13-f438993b6675"
      },
      "outputs": [
        {
          "name": "stdout",
          "output_type": "stream",
          "text": [
            "Enter your OpenAI API Key: ··········\n"
          ]
        }
      ],
      "source": [
        "import getpass\n",
        "import os\n",
        "openai_api_key = getpass.getpass(\"Enter your OpenAI API Key: \")\n",
        "os.environ[\"OPENAI_API_KEY\"] = openai_api_key"
      ]
    },
    {
      "cell_type": "markdown",
      "metadata": {
        "id": "4Cg6HFi8Wxlh"
      },
      "source": [
        "### LLM\n",
        "\n",
        "We will be leveraging OpenAI's `gpt-3.5-turbo` throughout the notebook, and we can keep it consistent throughout!"
      ]
    },
    {
      "cell_type": "code",
      "execution_count": 17,
      "metadata": {
        "id": "BiLMDTC2Wxlh"
      },
      "outputs": [],
      "source": [
        "from langchain.chat_models import ChatOpenAI\n",
        "llm = ChatOpenAI(model=\"gpt-3.5-turbo\", temperature = 0)"
      ]
    },
    {
      "cell_type": "markdown",
      "metadata": {
        "id": "lON4ha9PWxli"
      },
      "source": [
        "### Data Collection and Transformation\n",
        "\n",
        "We'll be leveraging the `WikipediaLoader` tool to collect information from Wikipedia.\n",
        "\n",
        "Be sure to set the `doc_content_chars_max` parameter so that you capture the *entire* Wikipedia article content."
      ]
    },
    {
      "cell_type": "code",
      "execution_count": 4,
      "metadata": {
        "colab": {
          "base_uri": "https://localhost:8080/"
        },
        "id": "w_ueXzsrWxli",
        "outputId": "84623964-3b1e-42f7-8b30-9393df22332f"
      },
      "outputs": [
        {
          "output_type": "stream",
          "name": "stdout",
          "text": [
            "  Preparing metadata (setup.py) ... \u001b[?25l\u001b[?25hdone\n",
            "  Building wheel for wikipedia (setup.py) ... \u001b[?25l\u001b[?25hdone\n"
          ]
        }
      ],
      "source": [
        "!pip install -q -U wikipedia"
      ]
    },
    {
      "cell_type": "code",
      "execution_count": 6,
      "metadata": {
        "id": "0gKt2lz9Wxli"
      },
      "outputs": [],
      "source": [
        "from langchain.document_loaders import WikipediaLoader, CSVLoader\n",
        "\n",
        "barbie_wikipedia_docs = WikipediaLoader(\n",
        "    query=\"Barbie (film)\",\n",
        "    load_max_docs= 1,\n",
        "    doc_content_chars_max=1000000\n",
        "    ).load()\n",
        "\n",
        "barbie_csv_docs = CSVLoader(\n",
        "    file_path=\"./barbie.csv\",\n",
        "    source_column=\"Review_Url\"\n",
        "    ).load()"
      ]
    },
    {
      "cell_type": "markdown",
      "metadata": {
        "id": "xHuleRl9Wxli"
      },
      "source": [
        "Since we'll be using same format source documentation separated by topic, we can save ourselves some extra effort and set up our splitters once.\n",
        "\n",
        "We're going to leverage the `RecursiveCharacterTextSplitter` again, this time paying close attention to the format our Wikipedia articles and reviews are in so we can be sure to chunk them appropritately.\n",
        "\n",
        "> HINT: You can pass a list of separators when you intialize your `RecursiveTextSplitter`! They are acted on in order of element 0 -> element len(list).\n",
        "\n",
        "RELEVANT DOCS:\n",
        "- [`RecursiveCharacterTextSplitter`](https://api.python.langchain.com/en/latest/text_splitter/langchain.text_splitter.RecursiveCharacterTextSplitter.html#langchain.text_splitter.RecursiveCharacterTextSplitter)"
      ]
    },
    {
      "cell_type": "code",
      "execution_count": 8,
      "metadata": {
        "id": "VPg785FbWxlj"
      },
      "outputs": [],
      "source": [
        "from langchain.text_splitter import RecursiveCharacterTextSplitter\n",
        "\n",
        "wikipedia_text_splitter = RecursiveCharacterTextSplitter(\n",
        "    chunk_size = 500,\n",
        "    chunk_overlap = 0,\n",
        "    length_function = len,\n",
        "    is_separator_regex= False,\n",
        "    separators = [\"\\n==\", \"\\n\", \" \"]\n",
        ")\n",
        "\n",
        "csv_text_splitter = RecursiveCharacterTextSplitter(\n",
        "    chunk_size = 1000,\n",
        "    chunk_overlap = 50,\n",
        "    length_function = len,\n",
        "    is_separator_regex= False,\n",
        "    separators = [\"\\n\", \" \"]\n",
        ")\n",
        "\n",
        "chunked_barbie_wikipedia_docs = wikipedia_text_splitter.transform_documents(barbie_wikipedia_docs)\n",
        "chunked_barbie_csv_docs = csv_text_splitter.transform_documents(barbie_csv_docs)"
      ]
    },
    {
      "cell_type": "markdown",
      "metadata": {
        "id": "OISLrQNYWxlj"
      },
      "source": [
        "#### Retrieval and Embedding Strategy\n",
        "\n",
        "We've already discussed the useful application of `CacheBackedEmbeddings`, so let's do it again!\n",
        "\n",
        "RELEVANT DOCS:\n",
        "- [`CacheBackedEmbeddings`](https://api.python.langchain.com/en/latest/embeddings/langchain.embeddings.cache.CacheBackedEmbeddings.html#langchain-embeddings-cache-cachebackedembeddings)"
      ]
    },
    {
      "cell_type": "code",
      "execution_count": 9,
      "metadata": {
        "colab": {
          "base_uri": "https://localhost:8080/"
        },
        "id": "7yETYBkoWxlj",
        "outputId": "ab06f83f-154d-407a-f25c-720e1fba1898"
      },
      "outputs": [
        {
          "output_type": "stream",
          "name": "stdout",
          "text": [
            "\u001b[2K     \u001b[90m━━━━━━━━━━━━━━━━━━━━━━━━━━━━━━━━━━━━━━━━\u001b[0m \u001b[32m1.7/1.7 MB\u001b[0m \u001b[31m23.8 MB/s\u001b[0m eta \u001b[36m0:00:00\u001b[0m\n",
            "\u001b[2K     \u001b[90m━━━━━━━━━━━━━━━━━━━━━━━━━━━━━━━━━━━━━━━\u001b[0m \u001b[32m17.6/17.6 MB\u001b[0m \u001b[31m113.5 MB/s\u001b[0m eta \u001b[36m0:00:00\u001b[0m\n",
            "\u001b[?25h"
          ]
        }
      ],
      "source": [
        "!pip install -q -U rank_bm25 tiktoken faiss-cpu"
      ]
    },
    {
      "cell_type": "code",
      "execution_count": 10,
      "metadata": {
        "id": "Od4rvTwOWxlj"
      },
      "outputs": [],
      "source": [
        "from langchain.retrievers import BM25Retriever, EnsembleRetriever\n",
        "from langchain.vectorstores import FAISS\n",
        "from langchain.embeddings.openai import OpenAIEmbeddings\n",
        "from langchain.embeddings import CacheBackedEmbeddings\n",
        "from langchain.storage import LocalFileStore\n",
        "\n",
        "# set up cached embeddings store\n",
        "store = LocalFileStore(\"./cache/\")\n",
        "\n",
        "core_embeddings_model = OpenAIEmbeddings()\n",
        "\n",
        "embedder = CacheBackedEmbeddings.from_bytes_store(core_embeddings_model, store, namespace=core_embeddings_model.model)\n"
      ]
    },
    {
      "cell_type": "markdown",
      "metadata": {
        "id": "V4qPTW-fWxlj"
      },
      "source": [
        "We'll implement a `FAISS` vectorstore, and create a retriever from it."
      ]
    },
    {
      "cell_type": "code",
      "execution_count": 11,
      "metadata": {
        "id": "Ol20BDaaWxlj"
      },
      "outputs": [],
      "source": [
        "barbie_csv_faiss_retriever = FAISS.from_documents(chunked_barbie_csv_docs, embedder).as_retriever()\n"
      ]
    },
    {
      "cell_type": "markdown",
      "metadata": {
        "id": "XL9fo1w0Wxlk"
      },
      "source": [
        "There are a number of excellent options to retrieve documents - we'll be looking at an additional example today, which is called the `EnsembleRetriever`.\n",
        "\n",
        "The method this is using is outlined in [this paper](https://plg.uwaterloo.ca/~gvcormac/cormacksigir09-rrf.pdf).\n",
        "\n",
        "The brief explanation is:\n",
        "\n",
        "1. We collect results from two different retrieval methods over the same corpus\n",
        "2. We apply a reranking algorithm to rerank our source documents to be the *most relevant* without losing specific or potentially low-ranked information rich documents\n",
        "3. We feed the top-k results into the LLM with our query as context.\n",
        "\n",
        "> HINT: Your weight list should be of type `List[float]` and the `sum(List[float])` should be `1`."
      ]
    },
    {
      "cell_type": "code",
      "execution_count": 12,
      "metadata": {
        "id": "MpSyY-LxWxlk"
      },
      "outputs": [],
      "source": [
        "# set up BM25 retriever\n",
        "barbie_wikipedia_bm25_retriever = BM25Retriever.from_documents(\n",
        "    chunked_barbie_wikipedia_docs\n",
        ")\n",
        "barbie_wikipedia_bm25_retriever.k = 1\n",
        "\n",
        "# set up FAISS vector store\n",
        "barbie_wikipedia_faiss_store = FAISS.from_documents(\n",
        "    chunked_barbie_wikipedia_docs,\n",
        "    embedder\n",
        ")\n",
        "barbie_wikipedia_faiss_retriever = barbie_wikipedia_faiss_store.as_retriever(search_kwargs={\"k\": 1})\n",
        "\n",
        "# set up ensemble retriever\n",
        "barbie_ensemble_retriever = EnsembleRetriever(\n",
        "    retrievers=[barbie_wikipedia_bm25_retriever, barbie_wikipedia_faiss_retriever],\n",
        "    weights=[0.25, 0.75]\n",
        ")"
      ]
    },
    {
      "cell_type": "markdown",
      "metadata": {
        "id": "BO_6EVMcWxlk"
      },
      "source": [
        "#### Retrieval Agent\n",
        "\n",
        "We can create a simple conversational retrieval Agent by using the built-ins provided by LangChain!\n",
        "\n",
        "> HINT: Be sure to provide good natural language descriptions of what the tool should be used for to get the best results.\n",
        "\n",
        "RELEVANT DOCS:\n",
        "- [`create_retriever_tool`](https://api.python.langchain.com/en/latest/agents/langchain.agents.agent_toolkits.conversational_retrieval.tool.create_retriever_tool.html#langchain.agents.agent_toolkits.conversational_retrieval.tool.create_retriever_tool)"
      ]
    },
    {
      "cell_type": "code",
      "execution_count": 13,
      "metadata": {
        "id": "3Qs0WpHUWxlk"
      },
      "outputs": [],
      "source": [
        "from langchain.agents.agent_toolkits import create_retriever_tool\n",
        "\n",
        "barbie_wikipedia_retrieval_tool = create_retriever_tool(\n",
        "    barbie_ensemble_retriever,\n",
        "    \"Wikipedia\",\n",
        "    \"Searches and returns information about the Barbie movie\"\n",
        ")\n",
        "\n",
        "barbie_csv_retrieval_tool = create_retriever_tool(\n",
        "    barbie_csv_faiss_retriever,\n",
        "    \"Reviews\",\n",
        "    \"Searches and returns reviews written about the Barbie movie\"\n",
        ")\n",
        "\n",
        "barbie_retriever_tools = [barbie_wikipedia_retrieval_tool, barbie_csv_retrieval_tool]"
      ]
    },
    {
      "cell_type": "markdown",
      "metadata": {
        "id": "p5x-w5sNWxlk"
      },
      "source": [
        "Now that we've created our tools, we can combined them into an agent!\n",
        "\n",
        "RELEVANT DOCS:\n",
        "- [`create_conversational_retrieval_agent`](https://api.python.langchain.com/en/latest/agents/langchain.agents.agent_toolkits.conversational_retrieval.openai_functions.create_conversational_retrieval_agent.html#langchain.agents.agent_toolkits.conversational_retrieval.openai_functions.create_conversational_retrieval_agent)"
      ]
    },
    {
      "cell_type": "code",
      "execution_count": 18,
      "metadata": {
        "id": "QIa4FNIVWxlk"
      },
      "outputs": [],
      "source": [
        "from langchain.agents.agent_toolkits import create_conversational_retrieval_agent\n",
        "\n",
        "barbie_retriever_agent_executor = create_conversational_retrieval_agent(llm, barbie_retriever_tools, verbose=True)"
      ]
    },
    {
      "cell_type": "code",
      "execution_count": 19,
      "metadata": {
        "colab": {
          "base_uri": "https://localhost:8080/"
        },
        "id": "A0puLTurWxlk",
        "outputId": "c822f367-efba-4eb2-ab77-7aba6c2dc369"
      },
      "outputs": [
        {
          "output_type": "stream",
          "name": "stdout",
          "text": [
            "\n",
            "\n",
            "\u001b[1m> Entering new AgentExecutor chain...\u001b[0m\n",
            "\u001b[32;1m\u001b[1;3m\n",
            "Invoking: `Reviews` with `Barbie movie`\n",
            "\n",
            "\n",
            "\u001b[0m\u001b[33;1m\u001b[1;3m[Document(page_content=\"Review: The big summer blockbuster of 2023 is a wonderful visual spectacle with a great deal of creative physical comedy, centered in and around the universe of Barbie, Mattel's historic toy doll. Unfortunately, the film tries to be and do much more than what the filmmakers ultimately are able to control and reel in. That a movie about Barbie would be guilty of Americanization is no surprise, and in many ways more than befitting, but the Americanization here isn't just about the history of the toy itself and all its cultural impacts - Barbie also views everything through the eyes of Hollywood anno 2023 - which arguably is a very particular and perhaps not that representative outlook. Instead of utilizing the fine foundation laid in the film's first third, director and co-writer Greta Gervig (Lady Bird, Little Women) gets herself lost in a trite, divisive and most likely futile battle of the sexes, which will leave youths - and perhaps particularly Europeans - feeling confused and\", metadata={'source': '/review/rw9199947/?ref_=tt_urv', 'row': 116}), Document(page_content=': 53\\nReview_Date: 29 July 2023\\nAuthor: planktonrules\\nRating: 6\\nReview_Title: Good...not great\\nReview: \"Barbie\" is a movie that is setting all sorts of records, so it\\'s obvious that the film is touching many people. For some, it\\'s the fun of seeing a doll come to life, for others it\\'s the theme of empowerment that make the movie a big hit. As for me, I did like it and thought it was a pretty good movie...but it\\'s not for everyone.\\nReview_Url: /review/rw9199947/?ref_=tt_urv', metadata={'source': '/review/rw9199947/?ref_=tt_urv', 'row': 53}), Document(page_content=': 97\\nReview_Date: 21 July 2023\\nAuthor: MrDHWong\\nRating: 9\\nReview_Title: A darkly satirical look at gender structure in society\\nReview: \"Barbie\" is a comedy film based on the line of fashion dolls by Mattel. Directed and co-written by Greta Gerwig (\"Lady Bird\", \"Little Women\") and starring Margot Robbie and Ryan Gosling, it takes every opportunity to revel in its amusing premise with a darkly satirical look at gender structure in society.\\nReview_Url: /review/rw9199947/?ref_=tt_urv', metadata={'source': '/review/rw9199947/?ref_=tt_urv', 'row': 97}), Document(page_content=\": 104\\nReview_Date: 22 July 2023\\nAuthor: No-Life-101\\nRating: 8\\nReview_Title: Barbie has an existential crisis\\nReview: Barbie is a really fun movie that all ages can enjoy because while it's colourful and entertaining the main storyline can get emotional at times. The comedy in the movie is pretty funny too and got a few laughs from everyone in the cinema, the music is really nice and so are the choreographed dances. What I liked the most about this movie is that it was very doll-like, the food and drink were plastic and fake, the cars didn't have engines and just glided along the floor, and the actors were doll-like in their movements and how they interacted with their environment.\\nReview_Url: /review/rw9199947/?ref_=tt_urv\", metadata={'source': '/review/rw9199947/?ref_=tt_urv', 'row': 104})]\u001b[0m\u001b[32;1m\u001b[1;3mBased on the reviews of the Barbie movie, opinions are mixed. Some people enjoyed the movie and found it entertaining, while others had some criticisms.\n",
            "\n",
            "One reviewer mentioned that the movie is a wonderful visual spectacle with creative physical comedy. However, they felt that the film tried to be and do more than what the filmmakers were able to control. They mentioned that the movie views everything through the eyes of Hollywood in 2023, which may not be representative for everyone. The reviewer also mentioned that the film gets lost in a trite and divisive battle of the sexes, which could leave some viewers feeling confused.\n",
            "\n",
            "Another reviewer rated the movie as good but not great. They mentioned that the film touched many people, with some enjoying the fun of seeing a doll come to life and others appreciating the theme of empowerment. However, they noted that the movie may not be for everyone.\n",
            "\n",
            "One reviewer praised the movie for its darkly satirical look at gender structure in society. They mentioned that the film takes every opportunity to revel in its amusing premise and provides a unique perspective on societal gender norms.\n",
            "\n",
            "Another reviewer enjoyed the movie and mentioned that it is fun and entertaining for all ages. They appreciated the doll-like elements in the movie, such as the plastic and fake food, the gliding cars, and the doll-like movements of the actors.\n",
            "\n",
            "Overall, it seems that the Barbie movie has a mix of entertainment, empowerment themes, and societal commentary. While some people enjoyed these aspects, others found the movie to be trying to do too much or not catering to everyone's tastes. It's important to note that these reviews represent individual opinions, and your own experience and interpretation of the movie may vary.\u001b[0m\n",
            "\n",
            "\u001b[1m> Finished chain.\u001b[0m\n"
          ]
        },
        {
          "output_type": "execute_result",
          "data": {
            "text/plain": [
              "{'input': 'Did people like Barbie, or did they find it too Philosphical? If they did, can you tell me why the movie is so Philosophical?',\n",
              " 'chat_history': [HumanMessage(content='Did people like Barbie, or did they find it too Philosphical? If they did, can you tell me why the movie is so Philosophical?', additional_kwargs={}, example=False),\n",
              "  AIMessage(content='', additional_kwargs={'function_call': {'name': 'Reviews', 'arguments': '{\\n  \"__arg1\": \"Barbie movie\"\\n}'}}, example=False),\n",
              "  FunctionMessage(content='[Document(page_content=\"Review: The big summer blockbuster of 2023 is a wonderful visual spectacle with a great deal of creative physical comedy, centered in and around the universe of Barbie, Mattel\\'s historic toy doll. Unfortunately, the film tries to be and do much more than what the filmmakers ultimately are able to control and reel in. That a movie about Barbie would be guilty of Americanization is no surprise, and in many ways more than befitting, but the Americanization here isn\\'t just about the history of the toy itself and all its cultural impacts - Barbie also views everything through the eyes of Hollywood anno 2023 - which arguably is a very particular and perhaps not that representative outlook. Instead of utilizing the fine foundation laid in the film\\'s first third, director and co-writer Greta Gervig (Lady Bird, Little Women) gets herself lost in a trite, divisive and most likely futile battle of the sexes, which will leave youths - and perhaps particularly Europeans - feeling confused and\", metadata={\\'source\\': \\'/review/rw9199947/?ref_=tt_urv\\', \\'row\\': 116}), Document(page_content=\\': 53\\\\nReview_Date: 29 July 2023\\\\nAuthor: planktonrules\\\\nRating: 6\\\\nReview_Title: Good...not great\\\\nReview: \"Barbie\" is a movie that is setting all sorts of records, so it\\\\\\'s obvious that the film is touching many people. For some, it\\\\\\'s the fun of seeing a doll come to life, for others it\\\\\\'s the theme of empowerment that make the movie a big hit. As for me, I did like it and thought it was a pretty good movie...but it\\\\\\'s not for everyone.\\\\nReview_Url: /review/rw9199947/?ref_=tt_urv\\', metadata={\\'source\\': \\'/review/rw9199947/?ref_=tt_urv\\', \\'row\\': 53}), Document(page_content=\\': 97\\\\nReview_Date: 21 July 2023\\\\nAuthor: MrDHWong\\\\nRating: 9\\\\nReview_Title: A darkly satirical look at gender structure in society\\\\nReview: \"Barbie\" is a comedy film based on the line of fashion dolls by Mattel. Directed and co-written by Greta Gerwig (\"Lady Bird\", \"Little Women\") and starring Margot Robbie and Ryan Gosling, it takes every opportunity to revel in its amusing premise with a darkly satirical look at gender structure in society.\\\\nReview_Url: /review/rw9199947/?ref_=tt_urv\\', metadata={\\'source\\': \\'/review/rw9199947/?ref_=tt_urv\\', \\'row\\': 97}), Document(page_content=\": 104\\\\nReview_Date: 22 July 2023\\\\nAuthor: No-Life-101\\\\nRating: 8\\\\nReview_Title: Barbie has an existential crisis\\\\nReview: Barbie is a really fun movie that all ages can enjoy because while it\\'s colourful and entertaining the main storyline can get emotional at times. The comedy in the movie is pretty funny too and got a few laughs from everyone in the cinema, the music is really nice and so are the choreographed dances. What I liked the most about this movie is that it was very doll-like, the food and drink were plastic and fake, the cars didn\\'t have engines and just glided along the floor, and the actors were doll-like in their movements and how they interacted with their environment.\\\\nReview_Url: /review/rw9199947/?ref_=tt_urv\", metadata={\\'source\\': \\'/review/rw9199947/?ref_=tt_urv\\', \\'row\\': 104})]', additional_kwargs={}, name='Reviews'),\n",
              "  AIMessage(content=\"Based on the reviews of the Barbie movie, opinions are mixed. Some people enjoyed the movie and found it entertaining, while others had some criticisms.\\n\\nOne reviewer mentioned that the movie is a wonderful visual spectacle with creative physical comedy. However, they felt that the film tried to be and do more than what the filmmakers were able to control. They mentioned that the movie views everything through the eyes of Hollywood in 2023, which may not be representative for everyone. The reviewer also mentioned that the film gets lost in a trite and divisive battle of the sexes, which could leave some viewers feeling confused.\\n\\nAnother reviewer rated the movie as good but not great. They mentioned that the film touched many people, with some enjoying the fun of seeing a doll come to life and others appreciating the theme of empowerment. However, they noted that the movie may not be for everyone.\\n\\nOne reviewer praised the movie for its darkly satirical look at gender structure in society. They mentioned that the film takes every opportunity to revel in its amusing premise and provides a unique perspective on societal gender norms.\\n\\nAnother reviewer enjoyed the movie and mentioned that it is fun and entertaining for all ages. They appreciated the doll-like elements in the movie, such as the plastic and fake food, the gliding cars, and the doll-like movements of the actors.\\n\\nOverall, it seems that the Barbie movie has a mix of entertainment, empowerment themes, and societal commentary. While some people enjoyed these aspects, others found the movie to be trying to do too much or not catering to everyone's tastes. It's important to note that these reviews represent individual opinions, and your own experience and interpretation of the movie may vary.\", additional_kwargs={}, example=False)],\n",
              " 'output': \"Based on the reviews of the Barbie movie, opinions are mixed. Some people enjoyed the movie and found it entertaining, while others had some criticisms.\\n\\nOne reviewer mentioned that the movie is a wonderful visual spectacle with creative physical comedy. However, they felt that the film tried to be and do more than what the filmmakers were able to control. They mentioned that the movie views everything through the eyes of Hollywood in 2023, which may not be representative for everyone. The reviewer also mentioned that the film gets lost in a trite and divisive battle of the sexes, which could leave some viewers feeling confused.\\n\\nAnother reviewer rated the movie as good but not great. They mentioned that the film touched many people, with some enjoying the fun of seeing a doll come to life and others appreciating the theme of empowerment. However, they noted that the movie may not be for everyone.\\n\\nOne reviewer praised the movie for its darkly satirical look at gender structure in society. They mentioned that the film takes every opportunity to revel in its amusing premise and provides a unique perspective on societal gender norms.\\n\\nAnother reviewer enjoyed the movie and mentioned that it is fun and entertaining for all ages. They appreciated the doll-like elements in the movie, such as the plastic and fake food, the gliding cars, and the doll-like movements of the actors.\\n\\nOverall, it seems that the Barbie movie has a mix of entertainment, empowerment themes, and societal commentary. While some people enjoyed these aspects, others found the movie to be trying to do too much or not catering to everyone's tastes. It's important to note that these reviews represent individual opinions, and your own experience and interpretation of the movie may vary.\",\n",
              " 'intermediate_steps': [(_FunctionsAgentAction(tool='Reviews', tool_input='Barbie movie', log='\\nInvoking: `Reviews` with `Barbie movie`\\n\\n\\n', message_log=[AIMessage(content='', additional_kwargs={'function_call': {'name': 'Reviews', 'arguments': '{\\n  \"__arg1\": \"Barbie movie\"\\n}'}}, example=False)]),\n",
              "   [Document(page_content=\"Review: The big summer blockbuster of 2023 is a wonderful visual spectacle with a great deal of creative physical comedy, centered in and around the universe of Barbie, Mattel's historic toy doll. Unfortunately, the film tries to be and do much more than what the filmmakers ultimately are able to control and reel in. That a movie about Barbie would be guilty of Americanization is no surprise, and in many ways more than befitting, but the Americanization here isn't just about the history of the toy itself and all its cultural impacts - Barbie also views everything through the eyes of Hollywood anno 2023 - which arguably is a very particular and perhaps not that representative outlook. Instead of utilizing the fine foundation laid in the film's first third, director and co-writer Greta Gervig (Lady Bird, Little Women) gets herself lost in a trite, divisive and most likely futile battle of the sexes, which will leave youths - and perhaps particularly Europeans - feeling confused and\", metadata={'source': '/review/rw9199947/?ref_=tt_urv', 'row': 116}),\n",
              "    Document(page_content=': 53\\nReview_Date: 29 July 2023\\nAuthor: planktonrules\\nRating: 6\\nReview_Title: Good...not great\\nReview: \"Barbie\" is a movie that is setting all sorts of records, so it\\'s obvious that the film is touching many people. For some, it\\'s the fun of seeing a doll come to life, for others it\\'s the theme of empowerment that make the movie a big hit. As for me, I did like it and thought it was a pretty good movie...but it\\'s not for everyone.\\nReview_Url: /review/rw9199947/?ref_=tt_urv', metadata={'source': '/review/rw9199947/?ref_=tt_urv', 'row': 53}),\n",
              "    Document(page_content=': 97\\nReview_Date: 21 July 2023\\nAuthor: MrDHWong\\nRating: 9\\nReview_Title: A darkly satirical look at gender structure in society\\nReview: \"Barbie\" is a comedy film based on the line of fashion dolls by Mattel. Directed and co-written by Greta Gerwig (\"Lady Bird\", \"Little Women\") and starring Margot Robbie and Ryan Gosling, it takes every opportunity to revel in its amusing premise with a darkly satirical look at gender structure in society.\\nReview_Url: /review/rw9199947/?ref_=tt_urv', metadata={'source': '/review/rw9199947/?ref_=tt_urv', 'row': 97}),\n",
              "    Document(page_content=\": 104\\nReview_Date: 22 July 2023\\nAuthor: No-Life-101\\nRating: 8\\nReview_Title: Barbie has an existential crisis\\nReview: Barbie is a really fun movie that all ages can enjoy because while it's colourful and entertaining the main storyline can get emotional at times. The comedy in the movie is pretty funny too and got a few laughs from everyone in the cinema, the music is really nice and so are the choreographed dances. What I liked the most about this movie is that it was very doll-like, the food and drink were plastic and fake, the cars didn't have engines and just glided along the floor, and the actors were doll-like in their movements and how they interacted with their environment.\\nReview_Url: /review/rw9199947/?ref_=tt_urv\", metadata={'source': '/review/rw9199947/?ref_=tt_urv', 'row': 104})])]}"
            ]
          },
          "metadata": {},
          "execution_count": 19
        }
      ],
      "source": [
        "barbie_retriever_agent_executor({\"input\" : \"Did people like Barbie, or did they find it too Philosphical? If they did, can you tell me why the movie is so Philosophical?\"})"
      ]
    },
    {
      "cell_type": "code",
      "execution_count": 20,
      "metadata": {
        "colab": {
          "base_uri": "https://localhost:8080/"
        },
        "id": "GqGFQ4WNWxll",
        "outputId": "89312eba-d747-41cd-8050-9faf465b89e6"
      },
      "outputs": [
        {
          "output_type": "stream",
          "name": "stdout",
          "text": [
            "\n",
            "\n",
            "\u001b[1m> Entering new AgentExecutor chain...\u001b[0m\n",
            "\u001b[32;1m\u001b[1;3m\n",
            "Invoking: `Wikipedia` with `Barbie movie`\n",
            "\n",
            "\n",
            "\u001b[0m\u001b[36;1m\u001b[1;3m[Document(page_content='Barbie is a 2023 American fantasy comedy film directed by Greta Gerwig from a screenplay she wrote with Noah Baumbach. Based on the Barbie fashion dolls by Mattel, it is the first live-action Barbie film after numerous computer-animated films and specials. The film follows Barbie (Margot Robbie) and Ken (Ryan Gosling) on a journey of self-discovery following an existential crisis. It features an ensemble supporting cast, including America Ferrera, Kate McKinnon, Helen Mirren, Issa Rae, Simu Liu,', metadata={'title': 'Barbie (film)', 'summary': 'Barbie is a 2023 American fantasy comedy film directed by Greta Gerwig from a screenplay she wrote with Noah Baumbach. Based on the Barbie fashion dolls by Mattel, it is the first live-action Barbie film after numerous computer-animated films and specials. The film follows Barbie (Margot Robbie) and Ken (Ryan Gosling) on a journey of self-discovery following an existential crisis. It features an ensemble supporting cast, including America Ferrera, Kate McKinnon, Helen Mirren, Issa Rae, Simu Liu, Michael Cera, Rhea Perlman, and Will Ferrell.\\nA live-action Barbie film was announced in September 2009 by Universal Pictures with Laurence Mark producing. Development began in April 2014, when Sony Pictures acquired the film rights. Following multiple writer and director changes and the casting of Amy Schumer and later Anne Hathaway as Barbie, the rights were transferred to Warner Bros. Pictures in October 2018. Robbie was cast in 2019, after Gal Gadot turned down the role due to scheduling conflicts, and Gerwig was announced as director and co-writer with Baumbach in 2020. The rest of the cast were announced in early 2022. Filming took place primarily at Warner Bros. Studios, Leavesden, in England and on the Venice Beach Skatepark in Los Angeles from March to July 2022.\\nBarbie premiered at the Shrine Auditorium in Los Angeles on July 9, 2023, and was theatrically released in the United States on July 21 by Warner Bros. Pictures. Its simultaneous release with Universal\\'s Oppenheimer led to the \"Barbenheimer\" cultural phenomenon, which encouraged audiences to see both films as a double feature. The film received critical acclaim and has grossed $1.28 billion worldwide, becoming the second highest-grossing film of 2023, as well as the highest-grossing film directed solely by a woman and the 21st highest-grossing film of all-time.\\n\\n', 'source': 'https://en.wikipedia.org/wiki/Barbie_(film)'}), Document(page_content='fictional Barbieland. While many reviews of the film interpreted this as a critique of the song, director Greta Gerwig said that she was a fan of Matchbox Twenty and \"I never put anything in a movie I don’t love.\"', metadata={'title': 'Barbie (film)', 'summary': 'Barbie is a 2023 American fantasy comedy film directed by Greta Gerwig from a screenplay she wrote with Noah Baumbach. Based on the Barbie fashion dolls by Mattel, it is the first live-action Barbie film after numerous computer-animated films and specials. The film follows Barbie (Margot Robbie) and Ken (Ryan Gosling) on a journey of self-discovery following an existential crisis. It features an ensemble supporting cast, including America Ferrera, Kate McKinnon, Helen Mirren, Issa Rae, Simu Liu, Michael Cera, Rhea Perlman, and Will Ferrell.\\nA live-action Barbie film was announced in September 2009 by Universal Pictures with Laurence Mark producing. Development began in April 2014, when Sony Pictures acquired the film rights. Following multiple writer and director changes and the casting of Amy Schumer and later Anne Hathaway as Barbie, the rights were transferred to Warner Bros. Pictures in October 2018. Robbie was cast in 2019, after Gal Gadot turned down the role due to scheduling conflicts, and Gerwig was announced as director and co-writer with Baumbach in 2020. The rest of the cast were announced in early 2022. Filming took place primarily at Warner Bros. Studios, Leavesden, in England and on the Venice Beach Skatepark in Los Angeles from March to July 2022.\\nBarbie premiered at the Shrine Auditorium in Los Angeles on July 9, 2023, and was theatrically released in the United States on July 21 by Warner Bros. Pictures. Its simultaneous release with Universal\\'s Oppenheimer led to the \"Barbenheimer\" cultural phenomenon, which encouraged audiences to see both films as a double feature. The film received critical acclaim and has grossed $1.28 billion worldwide, becoming the second highest-grossing film of 2023, as well as the highest-grossing film directed solely by a woman and the 21st highest-grossing film of all-time.\\n\\n', 'source': 'https://en.wikipedia.org/wiki/Barbie_(film)'})]\u001b[0m\u001b[32;1m\u001b[1;3mThe Barbie movie is a 2023 American fantasy comedy film directed by Greta Gerwig. It is the first live-action Barbie film based on the Barbie fashion dolls by Mattel. The film follows Barbie (played by Margot Robbie) and Ken (played by Ryan Gosling) on a journey of self-discovery following an existential crisis. The movie features an ensemble supporting cast, including America Ferrera, Kate McKinnon, Helen Mirren, Issa Rae, Simu Liu, Michael Cera, Rhea Perlman, and Will Ferrell. The film received critical acclaim and has become one of the highest-grossing films of 2023.\u001b[0m\n",
            "\n",
            "\u001b[1m> Finished chain.\u001b[0m\n"
          ]
        },
        {
          "output_type": "execute_result",
          "data": {
            "text/plain": [
              "{'input': 'What is a very quick summary of the plot of the Barbie movie?',\n",
              " 'chat_history': [AIMessage(content=\"Based on the reviews of the Barbie movie, opinions are mixed. Some people enjoyed the movie and found it entertaining, while others had some criticisms.\\n\\nOne reviewer mentioned that the movie is a wonderful visual spectacle with creative physical comedy. However, they felt that the film tried to be and do more than what the filmmakers were able to control. They mentioned that the movie views everything through the eyes of Hollywood in 2023, which may not be representative for everyone. The reviewer also mentioned that the film gets lost in a trite and divisive battle of the sexes, which could leave some viewers feeling confused.\\n\\nAnother reviewer rated the movie as good but not great. They mentioned that the film touched many people, with some enjoying the fun of seeing a doll come to life and others appreciating the theme of empowerment. However, they noted that the movie may not be for everyone.\\n\\nOne reviewer praised the movie for its darkly satirical look at gender structure in society. They mentioned that the film takes every opportunity to revel in its amusing premise and provides a unique perspective on societal gender norms.\\n\\nAnother reviewer enjoyed the movie and mentioned that it is fun and entertaining for all ages. They appreciated the doll-like elements in the movie, such as the plastic and fake food, the gliding cars, and the doll-like movements of the actors.\\n\\nOverall, it seems that the Barbie movie has a mix of entertainment, empowerment themes, and societal commentary. While some people enjoyed these aspects, others found the movie to be trying to do too much or not catering to everyone's tastes. It's important to note that these reviews represent individual opinions, and your own experience and interpretation of the movie may vary.\", additional_kwargs={}, example=False),\n",
              "  HumanMessage(content='What is a very quick summary of the plot of the Barbie movie?', additional_kwargs={}, example=False),\n",
              "  AIMessage(content='', additional_kwargs={'function_call': {'name': 'Wikipedia', 'arguments': '{\\n  \"__arg1\": \"Barbie movie\"\\n}'}}, example=False),\n",
              "  FunctionMessage(content='[Document(page_content=\\'Barbie is a 2023 American fantasy comedy film directed by Greta Gerwig from a screenplay she wrote with Noah Baumbach. Based on the Barbie fashion dolls by Mattel, it is the first live-action Barbie film after numerous computer-animated films and specials. The film follows Barbie (Margot Robbie) and Ken (Ryan Gosling) on a journey of self-discovery following an existential crisis. It features an ensemble supporting cast, including America Ferrera, Kate McKinnon, Helen Mirren, Issa Rae, Simu Liu,\\', metadata={\\'title\\': \\'Barbie (film)\\', \\'summary\\': \\'Barbie is a 2023 American fantasy comedy film directed by Greta Gerwig from a screenplay she wrote with Noah Baumbach. Based on the Barbie fashion dolls by Mattel, it is the first live-action Barbie film after numerous computer-animated films and specials. The film follows Barbie (Margot Robbie) and Ken (Ryan Gosling) on a journey of self-discovery following an existential crisis. It features an ensemble supporting cast, including America Ferrera, Kate McKinnon, Helen Mirren, Issa Rae, Simu Liu, Michael Cera, Rhea Perlman, and Will Ferrell.\\\\nA live-action Barbie film was announced in September 2009 by Universal Pictures with Laurence Mark producing. Development began in April 2014, when Sony Pictures acquired the film rights. Following multiple writer and director changes and the casting of Amy Schumer and later Anne Hathaway as Barbie, the rights were transferred to Warner Bros. Pictures in October 2018. Robbie was cast in 2019, after Gal Gadot turned down the role due to scheduling conflicts, and Gerwig was announced as director and co-writer with Baumbach in 2020. The rest of the cast were announced in early 2022. Filming took place primarily at Warner Bros. Studios, Leavesden, in England and on the Venice Beach Skatepark in Los Angeles from March to July 2022.\\\\nBarbie premiered at the Shrine Auditorium in Los Angeles on July 9, 2023, and was theatrically released in the United States on July 21 by Warner Bros. Pictures. Its simultaneous release with Universal\\\\\\'s Oppenheimer led to the \"Barbenheimer\" cultural phenomenon, which encouraged audiences to see both films as a double feature. The film received critical acclaim and has grossed $1.28 billion worldwide, becoming the second highest-grossing film of 2023, as well as the highest-grossing film directed solely by a woman and the 21st highest-grossing film of all-time.\\\\n\\\\n\\', \\'source\\': \\'https://en.wikipedia.org/wiki/Barbie_(film)\\'}), Document(page_content=\\'fictional Barbieland. While many reviews of the film interpreted this as a critique of the song, director Greta Gerwig said that she was a fan of Matchbox Twenty and \"I never put anything in a movie I don’t love.\"\\', metadata={\\'title\\': \\'Barbie (film)\\', \\'summary\\': \\'Barbie is a 2023 American fantasy comedy film directed by Greta Gerwig from a screenplay she wrote with Noah Baumbach. Based on the Barbie fashion dolls by Mattel, it is the first live-action Barbie film after numerous computer-animated films and specials. The film follows Barbie (Margot Robbie) and Ken (Ryan Gosling) on a journey of self-discovery following an existential crisis. It features an ensemble supporting cast, including America Ferrera, Kate McKinnon, Helen Mirren, Issa Rae, Simu Liu, Michael Cera, Rhea Perlman, and Will Ferrell.\\\\nA live-action Barbie film was announced in September 2009 by Universal Pictures with Laurence Mark producing. Development began in April 2014, when Sony Pictures acquired the film rights. Following multiple writer and director changes and the casting of Amy Schumer and later Anne Hathaway as Barbie, the rights were transferred to Warner Bros. Pictures in October 2018. Robbie was cast in 2019, after Gal Gadot turned down the role due to scheduling conflicts, and Gerwig was announced as director and co-writer with Baumbach in 2020. The rest of the cast were announced in early 2022. Filming took place primarily at Warner Bros. Studios, Leavesden, in England and on the Venice Beach Skatepark in Los Angeles from March to July 2022.\\\\nBarbie premiered at the Shrine Auditorium in Los Angeles on July 9, 2023, and was theatrically released in the United States on July 21 by Warner Bros. Pictures. Its simultaneous release with Universal\\\\\\'s Oppenheimer led to the \"Barbenheimer\" cultural phenomenon, which encouraged audiences to see both films as a double feature. The film received critical acclaim and has grossed $1.28 billion worldwide, becoming the second highest-grossing film of 2023, as well as the highest-grossing film directed solely by a woman and the 21st highest-grossing film of all-time.\\\\n\\\\n\\', \\'source\\': \\'https://en.wikipedia.org/wiki/Barbie_(film)\\'})]', additional_kwargs={}, name='Wikipedia'),\n",
              "  AIMessage(content='The Barbie movie is a 2023 American fantasy comedy film directed by Greta Gerwig. It is the first live-action Barbie film based on the Barbie fashion dolls by Mattel. The film follows Barbie (played by Margot Robbie) and Ken (played by Ryan Gosling) on a journey of self-discovery following an existential crisis. The movie features an ensemble supporting cast, including America Ferrera, Kate McKinnon, Helen Mirren, Issa Rae, Simu Liu, Michael Cera, Rhea Perlman, and Will Ferrell. The film received critical acclaim and has become one of the highest-grossing films of 2023.', additional_kwargs={}, example=False)],\n",
              " 'output': 'The Barbie movie is a 2023 American fantasy comedy film directed by Greta Gerwig. It is the first live-action Barbie film based on the Barbie fashion dolls by Mattel. The film follows Barbie (played by Margot Robbie) and Ken (played by Ryan Gosling) on a journey of self-discovery following an existential crisis. The movie features an ensemble supporting cast, including America Ferrera, Kate McKinnon, Helen Mirren, Issa Rae, Simu Liu, Michael Cera, Rhea Perlman, and Will Ferrell. The film received critical acclaim and has become one of the highest-grossing films of 2023.',\n",
              " 'intermediate_steps': [(_FunctionsAgentAction(tool='Wikipedia', tool_input='Barbie movie', log='\\nInvoking: `Wikipedia` with `Barbie movie`\\n\\n\\n', message_log=[AIMessage(content='', additional_kwargs={'function_call': {'name': 'Wikipedia', 'arguments': '{\\n  \"__arg1\": \"Barbie movie\"\\n}'}}, example=False)]),\n",
              "   [Document(page_content='Barbie is a 2023 American fantasy comedy film directed by Greta Gerwig from a screenplay she wrote with Noah Baumbach. Based on the Barbie fashion dolls by Mattel, it is the first live-action Barbie film after numerous computer-animated films and specials. The film follows Barbie (Margot Robbie) and Ken (Ryan Gosling) on a journey of self-discovery following an existential crisis. It features an ensemble supporting cast, including America Ferrera, Kate McKinnon, Helen Mirren, Issa Rae, Simu Liu,', metadata={'title': 'Barbie (film)', 'summary': 'Barbie is a 2023 American fantasy comedy film directed by Greta Gerwig from a screenplay she wrote with Noah Baumbach. Based on the Barbie fashion dolls by Mattel, it is the first live-action Barbie film after numerous computer-animated films and specials. The film follows Barbie (Margot Robbie) and Ken (Ryan Gosling) on a journey of self-discovery following an existential crisis. It features an ensemble supporting cast, including America Ferrera, Kate McKinnon, Helen Mirren, Issa Rae, Simu Liu, Michael Cera, Rhea Perlman, and Will Ferrell.\\nA live-action Barbie film was announced in September 2009 by Universal Pictures with Laurence Mark producing. Development began in April 2014, when Sony Pictures acquired the film rights. Following multiple writer and director changes and the casting of Amy Schumer and later Anne Hathaway as Barbie, the rights were transferred to Warner Bros. Pictures in October 2018. Robbie was cast in 2019, after Gal Gadot turned down the role due to scheduling conflicts, and Gerwig was announced as director and co-writer with Baumbach in 2020. The rest of the cast were announced in early 2022. Filming took place primarily at Warner Bros. Studios, Leavesden, in England and on the Venice Beach Skatepark in Los Angeles from March to July 2022.\\nBarbie premiered at the Shrine Auditorium in Los Angeles on July 9, 2023, and was theatrically released in the United States on July 21 by Warner Bros. Pictures. Its simultaneous release with Universal\\'s Oppenheimer led to the \"Barbenheimer\" cultural phenomenon, which encouraged audiences to see both films as a double feature. The film received critical acclaim and has grossed $1.28 billion worldwide, becoming the second highest-grossing film of 2023, as well as the highest-grossing film directed solely by a woman and the 21st highest-grossing film of all-time.\\n\\n', 'source': 'https://en.wikipedia.org/wiki/Barbie_(film)'}),\n",
              "    Document(page_content='fictional Barbieland. While many reviews of the film interpreted this as a critique of the song, director Greta Gerwig said that she was a fan of Matchbox Twenty and \"I never put anything in a movie I don’t love.\"', metadata={'title': 'Barbie (film)', 'summary': 'Barbie is a 2023 American fantasy comedy film directed by Greta Gerwig from a screenplay she wrote with Noah Baumbach. Based on the Barbie fashion dolls by Mattel, it is the first live-action Barbie film after numerous computer-animated films and specials. The film follows Barbie (Margot Robbie) and Ken (Ryan Gosling) on a journey of self-discovery following an existential crisis. It features an ensemble supporting cast, including America Ferrera, Kate McKinnon, Helen Mirren, Issa Rae, Simu Liu, Michael Cera, Rhea Perlman, and Will Ferrell.\\nA live-action Barbie film was announced in September 2009 by Universal Pictures with Laurence Mark producing. Development began in April 2014, when Sony Pictures acquired the film rights. Following multiple writer and director changes and the casting of Amy Schumer and later Anne Hathaway as Barbie, the rights were transferred to Warner Bros. Pictures in October 2018. Robbie was cast in 2019, after Gal Gadot turned down the role due to scheduling conflicts, and Gerwig was announced as director and co-writer with Baumbach in 2020. The rest of the cast were announced in early 2022. Filming took place primarily at Warner Bros. Studios, Leavesden, in England and on the Venice Beach Skatepark in Los Angeles from March to July 2022.\\nBarbie premiered at the Shrine Auditorium in Los Angeles on July 9, 2023, and was theatrically released in the United States on July 21 by Warner Bros. Pictures. Its simultaneous release with Universal\\'s Oppenheimer led to the \"Barbenheimer\" cultural phenomenon, which encouraged audiences to see both films as a double feature. The film received critical acclaim and has grossed $1.28 billion worldwide, becoming the second highest-grossing film of 2023, as well as the highest-grossing film directed solely by a woman and the 21st highest-grossing film of all-time.\\n\\n', 'source': 'https://en.wikipedia.org/wiki/Barbie_(film)'})])]}"
            ]
          },
          "metadata": {},
          "execution_count": 20
        }
      ],
      "source": [
        "barbie_retriever_agent_executor({\"input\" : \"What is a very quick summary of the plot of the Barbie movie?\"})"
      ]
    },
    {
      "cell_type": "markdown",
      "metadata": {
        "id": "IxWWnsZTWxll"
      },
      "source": [
        "### Oppenheimer Retrieval System\n",
        "\n",
        "We're going to repourpose some of what we created previously, but this time we'll explore a different multi-source retrieval system."
      ]
    },
    {
      "cell_type": "code",
      "execution_count": 21,
      "metadata": {
        "id": "JDPbhfHcWxll"
      },
      "outputs": [],
      "source": [
        "oppenheimer_wikipedia_docs = WikipediaLoader(query=\"Oppenheimer (film)\", load_max_docs=1, doc_content_chars_max=1_000_000).load()\n",
        "oppenheimer_csv_docs = CSVLoader(file_path=\"./oppenheimer.csv\", source_column=\"Review_Url\").load()"
      ]
    },
    {
      "cell_type": "code",
      "execution_count": 22,
      "metadata": {
        "id": "NccFUWs0Wxll"
      },
      "outputs": [],
      "source": [
        "chunked_opp_wikipedia_docs = wikipedia_text_splitter.transform_documents(oppenheimer_wikipedia_docs)\n",
        "chunked_opp_csv_docs = csv_text_splitter.transform_documents(oppenheimer_csv_docs)"
      ]
    },
    {
      "cell_type": "code",
      "execution_count": 23,
      "metadata": {
        "id": "4ZPslrxbWxll"
      },
      "outputs": [],
      "source": [
        "opp_csv_faiss_retriever = FAISS.from_documents(chunked_opp_csv_docs, embedder).as_retriever()\n",
        "\n",
        "# set up BM25 retriever\n",
        "opp_wikipedia_bm25_retriever = BM25Retriever.from_documents(\n",
        "    chunked_opp_wikipedia_docs\n",
        ")\n",
        "opp_wikipedia_bm25_retriever.k = 1\n",
        "\n",
        "# set up FAISS vector store\n",
        "opp_wikipedia_faiss_store = FAISS.from_documents(\n",
        "    chunked_opp_wikipedia_docs, embedder\n",
        ")\n",
        "opp_wikipedia_faiss_retriever = opp_wikipedia_faiss_store.as_retriever(search_kwargs={\"k\": 1})\n",
        "\n",
        "# set up ensemble retriever\n",
        "opp_ensemble_retriever = opp_ensemble_retriever = EnsembleRetriever(\n",
        "    retrievers=[opp_wikipedia_bm25_retriever, opp_wikipedia_faiss_retriever],\n",
        "    weights=[0.25, 0.75] # should sum to 1\n",
        ")"
      ]
    },
    {
      "cell_type": "markdown",
      "metadata": {
        "id": "xluYiVS-Wxll"
      },
      "source": [
        "#### Multi-source chain\n",
        "\n",
        "We're going to allow the LLM to decide which information is most -> least valuable.\n",
        "\n",
        "The way we'll do this is with LangChain's rather powerful \"Expression Language\"!\n",
        "\n",
        "> HINT: You can leverage [this](https://python.langchain.com/docs/use_cases/question_answering/how_to/multiple_retrieval) resource if you get stuck - but experiment with different prompts/formats."
      ]
    },
    {
      "cell_type": "code",
      "execution_count": 24,
      "metadata": {
        "id": "WAFFY8hBWxll"
      },
      "outputs": [],
      "source": [
        "from langchain.prompts import ChatPromptTemplate\n",
        "\n",
        "system_message = \"\"\"Use the information from the below two sources to answer any questions.\n",
        "\n",
        "Source 1: public user reviews about the Oppenheimer movie\n",
        "<source1>\n",
        "{source1}\n",
        "</source1>\n",
        "\n",
        "Source 2: the wikipedia page for the Oppenheimer movie including the plot summary, cast, and production information\n",
        "<source2>\n",
        "{source2}\n",
        "</source2>\n",
        "\"\"\"\n",
        "\n",
        "prompt = ChatPromptTemplate.from_messages([(\"system\", system_message), (\"human\", \"{question}\")])"
      ]
    },
    {
      "cell_type": "code",
      "execution_count": 25,
      "metadata": {
        "id": "kd4nA8WOWxll"
      },
      "outputs": [],
      "source": [
        "oppenheimer_multisource_chain = {\n",
        "    \"source1\": (lambda x: x[\"question\"]) | opp_ensemble_retriever,\n",
        "    \"source2\": (lambda x: x[\"question\"]) | opp_csv_faiss_retriever,\n",
        "    \"question\": lambda x: x[\"question\"],\n",
        "} | prompt | llm"
      ]
    },
    {
      "cell_type": "code",
      "execution_count": 26,
      "metadata": {
        "colab": {
          "base_uri": "https://localhost:8080/"
        },
        "id": "9bFzeFeRWxll",
        "outputId": "728d14db-bcdc-472e-f191-3bc9099fa8f3"
      },
      "outputs": [
        {
          "output_type": "execute_result",
          "data": {
            "text/plain": [
              "AIMessage(content=\"People generally thought highly of the Oppenheimer movie. Critics praised the screenplay, performances of the cast (especially Cillian Murphy and Robert Downey Jr.), and the visuals. It was frequently cited as one of the best films of 2023. On the review aggregator website Rotten Tomatoes, 93% of 451 critics' reviews were positive, with an average rating of 8.6/10. The movie received critical acclaim, with particular praise for the cast performances, screenplay, and visuals. Some criticism was aimed towards the writing of the female characters. Overall, audiences found the movie compelling, engaging, and simple to understand.\", additional_kwargs={}, example=False)"
            ]
          },
          "metadata": {},
          "execution_count": 26
        }
      ],
      "source": [
        "oppenheimer_multisource_chain.invoke({\"question\" : \"What did people think of the Oppenheimer movie?\"})"
      ]
    },
    {
      "cell_type": "markdown",
      "metadata": {
        "id": "Ax8wmoTrWxlm"
      },
      "source": [
        "# Agent Creation\n",
        "\n",
        "Now we can finally start building our Agent!\n",
        "\n",
        "The first thing we'll need to do is provide our Agent a Toolbelt. (list of tools). Much like Batman, our LLM-powered Agent can use these tools as it sees fit.\n",
        "\n",
        "While the examples we're constructing in this notebook are straightforward for brevity and simplicities sake - there is no limit to what you can build with Agents, as we'll see as we progress through the program.\n",
        "\n",
        "So, let's begin by setting up our Tools!\n",
        "\n",
        "You'll notice that we have to set up a function to allow our `OppenheimerInfo` tool to interface with the Agent - this is due to it have a specific required input. Creating custom tools is a pattern that you'll want to grow acustomed to as you use LangChain more and more."
      ]
    },
    {
      "cell_type": "code",
      "execution_count": 29,
      "metadata": {
        "id": "IipMIEKZWxlm"
      },
      "outputs": [],
      "source": [
        "from langchain.agents import Tool\n",
        "\n",
        "def query_oppenheimer(input):\n",
        "    return oppenheimer_multisource_chain.invoke({\"question\" : input})\n",
        "\n",
        "tools = [\n",
        "    Tool(\n",
        "        name = \"BarbieTool\",\n",
        "        func=barbie_retriever_agent_executor.invoke,\n",
        "        description=\"Used for answering questions about the film Barbie.\"\n",
        "    ),\n",
        "    Tool(\n",
        "        name = \"OppenheimerTool\",\n",
        "        func=query_oppenheimer,\n",
        "        description=\"Used for answering questions about the film Oppenheimer.\"\n",
        "    ),\n",
        "]"
      ]
    },
    {
      "cell_type": "markdown",
      "metadata": {
        "id": "aeqO4J9GWxlm"
      },
      "source": [
        "Now that we've set up our Agents toolbelt, let's set up the LLM that will be powering it!\n",
        "\n",
        "I would suggest playing around with these prompts - and experiments to find what works best for you.\n",
        "\n",
        "RELEVANT DOCS:\n",
        "- [`ZeroShotAgent`](https://api.python.langchain.com/en/latest/agents/langchain.agents.mrkl.base.ZeroShotAgent.html#langchain-agents-mrkl-base-zeroshotagent)"
      ]
    },
    {
      "cell_type": "code",
      "execution_count": 30,
      "metadata": {
        "id": "JoMmg-37Wxlm"
      },
      "outputs": [],
      "source": [
        "from langchain.agents import ZeroShotAgent, AgentExecutor\n",
        "\n",
        "prefix = \"\"\"Have a conversation with a human, answering the following questions as best you can. You have access to the following tools:\"\"\"\n",
        "suffix = \"\"\"Begin!\"\n",
        "\n",
        "Question: {input}\n",
        "{agent_scratchpad}\"\"\"\n",
        "\n",
        "prompt = ZeroShotAgent.create_prompt(\n",
        "    tools,\n",
        "    prefix=prefix,\n",
        "    suffix=suffix,\n",
        "    input_variables=[\"input\", \"agent_scratchpad\"]\n",
        ")"
      ]
    },
    {
      "cell_type": "code",
      "execution_count": 31,
      "metadata": {
        "id": "67Wt6QctWxlm"
      },
      "outputs": [],
      "source": [
        "from langchain import LLMChain\n",
        "\n",
        "llm_chain = LLMChain(llm=llm, prompt=prompt)"
      ]
    },
    {
      "cell_type": "markdown",
      "metadata": {
        "id": "QJ_d-13NWxlm"
      },
      "source": [
        "All that's left to do now is create our `ZeroShotAgent` and our `AgentExecutor`, which are the \"reasoner\" and \"actor\" halfs of the `ReAct` method of Agent implementation.\n",
        "\n",
        "Read all about the `ReAct` framework [here](https://react-lm.github.io/)"
      ]
    },
    {
      "cell_type": "code",
      "execution_count": 32,
      "metadata": {
        "id": "oO2_7Cj3Wxlm"
      },
      "outputs": [],
      "source": [
        "barbenheimer_agent = ZeroShotAgent(llm_chain=llm_chain, tools=tools, verbose=True)\n",
        "\n",
        "barbenheimer_agent_chain = AgentExecutor.from_agent_and_tools(agent=barbenheimer_agent, tools=tools, verbose=True)"
      ]
    },
    {
      "cell_type": "markdown",
      "metadata": {
        "id": "9SMmNMHnWxln"
      },
      "source": [
        "## Conclusion\n",
        "\n",
        "All that is left to do now, is feed inputs to your Agent and watch it work!\n",
        "\n",
        "Remember to use the `{\"input\" : \"YOUR QUERY HERE\"}` format when prompting the Agent."
      ]
    },
    {
      "cell_type": "code",
      "execution_count": 33,
      "metadata": {
        "colab": {
          "base_uri": "https://localhost:8080/"
        },
        "id": "tbDQLyUKWxln",
        "outputId": "e5785d80-4825-4ec5-cd49-09b51aaff685"
      },
      "outputs": [
        {
          "output_type": "stream",
          "name": "stdout",
          "text": [
            "\n",
            "\n",
            "\u001b[1m> Entering new AgentExecutor chain...\u001b[0m\n",
            "\u001b[32;1m\u001b[1;3mThought: I need to find out what people liked about the Barbie movie.\n",
            "Action: BarbieTool\n",
            "Action Input: \"What did people like about the Barbie movie?\"\u001b[0m\n",
            "\n",
            "\u001b[1m> Entering new AgentExecutor chain...\u001b[0m\n",
            "\u001b[32;1m\u001b[1;3mPeople who enjoyed the Barbie movie appreciated various aspects of it. Here are some things that people liked about the movie:\n",
            "\n",
            "1. Visual Spectacle: One reviewer mentioned that the movie is a wonderful visual spectacle. It likely includes visually stunning scenes and creative physical comedy.\n",
            "\n",
            "2. Fun and Entertainment: Another reviewer mentioned that the movie is fun and entertaining for all ages. This suggests that the movie provides an enjoyable and engaging experience.\n",
            "\n",
            "3. Doll-Like Elements: Some viewers appreciated the doll-like elements in the movie, such as the plastic and fake food, the gliding cars, and the doll-like movements of the actors. These elements may have added a unique and whimsical touch to the film.\n",
            "\n",
            "4. Empowerment Themes: The movie seemed to touch many people, with some appreciating the theme of empowerment. It likely portrays Barbie and other characters as strong and capable individuals, inspiring viewers.\n",
            "\n",
            "5. Unique Perspective on Gender Norms: One reviewer praised the movie for its darkly satirical look at gender structure in society. This suggests that the film provides a unique perspective on societal gender norms, which may have resonated with some viewers.\n",
            "\n",
            "It's important to note that these are individual opinions, and your own experience and interpretation of the movie may vary.\u001b[0m\n",
            "\n",
            "\u001b[1m> Finished chain.\u001b[0m\n",
            "\n",
            "Observation: \u001b[36;1m\u001b[1;3m{'input': 'What did people like about the Barbie movie?', 'chat_history': [AIMessage(content=\"Based on the reviews of the Barbie movie, opinions are mixed. Some people enjoyed the movie and found it entertaining, while others had some criticisms.\\n\\nOne reviewer mentioned that the movie is a wonderful visual spectacle with creative physical comedy. However, they felt that the film tried to be and do more than what the filmmakers were able to control. They mentioned that the movie views everything through the eyes of Hollywood in 2023, which may not be representative for everyone. The reviewer also mentioned that the film gets lost in a trite and divisive battle of the sexes, which could leave some viewers feeling confused.\\n\\nAnother reviewer rated the movie as good but not great. They mentioned that the film touched many people, with some enjoying the fun of seeing a doll come to life and others appreciating the theme of empowerment. However, they noted that the movie may not be for everyone.\\n\\nOne reviewer praised the movie for its darkly satirical look at gender structure in society. They mentioned that the film takes every opportunity to revel in its amusing premise and provides a unique perspective on societal gender norms.\\n\\nAnother reviewer enjoyed the movie and mentioned that it is fun and entertaining for all ages. They appreciated the doll-like elements in the movie, such as the plastic and fake food, the gliding cars, and the doll-like movements of the actors.\\n\\nOverall, it seems that the Barbie movie has a mix of entertainment, empowerment themes, and societal commentary. While some people enjoyed these aspects, others found the movie to be trying to do too much or not catering to everyone's tastes. It's important to note that these reviews represent individual opinions, and your own experience and interpretation of the movie may vary.\", additional_kwargs={}, example=False), HumanMessage(content='What is a very quick summary of the plot of the Barbie movie?', additional_kwargs={}, example=False), AIMessage(content='', additional_kwargs={'function_call': {'name': 'Wikipedia', 'arguments': '{\\n  \"__arg1\": \"Barbie movie\"\\n}'}}, example=False), FunctionMessage(content='[Document(page_content=\\'Barbie is a 2023 American fantasy comedy film directed by Greta Gerwig from a screenplay she wrote with Noah Baumbach. Based on the Barbie fashion dolls by Mattel, it is the first live-action Barbie film after numerous computer-animated films and specials. The film follows Barbie (Margot Robbie) and Ken (Ryan Gosling) on a journey of self-discovery following an existential crisis. It features an ensemble supporting cast, including America Ferrera, Kate McKinnon, Helen Mirren, Issa Rae, Simu Liu,\\', metadata={\\'title\\': \\'Barbie (film)\\', \\'summary\\': \\'Barbie is a 2023 American fantasy comedy film directed by Greta Gerwig from a screenplay she wrote with Noah Baumbach. Based on the Barbie fashion dolls by Mattel, it is the first live-action Barbie film after numerous computer-animated films and specials. The film follows Barbie (Margot Robbie) and Ken (Ryan Gosling) on a journey of self-discovery following an existential crisis. It features an ensemble supporting cast, including America Ferrera, Kate McKinnon, Helen Mirren, Issa Rae, Simu Liu, Michael Cera, Rhea Perlman, and Will Ferrell.\\\\nA live-action Barbie film was announced in September 2009 by Universal Pictures with Laurence Mark producing. Development began in April 2014, when Sony Pictures acquired the film rights. Following multiple writer and director changes and the casting of Amy Schumer and later Anne Hathaway as Barbie, the rights were transferred to Warner Bros. Pictures in October 2018. Robbie was cast in 2019, after Gal Gadot turned down the role due to scheduling conflicts, and Gerwig was announced as director and co-writer with Baumbach in 2020. The rest of the cast were announced in early 2022. Filming took place primarily at Warner Bros. Studios, Leavesden, in England and on the Venice Beach Skatepark in Los Angeles from March to July 2022.\\\\nBarbie premiered at the Shrine Auditorium in Los Angeles on July 9, 2023, and was theatrically released in the United States on July 21 by Warner Bros. Pictures. Its simultaneous release with Universal\\\\\\'s Oppenheimer led to the \"Barbenheimer\" cultural phenomenon, which encouraged audiences to see both films as a double feature. The film received critical acclaim and has grossed $1.28 billion worldwide, becoming the second highest-grossing film of 2023, as well as the highest-grossing film directed solely by a woman and the 21st highest-grossing film of all-time.\\\\n\\\\n\\', \\'source\\': \\'https://en.wikipedia.org/wiki/Barbie_(film)\\'}), Document(page_content=\\'fictional Barbieland. While many reviews of the film interpreted this as a critique of the song, director Greta Gerwig said that she was a fan of Matchbox Twenty and \"I never put anything in a movie I don’t love.\"\\', metadata={\\'title\\': \\'Barbie (film)\\', \\'summary\\': \\'Barbie is a 2023 American fantasy comedy film directed by Greta Gerwig from a screenplay she wrote with Noah Baumbach. Based on the Barbie fashion dolls by Mattel, it is the first live-action Barbie film after numerous computer-animated films and specials. The film follows Barbie (Margot Robbie) and Ken (Ryan Gosling) on a journey of self-discovery following an existential crisis. It features an ensemble supporting cast, including America Ferrera, Kate McKinnon, Helen Mirren, Issa Rae, Simu Liu, Michael Cera, Rhea Perlman, and Will Ferrell.\\\\nA live-action Barbie film was announced in September 2009 by Universal Pictures with Laurence Mark producing. Development began in April 2014, when Sony Pictures acquired the film rights. Following multiple writer and director changes and the casting of Amy Schumer and later Anne Hathaway as Barbie, the rights were transferred to Warner Bros. Pictures in October 2018. Robbie was cast in 2019, after Gal Gadot turned down the role due to scheduling conflicts, and Gerwig was announced as director and co-writer with Baumbach in 2020. The rest of the cast were announced in early 2022. Filming took place primarily at Warner Bros. Studios, Leavesden, in England and on the Venice Beach Skatepark in Los Angeles from March to July 2022.\\\\nBarbie premiered at the Shrine Auditorium in Los Angeles on July 9, 2023, and was theatrically released in the United States on July 21 by Warner Bros. Pictures. Its simultaneous release with Universal\\\\\\'s Oppenheimer led to the \"Barbenheimer\" cultural phenomenon, which encouraged audiences to see both films as a double feature. The film received critical acclaim and has grossed $1.28 billion worldwide, becoming the second highest-grossing film of 2023, as well as the highest-grossing film directed solely by a woman and the 21st highest-grossing film of all-time.\\\\n\\\\n\\', \\'source\\': \\'https://en.wikipedia.org/wiki/Barbie_(film)\\'})]', additional_kwargs={}, name='Wikipedia'), AIMessage(content='The Barbie movie is a 2023 American fantasy comedy film directed by Greta Gerwig. It is the first live-action Barbie film based on the Barbie fashion dolls by Mattel. The film follows Barbie (played by Margot Robbie) and Ken (played by Ryan Gosling) on a journey of self-discovery following an existential crisis. The movie features an ensemble supporting cast, including America Ferrera, Kate McKinnon, Helen Mirren, Issa Rae, Simu Liu, Michael Cera, Rhea Perlman, and Will Ferrell. The film received critical acclaim and has become one of the highest-grossing films of 2023.', additional_kwargs={}, example=False), HumanMessage(content='What did people like about the Barbie movie?', additional_kwargs={}, example=False), AIMessage(content=\"People who enjoyed the Barbie movie appreciated various aspects of it. Here are some things that people liked about the movie:\\n\\n1. Visual Spectacle: One reviewer mentioned that the movie is a wonderful visual spectacle. It likely includes visually stunning scenes and creative physical comedy.\\n\\n2. Fun and Entertainment: Another reviewer mentioned that the movie is fun and entertaining for all ages. This suggests that the movie provides an enjoyable and engaging experience.\\n\\n3. Doll-Like Elements: Some viewers appreciated the doll-like elements in the movie, such as the plastic and fake food, the gliding cars, and the doll-like movements of the actors. These elements may have added a unique and whimsical touch to the film.\\n\\n4. Empowerment Themes: The movie seemed to touch many people, with some appreciating the theme of empowerment. It likely portrays Barbie and other characters as strong and capable individuals, inspiring viewers.\\n\\n5. Unique Perspective on Gender Norms: One reviewer praised the movie for its darkly satirical look at gender structure in society. This suggests that the film provides a unique perspective on societal gender norms, which may have resonated with some viewers.\\n\\nIt's important to note that these are individual opinions, and your own experience and interpretation of the movie may vary.\", additional_kwargs={}, example=False)], 'output': \"People who enjoyed the Barbie movie appreciated various aspects of it. Here are some things that people liked about the movie:\\n\\n1. Visual Spectacle: One reviewer mentioned that the movie is a wonderful visual spectacle. It likely includes visually stunning scenes and creative physical comedy.\\n\\n2. Fun and Entertainment: Another reviewer mentioned that the movie is fun and entertaining for all ages. This suggests that the movie provides an enjoyable and engaging experience.\\n\\n3. Doll-Like Elements: Some viewers appreciated the doll-like elements in the movie, such as the plastic and fake food, the gliding cars, and the doll-like movements of the actors. These elements may have added a unique and whimsical touch to the film.\\n\\n4. Empowerment Themes: The movie seemed to touch many people, with some appreciating the theme of empowerment. It likely portrays Barbie and other characters as strong and capable individuals, inspiring viewers.\\n\\n5. Unique Perspective on Gender Norms: One reviewer praised the movie for its darkly satirical look at gender structure in society. This suggests that the film provides a unique perspective on societal gender norms, which may have resonated with some viewers.\\n\\nIt's important to note that these are individual opinions, and your own experience and interpretation of the movie may vary.\", 'intermediate_steps': []}\u001b[0m\n",
            "Thought:\u001b[32;1m\u001b[1;3mI now know the final answer.\n",
            "Final Answer: People liked various aspects of the Barbie movie, including its visual spectacle, fun and entertainment value, doll-like elements, empowerment themes, and unique perspective on gender norms. However, it's important to note that these are individual opinions, and your own experience and interpretation of the movie may vary.\u001b[0m\n",
            "\n",
            "\u001b[1m> Finished chain.\u001b[0m\n"
          ]
        },
        {
          "output_type": "execute_result",
          "data": {
            "text/plain": [
              "{'input': 'What did people like about the Barbie movie?',\n",
              " 'output': \"People liked various aspects of the Barbie movie, including its visual spectacle, fun and entertainment value, doll-like elements, empowerment themes, and unique perspective on gender norms. However, it's important to note that these are individual opinions, and your own experience and interpretation of the movie may vary.\"}"
            ]
          },
          "metadata": {},
          "execution_count": 33
        }
      ],
      "source": [
        "barbenheimer_agent_chain.invoke({\"input\" : \"What did people like about the Barbie movie?\"})"
      ]
    },
    {
      "cell_type": "code",
      "execution_count": 34,
      "metadata": {
        "colab": {
          "base_uri": "https://localhost:8080/",
          "height": 305
        },
        "id": "_jhCS4V7Wxln",
        "outputId": "ba59c181-d6d1-4729-9f97-996671f29e10"
      },
      "outputs": [
        {
          "output_type": "stream",
          "name": "stdout",
          "text": [
            "\n",
            "\n",
            "\u001b[1m> Entering new AgentExecutor chain...\u001b[0m\n",
            "\u001b[32;1m\u001b[1;3mThought: I don't have any information about the Oppenheimer movie.\n",
            "Action: OppenheimerTool\n",
            "Action Input: \"What did people like about the Oppenheimer movie?\"\u001b[0m\n",
            "Observation: \u001b[33;1m\u001b[1;3mcontent='People liked the screenplay, the performances of the cast (particularly those of Murphy and Downey), and the visuals of the Oppenheimer movie. They also praised the film for being compelling, engaging, and simple to understand. The cinematography was also highly praised, and the film received critical acclaim for its cast performances, screenplay, and visuals.' additional_kwargs={} example=False\u001b[0m\n",
            "Thought:\u001b[32;1m\u001b[1;3mI now know the final answer\n",
            "Final Answer: People liked the screenplay, the performances of the cast (particularly those of Murphy and Downey), and the visuals of the Oppenheimer movie. They also praised the film for being compelling, engaging, and simple to understand. The cinematography was also highly praised, and the film received critical acclaim for its cast performances, screenplay, and visuals.\u001b[0m\n",
            "\n",
            "\u001b[1m> Finished chain.\u001b[0m\n"
          ]
        },
        {
          "output_type": "execute_result",
          "data": {
            "text/plain": [
              "'People liked the screenplay, the performances of the cast (particularly those of Murphy and Downey), and the visuals of the Oppenheimer movie. They also praised the film for being compelling, engaging, and simple to understand. The cinematography was also highly praised, and the film received critical acclaim for its cast performances, screenplay, and visuals.'"
            ],
            "application/vnd.google.colaboratory.intrinsic+json": {
              "type": "string"
            }
          },
          "metadata": {},
          "execution_count": 34
        }
      ],
      "source": [
        "barbenheimer_agent_chain.run({\"input\" : \"What did people like about the Oppenheimer movie?\"})"
      ]
    },
    {
      "cell_type": "code",
      "execution_count": 35,
      "metadata": {
        "colab": {
          "base_uri": "https://localhost:8080/",
          "height": 752
        },
        "id": "U2TvrQB9Wxln",
        "outputId": "a80bf1e3-f696-442c-e97d-50b6675e4c4e"
      },
      "outputs": [
        {
          "output_type": "stream",
          "name": "stdout",
          "text": [
            "\n",
            "\n",
            "\u001b[1m> Entering new AgentExecutor chain...\u001b[0m\n",
            "\u001b[32;1m\u001b[1;3mThought: I need to determine if the movies Barbie and Oppenheimer share similar themes or ideas.\n",
            "Action: OppenheimerTool\n",
            "Action Input: \"themes and ideas of Oppenheimer\"\u001b[0m\n",
            "Observation: \u001b[33;1m\u001b[1;3mcontent=\"The themes and ideas explored in the Oppenheimer movie include:\\n\\n1. Ethical dilemmas: The movie delves into the ethical implications of Oppenheimer's involvement in the development of the atomic bomb. It raises questions about the responsibility of scientists and the consequences of their actions.\\n\\n2. Delayed reactions: The film explores the concept of delayed reactions, highlighting how individuals may not fully comprehend the impact of their actions in the moment. It suggests that the long-term consequences of Oppenheimer's work become apparent over time.\\n\\n3. Personal conflicts: Oppenheimer's internal conflicts and personal struggles are depicted in the movie. It delves into his psyche and the emotional toll of his choices, particularly in the face of the red scare and McCarthyism.\\n\\n4. Paranoia and shadow: The film portrays the atmosphere of paranoia and the shadow that hangs over Oppenheimer due to the development of the atomic bomb. It explores the pressure and scrutiny he faces, as well as the fear of the enemy obtaining such a weapon.\\n\\n5. Trust and betrayal: The movie raises questions about trust and betrayal, particularly in the context of Oppenheimer's relationships with those around him. It examines whether the ones claiming to fight for him are trustworthy and the challenges of navigating political alliances.\\n\\n6. Mankind and the impact of technology: Oppenheimer is portrayed as a symbol of mankind's potential for both scientific advancement and destruction. The film explores the broader implications of the atomic bomb and the impact of technology on humanity.\\n\\nOverall, Oppenheimer delves into complex themes of ethics, personal conflicts, trust, and the consequences of scientific advancements, offering a thought-provoking exploration of J. Robert Oppenheimer's life and the era in which he lived.\" additional_kwargs={} example=False\u001b[0m\n",
            "Thought:\u001b[32;1m\u001b[1;3mI have gathered information about the themes and ideas explored in the movie Oppenheimer. Now I need to gather information about the themes and ideas in the movie Barbie to compare them.\n",
            "Action: BarbieTool\n",
            "Action Input: \"themes and ideas of Barbie\"\u001b[0m\n",
            "\n",
            "\u001b[1m> Entering new AgentExecutor chain...\u001b[0m\n",
            "\u001b[32;1m\u001b[1;3mThe Barbie movie explores several themes and ideas that are relevant to its storyline and characters. Here are some of the themes and ideas that are commonly associated with Barbie:\n",
            "\n",
            "1. Self-Discovery: The movie follows Barbie and Ken on a journey of self-discovery. This theme suggests that the characters are on a quest to understand themselves better, find their purpose, and embrace their true identities.\n",
            "\n",
            "2. Empowerment: Barbie is often associated with empowerment, and the movie likely explores this theme as well. It may depict Barbie and other characters as strong, confident, and capable individuals who overcome challenges and inspire others.\n",
            "\n",
            "3. Breaking Gender Stereotypes: Barbie has been a subject of discussion regarding gender stereotypes, and the movie may address this issue as well. It might challenge traditional gender roles and norms, encouraging viewers to question and redefine societal expectations.\n",
            "\n",
            "4. Individuality and Acceptance: Barbie is known for promoting individuality and self-expression. The movie may emphasize the importance of embracing one's uniqueness and accepting others for who they are.\n",
            "\n",
            "5. Friendship and Collaboration: Barbie is often depicted as having a strong circle of friends, and the movie may highlight the value of friendship and collaboration. It might emphasize the power of teamwork and the support that comes from meaningful relationships.\n",
            "\n",
            "6. Imagination and Creativity: Barbie is associated with imagination and creativity, and the movie may celebrate these qualities. It might encourage viewers to embrace their imagination, think outside the box, and pursue their creative passions.\n",
            "\n",
            "These themes and ideas are commonly associated with Barbie, but it's important to note that the specific themes explored in the movie may vary. The movie's storyline and characters will ultimately determine the themes and ideas it presents.\u001b[0m\n",
            "\n",
            "\u001b[1m> Finished chain.\u001b[0m\n",
            "\n",
            "Observation: \u001b[36;1m\u001b[1;3m{'input': 'themes and ideas of Barbie', 'chat_history': [HumanMessage(content='What is a very quick summary of the plot of the Barbie movie?', additional_kwargs={}, example=False), AIMessage(content='', additional_kwargs={'function_call': {'name': 'Wikipedia', 'arguments': '{\\n  \"__arg1\": \"Barbie movie\"\\n}'}}, example=False), FunctionMessage(content='[Document(page_content=\\'Barbie is a 2023 American fantasy comedy film directed by Greta Gerwig from a screenplay she wrote with Noah Baumbach. Based on the Barbie fashion dolls by Mattel, it is the first live-action Barbie film after numerous computer-animated films and specials. The film follows Barbie (Margot Robbie) and Ken (Ryan Gosling) on a journey of self-discovery following an existential crisis. It features an ensemble supporting cast, including America Ferrera, Kate McKinnon, Helen Mirren, Issa Rae, Simu Liu,\\', metadata={\\'title\\': \\'Barbie (film)\\', \\'summary\\': \\'Barbie is a 2023 American fantasy comedy film directed by Greta Gerwig from a screenplay she wrote with Noah Baumbach. Based on the Barbie fashion dolls by Mattel, it is the first live-action Barbie film after numerous computer-animated films and specials. The film follows Barbie (Margot Robbie) and Ken (Ryan Gosling) on a journey of self-discovery following an existential crisis. It features an ensemble supporting cast, including America Ferrera, Kate McKinnon, Helen Mirren, Issa Rae, Simu Liu, Michael Cera, Rhea Perlman, and Will Ferrell.\\\\nA live-action Barbie film was announced in September 2009 by Universal Pictures with Laurence Mark producing. Development began in April 2014, when Sony Pictures acquired the film rights. Following multiple writer and director changes and the casting of Amy Schumer and later Anne Hathaway as Barbie, the rights were transferred to Warner Bros. Pictures in October 2018. Robbie was cast in 2019, after Gal Gadot turned down the role due to scheduling conflicts, and Gerwig was announced as director and co-writer with Baumbach in 2020. The rest of the cast were announced in early 2022. Filming took place primarily at Warner Bros. Studios, Leavesden, in England and on the Venice Beach Skatepark in Los Angeles from March to July 2022.\\\\nBarbie premiered at the Shrine Auditorium in Los Angeles on July 9, 2023, and was theatrically released in the United States on July 21 by Warner Bros. Pictures. Its simultaneous release with Universal\\\\\\'s Oppenheimer led to the \"Barbenheimer\" cultural phenomenon, which encouraged audiences to see both films as a double feature. The film received critical acclaim and has grossed $1.28 billion worldwide, becoming the second highest-grossing film of 2023, as well as the highest-grossing film directed solely by a woman and the 21st highest-grossing film of all-time.\\\\n\\\\n\\', \\'source\\': \\'https://en.wikipedia.org/wiki/Barbie_(film)\\'}), Document(page_content=\\'fictional Barbieland. While many reviews of the film interpreted this as a critique of the song, director Greta Gerwig said that she was a fan of Matchbox Twenty and \"I never put anything in a movie I don’t love.\"\\', metadata={\\'title\\': \\'Barbie (film)\\', \\'summary\\': \\'Barbie is a 2023 American fantasy comedy film directed by Greta Gerwig from a screenplay she wrote with Noah Baumbach. Based on the Barbie fashion dolls by Mattel, it is the first live-action Barbie film after numerous computer-animated films and specials. The film follows Barbie (Margot Robbie) and Ken (Ryan Gosling) on a journey of self-discovery following an existential crisis. It features an ensemble supporting cast, including America Ferrera, Kate McKinnon, Helen Mirren, Issa Rae, Simu Liu, Michael Cera, Rhea Perlman, and Will Ferrell.\\\\nA live-action Barbie film was announced in September 2009 by Universal Pictures with Laurence Mark producing. Development began in April 2014, when Sony Pictures acquired the film rights. Following multiple writer and director changes and the casting of Amy Schumer and later Anne Hathaway as Barbie, the rights were transferred to Warner Bros. Pictures in October 2018. Robbie was cast in 2019, after Gal Gadot turned down the role due to scheduling conflicts, and Gerwig was announced as director and co-writer with Baumbach in 2020. The rest of the cast were announced in early 2022. Filming took place primarily at Warner Bros. Studios, Leavesden, in England and on the Venice Beach Skatepark in Los Angeles from March to July 2022.\\\\nBarbie premiered at the Shrine Auditorium in Los Angeles on July 9, 2023, and was theatrically released in the United States on July 21 by Warner Bros. Pictures. Its simultaneous release with Universal\\\\\\'s Oppenheimer led to the \"Barbenheimer\" cultural phenomenon, which encouraged audiences to see both films as a double feature. The film received critical acclaim and has grossed $1.28 billion worldwide, becoming the second highest-grossing film of 2023, as well as the highest-grossing film directed solely by a woman and the 21st highest-grossing film of all-time.\\\\n\\\\n\\', \\'source\\': \\'https://en.wikipedia.org/wiki/Barbie_(film)\\'})]', additional_kwargs={}, name='Wikipedia'), AIMessage(content='The Barbie movie is a 2023 American fantasy comedy film directed by Greta Gerwig. It is the first live-action Barbie film based on the Barbie fashion dolls by Mattel. The film follows Barbie (played by Margot Robbie) and Ken (played by Ryan Gosling) on a journey of self-discovery following an existential crisis. The movie features an ensemble supporting cast, including America Ferrera, Kate McKinnon, Helen Mirren, Issa Rae, Simu Liu, Michael Cera, Rhea Perlman, and Will Ferrell. The film received critical acclaim and has become one of the highest-grossing films of 2023.', additional_kwargs={}, example=False), HumanMessage(content='What did people like about the Barbie movie?', additional_kwargs={}, example=False), AIMessage(content=\"People who enjoyed the Barbie movie appreciated various aspects of it. Here are some things that people liked about the movie:\\n\\n1. Visual Spectacle: One reviewer mentioned that the movie is a wonderful visual spectacle. It likely includes visually stunning scenes and creative physical comedy.\\n\\n2. Fun and Entertainment: Another reviewer mentioned that the movie is fun and entertaining for all ages. This suggests that the movie provides an enjoyable and engaging experience.\\n\\n3. Doll-Like Elements: Some viewers appreciated the doll-like elements in the movie, such as the plastic and fake food, the gliding cars, and the doll-like movements of the actors. These elements may have added a unique and whimsical touch to the film.\\n\\n4. Empowerment Themes: The movie seemed to touch many people, with some appreciating the theme of empowerment. It likely portrays Barbie and other characters as strong and capable individuals, inspiring viewers.\\n\\n5. Unique Perspective on Gender Norms: One reviewer praised the movie for its darkly satirical look at gender structure in society. This suggests that the film provides a unique perspective on societal gender norms, which may have resonated with some viewers.\\n\\nIt's important to note that these are individual opinions, and your own experience and interpretation of the movie may vary.\", additional_kwargs={}, example=False), HumanMessage(content='themes and ideas of Barbie', additional_kwargs={}, example=False), AIMessage(content=\"The Barbie movie explores several themes and ideas that are relevant to its storyline and characters. Here are some of the themes and ideas that are commonly associated with Barbie:\\n\\n1. Self-Discovery: The movie follows Barbie and Ken on a journey of self-discovery. This theme suggests that the characters are on a quest to understand themselves better, find their purpose, and embrace their true identities.\\n\\n2. Empowerment: Barbie is often associated with empowerment, and the movie likely explores this theme as well. It may depict Barbie and other characters as strong, confident, and capable individuals who overcome challenges and inspire others.\\n\\n3. Breaking Gender Stereotypes: Barbie has been a subject of discussion regarding gender stereotypes, and the movie may address this issue as well. It might challenge traditional gender roles and norms, encouraging viewers to question and redefine societal expectations.\\n\\n4. Individuality and Acceptance: Barbie is known for promoting individuality and self-expression. The movie may emphasize the importance of embracing one's uniqueness and accepting others for who they are.\\n\\n5. Friendship and Collaboration: Barbie is often depicted as having a strong circle of friends, and the movie may highlight the value of friendship and collaboration. It might emphasize the power of teamwork and the support that comes from meaningful relationships.\\n\\n6. Imagination and Creativity: Barbie is associated with imagination and creativity, and the movie may celebrate these qualities. It might encourage viewers to embrace their imagination, think outside the box, and pursue their creative passions.\\n\\nThese themes and ideas are commonly associated with Barbie, but it's important to note that the specific themes explored in the movie may vary. The movie's storyline and characters will ultimately determine the themes and ideas it presents.\", additional_kwargs={}, example=False)], 'output': \"The Barbie movie explores several themes and ideas that are relevant to its storyline and characters. Here are some of the themes and ideas that are commonly associated with Barbie:\\n\\n1. Self-Discovery: The movie follows Barbie and Ken on a journey of self-discovery. This theme suggests that the characters are on a quest to understand themselves better, find their purpose, and embrace their true identities.\\n\\n2. Empowerment: Barbie is often associated with empowerment, and the movie likely explores this theme as well. It may depict Barbie and other characters as strong, confident, and capable individuals who overcome challenges and inspire others.\\n\\n3. Breaking Gender Stereotypes: Barbie has been a subject of discussion regarding gender stereotypes, and the movie may address this issue as well. It might challenge traditional gender roles and norms, encouraging viewers to question and redefine societal expectations.\\n\\n4. Individuality and Acceptance: Barbie is known for promoting individuality and self-expression. The movie may emphasize the importance of embracing one's uniqueness and accepting others for who they are.\\n\\n5. Friendship and Collaboration: Barbie is often depicted as having a strong circle of friends, and the movie may highlight the value of friendship and collaboration. It might emphasize the power of teamwork and the support that comes from meaningful relationships.\\n\\n6. Imagination and Creativity: Barbie is associated with imagination and creativity, and the movie may celebrate these qualities. It might encourage viewers to embrace their imagination, think outside the box, and pursue their creative passions.\\n\\nThese themes and ideas are commonly associated with Barbie, but it's important to note that the specific themes explored in the movie may vary. The movie's storyline and characters will ultimately determine the themes and ideas it presents.\", 'intermediate_steps': []}\u001b[0m\n",
            "Thought:\u001b[32;1m\u001b[1;3mI have gathered information about the themes and ideas explored in the movies Oppenheimer and Barbie. Now I need to compare them to determine if they share similar themes or ideas.\n",
            "Final Answer: The movies Oppenheimer and Barbie explore different themes and ideas. Oppenheimer delves into complex themes of ethics, personal conflicts, trust, and the consequences of scientific advancements. On the other hand, Barbie explores themes of self-discovery, empowerment, breaking gender stereotypes, individuality and acceptance, friendship and collaboration, and imagination and creativity. While both movies touch on personal conflicts and the consequences of actions, they have distinct focuses and explore different aspects of these themes.\u001b[0m\n",
            "\n",
            "\u001b[1m> Finished chain.\u001b[0m\n"
          ]
        },
        {
          "output_type": "execute_result",
          "data": {
            "text/plain": [
              "'The movies Oppenheimer and Barbie explore different themes and ideas. Oppenheimer delves into complex themes of ethics, personal conflicts, trust, and the consequences of scientific advancements. On the other hand, Barbie explores themes of self-discovery, empowerment, breaking gender stereotypes, individuality and acceptance, friendship and collaboration, and imagination and creativity. While both movies touch on personal conflicts and the consequences of actions, they have distinct focuses and explore different aspects of these themes.'"
            ],
            "application/vnd.google.colaboratory.intrinsic+json": {
              "type": "string"
            }
          },
          "metadata": {},
          "execution_count": 35
        }
      ],
      "source": [
        "barbenheimer_agent_chain.run({\"input\" : \"Did the movies Barbie and Oppenheimer share similar themes or ideas?\"})"
      ]
    },
    {
      "cell_type": "markdown",
      "metadata": {
        "id": "aji0PgxkWxln"
      },
      "source": [
        "## Next Steps\n",
        "\n",
        "It's time to build a Chainlit (or Gradio) application and host it on Hugging Face Spaces! :ship:"
      ]
    }
  ],
  "metadata": {
    "kernelspec": {
      "display_name": "barbenheimer-week-1",
      "language": "python",
      "name": "python3"
    },
    "language_info": {
      "codemirror_mode": {
        "name": "ipython",
        "version": 3
      },
      "file_extension": ".py",
      "mimetype": "text/x-python",
      "name": "python",
      "nbconvert_exporter": "python",
      "pygments_lexer": "ipython3",
      "version": "3.11.4"
    },
    "orig_nbformat": 4,
    "colab": {
      "provenance": []
    }
  },
  "nbformat": 4,
  "nbformat_minor": 0
}